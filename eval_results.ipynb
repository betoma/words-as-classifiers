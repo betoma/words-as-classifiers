{
 "metadata": {
  "language_info": {
   "codemirror_mode": {
    "name": "ipython",
    "version": 3
   },
   "file_extension": ".py",
   "mimetype": "text/x-python",
   "name": "python",
   "nbconvert_exporter": "python",
   "pygments_lexer": "ipython3",
   "version": "3.8.2-final"
  },
  "orig_nbformat": 2,
  "kernelspec": {
   "name": "python3",
   "display_name": "Python 3",
   "language": "python"
  }
 },
 "nbformat": 4,
 "nbformat_minor": 2,
 "cells": [
  {
   "cell_type": "code",
   "execution_count": 1,
   "metadata": {},
   "outputs": [],
   "source": [
    "import pandas as pd\n",
    "import matplotlib.pyplot as plt"
   ]
  },
  {
   "cell_type": "code",
   "execution_count": 2,
   "metadata": {},
   "outputs": [],
   "source": [
    "sent_df = pd.read_pickle(\"./data/processed_data.pkl\")"
   ]
  },
  {
   "cell_type": "code",
   "execution_count": 17,
   "metadata": {},
   "outputs": [],
   "source": [
    "class_cols = list(sent_df.iloc[:,4:16].columns)\n",
    "mixed_cols = list(sent_df.iloc[:,17:].columns)"
   ]
  },
  {
   "cell_type": "code",
   "execution_count": 11,
   "metadata": {},
   "outputs": [],
   "source": [
    "def class_results(row, col_name):\n",
    "    if row[col_name] == \"PARSE_FAIL\":\n",
    "        return \"PARSE_FAIL\"\n",
    "    elif row[\"gold_label\"]:\n",
    "        if row[col_name]:\n",
    "            return \"True Positive\"\n",
    "        else:\n",
    "            return \"False Negative\"\n",
    "    else:\n",
    "        if row[col_name]:\n",
    "            return \"False Positive\"\n",
    "        else:\n",
    "            return \"True Negative\""
   ]
  },
  {
   "cell_type": "code",
   "execution_count": 18,
   "metadata": {},
   "outputs": [
    {
     "output_type": "execute_result",
     "data": {
      "text/plain": [
       "  classical@0.0001 classical@0.00025 classical@0.0005 classical@0.00075  \\\n",
       "0    True Positive     True Positive    True Positive     True Positive   \n",
       "1    True Negative     True Negative    True Negative     True Negative   \n",
       "2    True Negative     True Negative    True Negative     True Negative   \n",
       "3    True Positive     True Positive    True Positive     True Positive   \n",
       "4    True Positive     True Positive    True Positive     True Positive   \n",
       "\n",
       "  classical@0.001 classical@0.0025 classical@0.005 classical@0.0075  \\\n",
       "0   True Positive    True Positive   True Positive    True Positive   \n",
       "1   True Negative    True Negative   True Negative    True Negative   \n",
       "2   True Negative    True Negative   True Negative    True Negative   \n",
       "3   True Positive   False Negative  False Negative   False Negative   \n",
       "4   True Positive    True Positive   True Positive    True Positive   \n",
       "\n",
       "   classical@0.01 classical@0.025  classical@0.05 classical@0.075  \n",
       "0   True Positive   True Positive   True Positive   True Positive  \n",
       "1   True Negative   True Negative   True Negative   True Negative  \n",
       "2   True Negative   True Negative   True Negative   True Negative  \n",
       "3  False Negative  False Negative  False Negative  False Negative  \n",
       "4   True Positive   True Positive   True Positive   True Positive  "
      ],
      "text/html": "<div>\n<style scoped>\n    .dataframe tbody tr th:only-of-type {\n        vertical-align: middle;\n    }\n\n    .dataframe tbody tr th {\n        vertical-align: top;\n    }\n\n    .dataframe thead th {\n        text-align: right;\n    }\n</style>\n<table border=\"1\" class=\"dataframe\">\n  <thead>\n    <tr style=\"text-align: right;\">\n      <th></th>\n      <th>classical@0.0001</th>\n      <th>classical@0.00025</th>\n      <th>classical@0.0005</th>\n      <th>classical@0.00075</th>\n      <th>classical@0.001</th>\n      <th>classical@0.0025</th>\n      <th>classical@0.005</th>\n      <th>classical@0.0075</th>\n      <th>classical@0.01</th>\n      <th>classical@0.025</th>\n      <th>classical@0.05</th>\n      <th>classical@0.075</th>\n    </tr>\n  </thead>\n  <tbody>\n    <tr>\n      <th>0</th>\n      <td>True Positive</td>\n      <td>True Positive</td>\n      <td>True Positive</td>\n      <td>True Positive</td>\n      <td>True Positive</td>\n      <td>True Positive</td>\n      <td>True Positive</td>\n      <td>True Positive</td>\n      <td>True Positive</td>\n      <td>True Positive</td>\n      <td>True Positive</td>\n      <td>True Positive</td>\n    </tr>\n    <tr>\n      <th>1</th>\n      <td>True Negative</td>\n      <td>True Negative</td>\n      <td>True Negative</td>\n      <td>True Negative</td>\n      <td>True Negative</td>\n      <td>True Negative</td>\n      <td>True Negative</td>\n      <td>True Negative</td>\n      <td>True Negative</td>\n      <td>True Negative</td>\n      <td>True Negative</td>\n      <td>True Negative</td>\n    </tr>\n    <tr>\n      <th>2</th>\n      <td>True Negative</td>\n      <td>True Negative</td>\n      <td>True Negative</td>\n      <td>True Negative</td>\n      <td>True Negative</td>\n      <td>True Negative</td>\n      <td>True Negative</td>\n      <td>True Negative</td>\n      <td>True Negative</td>\n      <td>True Negative</td>\n      <td>True Negative</td>\n      <td>True Negative</td>\n    </tr>\n    <tr>\n      <th>3</th>\n      <td>True Positive</td>\n      <td>True Positive</td>\n      <td>True Positive</td>\n      <td>True Positive</td>\n      <td>True Positive</td>\n      <td>False Negative</td>\n      <td>False Negative</td>\n      <td>False Negative</td>\n      <td>False Negative</td>\n      <td>False Negative</td>\n      <td>False Negative</td>\n      <td>False Negative</td>\n    </tr>\n    <tr>\n      <th>4</th>\n      <td>True Positive</td>\n      <td>True Positive</td>\n      <td>True Positive</td>\n      <td>True Positive</td>\n      <td>True Positive</td>\n      <td>True Positive</td>\n      <td>True Positive</td>\n      <td>True Positive</td>\n      <td>True Positive</td>\n      <td>True Positive</td>\n      <td>True Positive</td>\n      <td>True Positive</td>\n    </tr>\n  </tbody>\n</table>\n</div>"
     },
     "metadata": {},
     "execution_count": 18
    }
   ],
   "source": [
    "classical_df = pd.DataFrame(columns=class_cols)\n",
    "for col in class_cols:\n",
    "    classical_df[col] = sent_df.apply(lambda row: class_results(row, col), axis=1)\n",
    "classical_df.head()"
   ]
  },
  {
   "cell_type": "code",
   "execution_count": 19,
   "metadata": {},
   "outputs": [
    {
     "output_type": "execute_result",
     "data": {
      "text/plain": [
       "    mixed@0.0001  mixed@0.00025   mixed@0.0005  mixed@0.00075    mixed@0.001  \\\n",
       "0  True Positive  True Positive  True Positive  True Positive  True Positive   \n",
       "1  True Negative  True Negative  True Negative  True Negative  True Negative   \n",
       "2  True Negative  True Negative  True Negative  True Negative  True Negative   \n",
       "3  True Positive  True Positive  True Positive  True Positive  True Positive   \n",
       "4  True Positive  True Positive  True Positive  True Positive  True Positive   \n",
       "\n",
       "     mixed@0.0025     mixed@0.005    mixed@0.0075      mixed@0.01  \\\n",
       "0   True Positive   True Positive   True Positive   True Positive   \n",
       "1   True Negative   True Negative   True Negative   True Negative   \n",
       "2   True Negative   True Negative   True Negative   True Negative   \n",
       "3  False Negative  False Negative  False Negative  False Negative   \n",
       "4   True Positive   True Positive   True Positive   True Positive   \n",
       "\n",
       "      mixed@0.025      mixed@0.05     mixed@0.075  \n",
       "0   True Positive   True Positive   True Positive  \n",
       "1   True Negative   True Negative   True Negative  \n",
       "2   True Negative   True Negative   True Negative  \n",
       "3  False Negative  False Negative  False Negative  \n",
       "4   True Positive   True Positive   True Positive  "
      ],
      "text/html": "<div>\n<style scoped>\n    .dataframe tbody tr th:only-of-type {\n        vertical-align: middle;\n    }\n\n    .dataframe tbody tr th {\n        vertical-align: top;\n    }\n\n    .dataframe thead th {\n        text-align: right;\n    }\n</style>\n<table border=\"1\" class=\"dataframe\">\n  <thead>\n    <tr style=\"text-align: right;\">\n      <th></th>\n      <th>mixed@0.0001</th>\n      <th>mixed@0.00025</th>\n      <th>mixed@0.0005</th>\n      <th>mixed@0.00075</th>\n      <th>mixed@0.001</th>\n      <th>mixed@0.0025</th>\n      <th>mixed@0.005</th>\n      <th>mixed@0.0075</th>\n      <th>mixed@0.01</th>\n      <th>mixed@0.025</th>\n      <th>mixed@0.05</th>\n      <th>mixed@0.075</th>\n    </tr>\n  </thead>\n  <tbody>\n    <tr>\n      <th>0</th>\n      <td>True Positive</td>\n      <td>True Positive</td>\n      <td>True Positive</td>\n      <td>True Positive</td>\n      <td>True Positive</td>\n      <td>True Positive</td>\n      <td>True Positive</td>\n      <td>True Positive</td>\n      <td>True Positive</td>\n      <td>True Positive</td>\n      <td>True Positive</td>\n      <td>True Positive</td>\n    </tr>\n    <tr>\n      <th>1</th>\n      <td>True Negative</td>\n      <td>True Negative</td>\n      <td>True Negative</td>\n      <td>True Negative</td>\n      <td>True Negative</td>\n      <td>True Negative</td>\n      <td>True Negative</td>\n      <td>True Negative</td>\n      <td>True Negative</td>\n      <td>True Negative</td>\n      <td>True Negative</td>\n      <td>True Negative</td>\n    </tr>\n    <tr>\n      <th>2</th>\n      <td>True Negative</td>\n      <td>True Negative</td>\n      <td>True Negative</td>\n      <td>True Negative</td>\n      <td>True Negative</td>\n      <td>True Negative</td>\n      <td>True Negative</td>\n      <td>True Negative</td>\n      <td>True Negative</td>\n      <td>True Negative</td>\n      <td>True Negative</td>\n      <td>True Negative</td>\n    </tr>\n    <tr>\n      <th>3</th>\n      <td>True Positive</td>\n      <td>True Positive</td>\n      <td>True Positive</td>\n      <td>True Positive</td>\n      <td>True Positive</td>\n      <td>False Negative</td>\n      <td>False Negative</td>\n      <td>False Negative</td>\n      <td>False Negative</td>\n      <td>False Negative</td>\n      <td>False Negative</td>\n      <td>False Negative</td>\n    </tr>\n    <tr>\n      <th>4</th>\n      <td>True Positive</td>\n      <td>True Positive</td>\n      <td>True Positive</td>\n      <td>True Positive</td>\n      <td>True Positive</td>\n      <td>True Positive</td>\n      <td>True Positive</td>\n      <td>True Positive</td>\n      <td>True Positive</td>\n      <td>True Positive</td>\n      <td>True Positive</td>\n      <td>True Positive</td>\n    </tr>\n  </tbody>\n</table>\n</div>"
     },
     "metadata": {},
     "execution_count": 19
    }
   ],
   "source": [
    "mixed_df = pd.DataFrame(columns=mixed_cols)\n",
    "for col in mixed_cols:\n",
    "    mixed_df[col] = sent_df.apply(lambda row: class_results(row, col), axis=1)\n",
    "mixed_df.head()"
   ]
  },
  {
   "cell_type": "code",
   "execution_count": 20,
   "metadata": {},
   "outputs": [],
   "source": [
    "def get_scores(dist):\n",
    "    vals = dist.value_counts()\n",
    "    tp = vals[\"True Positive\"]\n",
    "    fp = vals[\"False Positive\"]\n",
    "    tn = vals[\"True Negative\"]\n",
    "    fn = vals[\"False Negative\"]\n",
    "    pf = vals[\"PARSE_FAIL\"]\n",
    "    acc = (tp + tn) / (tp + tn + fp + fn + pf)\n",
    "    acc_wo_pf = (tp + tn) / (tp + tn + fp + fn)\n",
    "    prec = tp / (tp + fp)\n",
    "    rec = tp / (tp + fn)\n",
    "    f1 = 2 * ((prec * rec) / (prec + rec))\n",
    "    return acc, acc_wo_pf, prec, rec, f1\n"
   ]
  },
  {
   "cell_type": "code",
   "execution_count": 21,
   "metadata": {},
   "outputs": [
    {
     "output_type": "execute_result",
     "data": {
      "text/plain": [
       "               Accuracy  Accuracy_wo_parsefails  Precision    Recall        F1\n",
       "mixed@0.0001   0.848813                0.850569   0.819138  0.887108  0.851770\n",
       "mixed@0.00025  0.857757                0.859531   0.843502  0.871439  0.857243\n",
       "mixed@0.0005   0.864637                0.866425   0.865253  0.857550  0.861384\n",
       "mixed@0.00075  0.864809                0.866598   0.873074  0.847578  0.860137\n",
       "mixed@0.001    0.866357                0.868149   0.878474  0.844373  0.861086\n",
       "mixed@0.0025   0.866529                0.868321   0.893986  0.825855  0.858571\n",
       "mixed@0.005    0.863777                0.865564   0.908541  0.803063  0.852552\n",
       "mixed@0.0075   0.861369                0.863151   0.913383  0.792379  0.848589\n",
       "mixed@0.01     0.860337                0.862117   0.918682  0.784544  0.846331\n",
       "mixed@0.025    0.852941                0.854705   0.930355  0.756410  0.834414\n",
       "mixed@0.05     0.847953                0.849707   0.938803  0.737536  0.826087\n",
       "mixed@0.075    0.841589                0.843330   0.943484  0.719373  0.816327"
      ],
      "text/html": "<div>\n<style scoped>\n    .dataframe tbody tr th:only-of-type {\n        vertical-align: middle;\n    }\n\n    .dataframe tbody tr th {\n        vertical-align: top;\n    }\n\n    .dataframe thead th {\n        text-align: right;\n    }\n</style>\n<table border=\"1\" class=\"dataframe\">\n  <thead>\n    <tr style=\"text-align: right;\">\n      <th></th>\n      <th>Accuracy</th>\n      <th>Accuracy_wo_parsefails</th>\n      <th>Precision</th>\n      <th>Recall</th>\n      <th>F1</th>\n    </tr>\n  </thead>\n  <tbody>\n    <tr>\n      <th>mixed@0.0001</th>\n      <td>0.848813</td>\n      <td>0.850569</td>\n      <td>0.819138</td>\n      <td>0.887108</td>\n      <td>0.851770</td>\n    </tr>\n    <tr>\n      <th>mixed@0.00025</th>\n      <td>0.857757</td>\n      <td>0.859531</td>\n      <td>0.843502</td>\n      <td>0.871439</td>\n      <td>0.857243</td>\n    </tr>\n    <tr>\n      <th>mixed@0.0005</th>\n      <td>0.864637</td>\n      <td>0.866425</td>\n      <td>0.865253</td>\n      <td>0.857550</td>\n      <td>0.861384</td>\n    </tr>\n    <tr>\n      <th>mixed@0.00075</th>\n      <td>0.864809</td>\n      <td>0.866598</td>\n      <td>0.873074</td>\n      <td>0.847578</td>\n      <td>0.860137</td>\n    </tr>\n    <tr>\n      <th>mixed@0.001</th>\n      <td>0.866357</td>\n      <td>0.868149</td>\n      <td>0.878474</td>\n      <td>0.844373</td>\n      <td>0.861086</td>\n    </tr>\n    <tr>\n      <th>mixed@0.0025</th>\n      <td>0.866529</td>\n      <td>0.868321</td>\n      <td>0.893986</td>\n      <td>0.825855</td>\n      <td>0.858571</td>\n    </tr>\n    <tr>\n      <th>mixed@0.005</th>\n      <td>0.863777</td>\n      <td>0.865564</td>\n      <td>0.908541</td>\n      <td>0.803063</td>\n      <td>0.852552</td>\n    </tr>\n    <tr>\n      <th>mixed@0.0075</th>\n      <td>0.861369</td>\n      <td>0.863151</td>\n      <td>0.913383</td>\n      <td>0.792379</td>\n      <td>0.848589</td>\n    </tr>\n    <tr>\n      <th>mixed@0.01</th>\n      <td>0.860337</td>\n      <td>0.862117</td>\n      <td>0.918682</td>\n      <td>0.784544</td>\n      <td>0.846331</td>\n    </tr>\n    <tr>\n      <th>mixed@0.025</th>\n      <td>0.852941</td>\n      <td>0.854705</td>\n      <td>0.930355</td>\n      <td>0.756410</td>\n      <td>0.834414</td>\n    </tr>\n    <tr>\n      <th>mixed@0.05</th>\n      <td>0.847953</td>\n      <td>0.849707</td>\n      <td>0.938803</td>\n      <td>0.737536</td>\n      <td>0.826087</td>\n    </tr>\n    <tr>\n      <th>mixed@0.075</th>\n      <td>0.841589</td>\n      <td>0.843330</td>\n      <td>0.943484</td>\n      <td>0.719373</td>\n      <td>0.816327</td>\n    </tr>\n  </tbody>\n</table>\n</div>"
     },
     "metadata": {},
     "execution_count": 21
    }
   ],
   "source": [
    "mixed_acc_df = mixed_df.apply(lambda col: get_scores(col), axis=0).transpose()\n",
    "mixed_acc_df.columns = [\"Accuracy\", \"Accuracy_wo_parsefails\", \"Precision\", \"Recall\", \"F1\"]\n",
    "mixed_acc_df\n"
   ]
  },
  {
   "cell_type": "code",
   "execution_count": 22,
   "metadata": {},
   "outputs": [
    {
     "output_type": "execute_result",
     "data": {
      "text/plain": [
       "                   Accuracy  Accuracy_wo_parsefails  Precision    Recall  \\\n",
       "classical@0.0001   0.817337                0.819028   0.767173  0.898860   \n",
       "classical@0.00025  0.836773                0.838504   0.802457  0.883903   \n",
       "classical@0.0005   0.844341                0.846088   0.823808  0.867521   \n",
       "classical@0.00075  0.846749                0.848501   0.834084  0.857550   \n",
       "classical@0.001    0.850361                0.852120   0.844037  0.851852   \n",
       "classical@0.0025   0.854661                0.856429   0.865335  0.832977   \n",
       "classical@0.005    0.856037                0.857808   0.885648  0.810897   \n",
       "classical@0.0075   0.858445                0.860221   0.899560  0.800570   \n",
       "classical@0.01     0.855177                0.856946   0.903673  0.788462   \n",
       "classical@0.025    0.852425                0.854188   0.922481  0.762821   \n",
       "classical@0.05     0.844341                0.846088   0.931112  0.736467   \n",
       "classical@0.075    0.840729                0.842468   0.941286  0.719373   \n",
       "\n",
       "                         F1  \n",
       "classical@0.0001   0.827812  \n",
       "classical@0.00025  0.841213  \n",
       "classical@0.0005   0.845100  \n",
       "classical@0.00075  0.845654  \n",
       "classical@0.001    0.847926  \n",
       "classical@0.0025   0.848848  \n",
       "classical@0.005    0.846626  \n",
       "classical@0.0075   0.847183  \n",
       "classical@0.01     0.842145  \n",
       "classical@0.025    0.835088  \n",
       "classical@0.05     0.822430  \n",
       "classical@0.075    0.815503  "
      ],
      "text/html": "<div>\n<style scoped>\n    .dataframe tbody tr th:only-of-type {\n        vertical-align: middle;\n    }\n\n    .dataframe tbody tr th {\n        vertical-align: top;\n    }\n\n    .dataframe thead th {\n        text-align: right;\n    }\n</style>\n<table border=\"1\" class=\"dataframe\">\n  <thead>\n    <tr style=\"text-align: right;\">\n      <th></th>\n      <th>Accuracy</th>\n      <th>Accuracy_wo_parsefails</th>\n      <th>Precision</th>\n      <th>Recall</th>\n      <th>F1</th>\n    </tr>\n  </thead>\n  <tbody>\n    <tr>\n      <th>classical@0.0001</th>\n      <td>0.817337</td>\n      <td>0.819028</td>\n      <td>0.767173</td>\n      <td>0.898860</td>\n      <td>0.827812</td>\n    </tr>\n    <tr>\n      <th>classical@0.00025</th>\n      <td>0.836773</td>\n      <td>0.838504</td>\n      <td>0.802457</td>\n      <td>0.883903</td>\n      <td>0.841213</td>\n    </tr>\n    <tr>\n      <th>classical@0.0005</th>\n      <td>0.844341</td>\n      <td>0.846088</td>\n      <td>0.823808</td>\n      <td>0.867521</td>\n      <td>0.845100</td>\n    </tr>\n    <tr>\n      <th>classical@0.00075</th>\n      <td>0.846749</td>\n      <td>0.848501</td>\n      <td>0.834084</td>\n      <td>0.857550</td>\n      <td>0.845654</td>\n    </tr>\n    <tr>\n      <th>classical@0.001</th>\n      <td>0.850361</td>\n      <td>0.852120</td>\n      <td>0.844037</td>\n      <td>0.851852</td>\n      <td>0.847926</td>\n    </tr>\n    <tr>\n      <th>classical@0.0025</th>\n      <td>0.854661</td>\n      <td>0.856429</td>\n      <td>0.865335</td>\n      <td>0.832977</td>\n      <td>0.848848</td>\n    </tr>\n    <tr>\n      <th>classical@0.005</th>\n      <td>0.856037</td>\n      <td>0.857808</td>\n      <td>0.885648</td>\n      <td>0.810897</td>\n      <td>0.846626</td>\n    </tr>\n    <tr>\n      <th>classical@0.0075</th>\n      <td>0.858445</td>\n      <td>0.860221</td>\n      <td>0.899560</td>\n      <td>0.800570</td>\n      <td>0.847183</td>\n    </tr>\n    <tr>\n      <th>classical@0.01</th>\n      <td>0.855177</td>\n      <td>0.856946</td>\n      <td>0.903673</td>\n      <td>0.788462</td>\n      <td>0.842145</td>\n    </tr>\n    <tr>\n      <th>classical@0.025</th>\n      <td>0.852425</td>\n      <td>0.854188</td>\n      <td>0.922481</td>\n      <td>0.762821</td>\n      <td>0.835088</td>\n    </tr>\n    <tr>\n      <th>classical@0.05</th>\n      <td>0.844341</td>\n      <td>0.846088</td>\n      <td>0.931112</td>\n      <td>0.736467</td>\n      <td>0.822430</td>\n    </tr>\n    <tr>\n      <th>classical@0.075</th>\n      <td>0.840729</td>\n      <td>0.842468</td>\n      <td>0.941286</td>\n      <td>0.719373</td>\n      <td>0.815503</td>\n    </tr>\n  </tbody>\n</table>\n</div>"
     },
     "metadata": {},
     "execution_count": 22
    }
   ],
   "source": [
    "class_acc_df = classical_df.apply(lambda col: get_scores(col), axis=0).transpose()\n",
    "class_acc_df.columns = [\"Accuracy\", \"Accuracy_wo_parsefails\", \"Precision\", \"Recall\", \"F1\"]\n",
    "class_acc_df"
   ]
  },
  {
   "cell_type": "code",
   "execution_count": 23,
   "metadata": {},
   "outputs": [],
   "source": [
    "def print_scores(dist):\n",
    "    acc, acc_wo_pf, prec, rec, f1 = get_scores(dist)\n",
    "    print(\"Accuracy: {:.4f}\".format(acc))\n",
    "    print(\"Accuracy (w/o parse failures): {:.4f}\".format(acc_wo_pf))\n",
    "    print(\"Percentage of parse failures: {:.4f}\".format(pf / (tp + tn + fp + fn + pf)))\n",
    "    print(\"Precision: {:.4f}\".format(prec))\n",
    "    print(\"Recall: {:.4f}\".format(rec))\n",
    "    print(\"F1 Score: {:.4f}\".format(f1))"
   ]
  },
  {
   "cell_type": "code",
   "execution_count": 37,
   "metadata": {},
   "outputs": [
    {
     "output_type": "stream",
     "name": "stdout",
     "text": [
      "classical@0.0025 mixed@0.0005\n"
     ]
    }
   ],
   "source": [
    "class_max = class_acc_df[\"F1\"].idxmax()\n",
    "mixed_max = mixed_acc_df[\"F1\"].idxmax()\n",
    "print(class_max, mixed_max)\n",
    "\n",
    "classical_dist = classical_df.loc[:,class_max]\n",
    "mixed_dist = mixed_df.loc[:,mixed_max]"
   ]
  },
  {
   "cell_type": "code",
   "execution_count": 38,
   "metadata": {},
   "outputs": [
    {
     "output_type": "execute_result",
     "data": {
      "text/plain": [
       "True Negative     2630\n",
       "True Positive     2339\n",
       "False Negative     469\n",
       "False Positive     364\n",
       "PARSE_FAIL          12\n",
       "Name: classical@0.0025, dtype: int64"
      ]
     },
     "metadata": {},
     "execution_count": 38
    }
   ],
   "source": [
    "classical_dist.value_counts()"
   ]
  },
  {
   "cell_type": "code",
   "execution_count": 39,
   "metadata": {},
   "outputs": [
    {
     "output_type": "execute_result",
     "data": {
      "text/plain": [
       "True Negative     2619\n",
       "True Positive     2408\n",
       "False Negative     400\n",
       "False Positive     375\n",
       "PARSE_FAIL          12\n",
       "Name: mixed@0.0005, dtype: int64"
      ]
     },
     "metadata": {},
     "execution_count": 39
    }
   ],
   "source": [
    "mixed_dist.value_counts()"
   ]
  },
  {
   "cell_type": "code",
   "execution_count": 40,
   "metadata": {},
   "outputs": [
    {
     "output_type": "execute_result",
     "data": {
      "text/plain": [
       "(0.8546611627106984,\n",
       " 0.8564288176490865,\n",
       " 0.8653348131705513,\n",
       " 0.832977207977208,\n",
       " 0.8488477590273998)"
      ]
     },
     "metadata": {},
     "execution_count": 40
    }
   ],
   "source": [
    "get_scores(classical_dist)"
   ]
  },
  {
   "cell_type": "code",
   "execution_count": 41,
   "metadata": {},
   "outputs": [
    {
     "output_type": "execute_result",
     "data": {
      "text/plain": [
       "(0.8646370829033367,\n",
       " 0.8664253705618752,\n",
       " 0.8652533237513474,\n",
       " 0.8575498575498576,\n",
       " 0.861384367733858)"
      ]
     },
     "metadata": {},
     "execution_count": 41
    }
   ],
   "source": [
    "get_scores(mixed_dist)\n"
   ]
  },
  {
   "cell_type": "code",
   "execution_count": 42,
   "metadata": {},
   "outputs": [
    {
     "output_type": "display_data",
     "data": {
      "text/plain": "<Figure size 432x288 with 1 Axes>",
      "image/svg+xml": "<?xml version=\"1.0\" encoding=\"utf-8\" standalone=\"no\"?>\n<!DOCTYPE svg PUBLIC \"-//W3C//DTD SVG 1.1//EN\"\n  \"http://www.w3.org/Graphics/SVG/1.1/DTD/svg11.dtd\">\n<!-- Created with matplotlib (https://matplotlib.org/) -->\n<svg height=\"262.19625pt\" version=\"1.1\" viewBox=\"0 0 385.78125 262.19625\" width=\"385.78125pt\" xmlns=\"http://www.w3.org/2000/svg\" xmlns:xlink=\"http://www.w3.org/1999/xlink\">\n <defs>\n  <style type=\"text/css\">\n*{stroke-linecap:butt;stroke-linejoin:round;}\n  </style>\n </defs>\n <g id=\"figure_1\">\n  <g id=\"patch_1\">\n   <path d=\"M 0 262.19625 \nL 385.78125 262.19625 \nL 385.78125 0 \nL 0 0 \nz\n\" style=\"fill:none;\"/>\n  </g>\n  <g id=\"axes_1\">\n   <g id=\"patch_2\">\n    <path d=\"M 43.78125 224.64 \nL 378.58125 224.64 \nL 378.58125 7.2 \nL 43.78125 7.2 \nz\n\" style=\"fill:#ffffff;\"/>\n   </g>\n   <g id=\"PolyCollection_1\">\n    <path clip-path=\"url(#p1b7f89707a)\" d=\"M 138.705028 214.756364 \nL 80.748381 214.756364 \nL 80.416661 212.759669 \nL 80.4128 210.762975 \nL 80.730464 208.766281 \nL 81.351809 206.769587 \nL 82.248687 204.772893 \nL 83.384435 202.776198 \nL 84.71609 200.779504 \nL 86.19684 198.78281 \nL 87.77853 196.786116 \nL 89.414029 194.789421 \nL 91.059321 192.792727 \nL 92.675182 190.796033 \nL 94.228391 188.799339 \nL 95.692446 186.802645 \nL 97.047792 184.80595 \nL 98.281631 182.809256 \nL 99.387395 180.812562 \nL 100.363949 178.815868 \nL 101.214662 176.819174 \nL 101.946395 174.822479 \nL 102.568508 172.825785 \nL 103.091945 170.829091 \nL 103.52842 168.832397 \nL 103.889751 166.835702 \nL 104.187333 164.839008 \nL 104.431755 162.842314 \nL 104.632541 160.84562 \nL 104.798008 158.848926 \nL 104.935206 156.852231 \nL 105.049936 154.855537 \nL 105.14682 152.858843 \nL 105.229404 150.862149 \nL 105.300291 148.865455 \nL 105.361287 146.86876 \nL 105.413549 144.872066 \nL 105.457735 142.875372 \nL 105.494149 140.878678 \nL 105.522866 138.881983 \nL 105.543846 136.885289 \nL 105.557032 134.888595 \nL 105.562417 132.891901 \nL 105.560093 130.895207 \nL 105.550281 128.898512 \nL 105.53333 126.901818 \nL 105.509704 124.905124 \nL 105.479951 122.90843 \nL 105.444659 120.911736 \nL 105.404408 118.915041 \nL 105.359718 116.918347 \nL 105.311004 114.921653 \nL 105.258537 112.924959 \nL 105.202414 110.928264 \nL 105.142546 108.93157 \nL 105.078655 106.934876 \nL 105.010289 104.938182 \nL 104.936837 102.941488 \nL 104.857563 100.944793 \nL 104.771636 98.948099 \nL 104.678146 96.951405 \nL 104.576131 94.954711 \nL 104.464565 92.958017 \nL 104.342344 90.961322 \nL 104.208234 88.964628 \nL 104.060793 86.967934 \nL 103.898266 84.97124 \nL 103.718443 82.974545 \nL 103.518487 80.977851 \nL 103.294734 78.981157 \nL 103.042477 76.984463 \nL 102.755725 74.987769 \nL 102.426977 72.991074 \nL 102.047005 70.99438 \nL 101.604688 68.997686 \nL 101.086917 67.000992 \nL 100.47861 65.004298 \nL 99.762878 63.007603 \nL 98.92138 61.010909 \nL 97.934904 59.014215 \nL 96.7842 57.017521 \nL 95.451084 55.020826 \nL 93.919791 53.024132 \nL 92.178553 51.027438 \nL 90.221318 49.030744 \nL 88.049514 47.03405 \nL 85.673728 45.037355 \nL 83.115116 43.040661 \nL 80.406409 41.043967 \nL 77.592316 39.047273 \nL 74.729196 37.050579 \nL 71.883903 35.053884 \nL 69.131752 33.05719 \nL 66.553651 31.060496 \nL 64.232522 29.063802 \nL 62.249208 27.067107 \nL 60.678124 25.070413 \nL 59.582986 23.073719 \nL 59.012945 21.077025 \nL 58.999432 19.080331 \nL 59.554011 17.083636 \nL 159.899398 17.083636 \nL 159.899398 17.083636 \nL 160.453977 19.080331 \nL 160.440464 21.077025 \nL 159.870423 23.073719 \nL 158.775285 25.070413 \nL 157.204201 27.067107 \nL 155.220887 29.063802 \nL 152.899758 31.060496 \nL 150.321657 33.05719 \nL 147.569506 35.053884 \nL 144.724213 37.050579 \nL 141.861094 39.047273 \nL 139.047 41.043967 \nL 136.338293 43.040661 \nL 133.779681 45.037355 \nL 131.403895 47.03405 \nL 129.232092 49.030744 \nL 127.274856 51.027438 \nL 125.533618 53.024132 \nL 124.002325 55.020826 \nL 122.669209 57.017521 \nL 121.518505 59.014215 \nL 120.532029 61.010909 \nL 119.690531 63.007603 \nL 118.974799 65.004298 \nL 118.366492 67.000992 \nL 117.848721 68.997686 \nL 117.406404 70.99438 \nL 117.026433 72.991074 \nL 116.697684 74.987769 \nL 116.410933 76.984463 \nL 116.158675 78.981157 \nL 115.934922 80.977851 \nL 115.734966 82.974545 \nL 115.555143 84.97124 \nL 115.392616 86.967934 \nL 115.245175 88.964628 \nL 115.111065 90.961322 \nL 114.988844 92.958017 \nL 114.877279 94.954711 \nL 114.775263 96.951405 \nL 114.681774 98.948099 \nL 114.595846 100.944793 \nL 114.516573 102.941488 \nL 114.443121 104.938182 \nL 114.374754 106.934876 \nL 114.310863 108.93157 \nL 114.250996 110.928264 \nL 114.194872 112.924959 \nL 114.142405 114.921653 \nL 114.093691 116.918347 \nL 114.049001 118.915041 \nL 114.00875 120.911736 \nL 113.973458 122.90843 \nL 113.943705 124.905124 \nL 113.920079 126.901818 \nL 113.903128 128.898512 \nL 113.893316 130.895207 \nL 113.890992 132.891901 \nL 113.896377 134.888595 \nL 113.909563 136.885289 \nL 113.930543 138.881983 \nL 113.95926 140.878678 \nL 113.995674 142.875372 \nL 114.03986 144.872066 \nL 114.092122 146.86876 \nL 114.153118 148.865455 \nL 114.224005 150.862149 \nL 114.306589 152.858843 \nL 114.403473 154.855537 \nL 114.518203 156.852231 \nL 114.655401 158.848926 \nL 114.820868 160.84562 \nL 115.021654 162.842314 \nL 115.266076 164.839008 \nL 115.563658 166.835702 \nL 115.924989 168.832397 \nL 116.361464 170.829091 \nL 116.884901 172.825785 \nL 117.507014 174.822479 \nL 118.238747 176.819174 \nL 119.08946 178.815868 \nL 120.066015 180.812562 \nL 121.171778 182.809256 \nL 122.405617 184.80595 \nL 123.760963 186.802645 \nL 125.225018 188.799339 \nL 126.778228 190.796033 \nL 128.394088 192.792727 \nL 130.03938 194.789421 \nL 131.674879 196.786116 \nL 133.256569 198.78281 \nL 134.737319 200.779504 \nL 136.068974 202.776198 \nL 137.204722 204.772893 \nL 138.1016 206.769587 \nL 138.722945 208.766281 \nL 139.04061 210.762975 \nL 139.036748 212.759669 \nL 138.705028 214.756364 \nz\n\" style=\"fill:#1f77b4;fill-opacity:0.3;\"/>\n   </g>\n   <g id=\"PolyCollection_2\">\n    <path clip-path=\"url(#p1b7f89707a)\" d=\"M 363.363068 214.756364 \nL 261.908523 214.756364 \nL 265.267035 212.759669 \nL 274.604203 210.762975 \nL 286.313284 208.766281 \nL 296.842248 206.769587 \nL 304.313015 204.772893 \nL 308.660203 202.776198 \nL 310.784855 200.779504 \nL 311.681222 198.78281 \nL 312.026925 196.786116 \nL 312.165982 194.789421 \nL 312.235242 192.792727 \nL 312.277668 190.796033 \nL 312.304858 188.799339 \nL 312.322225 186.802645 \nL 312.335252 184.80595 \nL 312.348708 182.809256 \nL 312.364943 180.812562 \nL 312.383513 178.815868 \nL 312.402164 176.819174 \nL 312.418398 174.822479 \nL 312.430838 172.825785 \nL 312.43983 170.829091 \nL 312.447155 168.832397 \nL 312.455203 166.835702 \nL 312.466157 164.839008 \nL 312.48133 162.842314 \nL 312.500498 160.84562 \nL 312.521491 158.848926 \nL 312.540819 156.852231 \nL 312.555461 154.855537 \nL 312.564554 152.858843 \nL 312.569434 150.862149 \nL 312.572077 148.865455 \nL 312.573579 146.86876 \nL 312.574137 144.872066 \nL 312.574165 142.875372 \nL 312.574907 140.878678 \nL 312.577596 138.881983 \nL 312.581965 136.885289 \nL 312.585775 134.888595 \nL 312.586183 132.891901 \nL 312.582023 130.895207 \nL 312.575157 128.898512 \nL 312.569624 126.901818 \nL 312.569126 124.905124 \nL 312.574734 122.90843 \nL 312.584419 120.911736 \nL 312.594371 118.915041 \nL 312.600891 116.918347 \nL 312.601647 114.921653 \nL 312.595964 112.924959 \nL 312.584528 110.928264 \nL 312.569097 108.93157 \nL 312.552368 106.934876 \nL 312.537524 104.938182 \nL 312.527059 102.941488 \nL 312.521555 100.944793 \nL 312.51973 98.948099 \nL 312.52004 96.951405 \nL 312.52236 94.954711 \nL 312.527962 92.958017 \nL 312.537858 90.961322 \nL 312.551296 88.964628 \nL 312.565814 86.967934 \nL 312.578524 84.97124 \nL 312.587234 82.974545 \nL 312.590644 80.977851 \nL 312.58807 78.981157 \nL 312.579547 76.984463 \nL 312.56644 74.987769 \nL 312.551774 72.991074 \nL 312.539569 70.99438 \nL 312.533345 68.997686 \nL 312.534639 67.000992 \nL 312.542215 65.004298 \nL 312.55236 63.007603 \nL 312.560369 61.010909 \nL 312.562859 59.014215 \nL 312.559638 57.017521 \nL 312.553604 55.020826 \nL 312.548469 53.024132 \nL 312.546063 51.027438 \nL 312.545509 49.030744 \nL 312.544778 47.03405 \nL 312.542867 45.037355 \nL 312.54047 43.040661 \nL 312.53877 41.043967 \nL 312.537896 39.047273 \nL 312.536693 37.050579 \nL 312.533752 35.053884 \nL 312.528039 33.05719 \nL 312.517746 31.060496 \nL 312.498062 29.063802 \nL 312.460776 27.067107 \nL 312.398614 25.070413 \nL 312.31381 23.073719 \nL 312.22484 21.077025 \nL 312.162924 19.080331 \nL 312.156298 17.083636 \nL 313.115293 17.083636 \nL 313.115293 17.083636 \nL 313.108667 19.080331 \nL 313.046751 21.077025 \nL 312.957781 23.073719 \nL 312.872977 25.070413 \nL 312.810815 27.067107 \nL 312.773529 29.063802 \nL 312.753845 31.060496 \nL 312.743552 33.05719 \nL 312.737839 35.053884 \nL 312.734898 37.050579 \nL 312.733695 39.047273 \nL 312.732821 41.043967 \nL 312.731121 43.040661 \nL 312.728724 45.037355 \nL 312.726813 47.03405 \nL 312.726082 49.030744 \nL 312.725528 51.027438 \nL 312.723122 53.024132 \nL 312.717987 55.020826 \nL 312.711953 57.017521 \nL 312.708732 59.014215 \nL 312.711222 61.010909 \nL 312.719231 63.007603 \nL 312.729376 65.004298 \nL 312.736952 67.000992 \nL 312.738246 68.997686 \nL 312.732022 70.99438 \nL 312.719816 72.991074 \nL 312.705151 74.987769 \nL 312.692044 76.984463 \nL 312.683521 78.981157 \nL 312.680947 80.977851 \nL 312.684357 82.974545 \nL 312.693067 84.97124 \nL 312.705776 86.967934 \nL 312.720295 88.964628 \nL 312.733733 90.961322 \nL 312.743629 92.958017 \nL 312.749231 94.954711 \nL 312.751551 96.951405 \nL 312.751861 98.948099 \nL 312.750036 100.944793 \nL 312.744532 102.941488 \nL 312.734067 104.938182 \nL 312.719223 106.934876 \nL 312.702494 108.93157 \nL 312.687063 110.928264 \nL 312.675627 112.924959 \nL 312.669944 114.921653 \nL 312.6707 116.918347 \nL 312.67722 118.915041 \nL 312.687172 120.911736 \nL 312.696857 122.90843 \nL 312.702465 124.905124 \nL 312.701967 126.901818 \nL 312.696434 128.898512 \nL 312.689567 130.895207 \nL 312.685408 132.891901 \nL 312.685816 134.888595 \nL 312.689626 136.885289 \nL 312.693995 138.881983 \nL 312.696684 140.878678 \nL 312.697426 142.875372 \nL 312.697454 144.872066 \nL 312.698012 146.86876 \nL 312.699514 148.865455 \nL 312.702157 150.862149 \nL 312.707037 152.858843 \nL 312.716129 154.855537 \nL 312.730772 156.852231 \nL 312.7501 158.848926 \nL 312.771093 160.84562 \nL 312.790261 162.842314 \nL 312.805434 164.839008 \nL 312.816388 166.835702 \nL 312.824436 168.832397 \nL 312.831761 170.829091 \nL 312.840753 172.825785 \nL 312.853193 174.822479 \nL 312.869427 176.819174 \nL 312.888077 178.815868 \nL 312.906647 180.812562 \nL 312.922883 182.809256 \nL 312.936339 184.80595 \nL 312.949366 186.802645 \nL 312.966733 188.799339 \nL 312.993923 190.796033 \nL 313.036349 192.792727 \nL 313.105609 194.789421 \nL 313.244665 196.786116 \nL 313.590369 198.78281 \nL 314.486736 200.779504 \nL 316.611388 202.776198 \nL 320.958575 204.772893 \nL 328.429343 206.769587 \nL 338.958307 208.766281 \nL 350.667388 210.762975 \nL 360.004556 212.759669 \nL 363.363068 214.756364 \nz\n\" style=\"fill:#1f77b4;fill-opacity:0.3;\"/>\n   </g>\n   <g id=\"matplotlib.axis_1\">\n    <g id=\"xtick_1\">\n     <g id=\"line2d_1\">\n      <defs>\n       <path d=\"M 0 0 \nL 0 3.5 \n\" id=\"mf12769a23e\" style=\"stroke:#000000;stroke-width:0.8;\"/>\n      </defs>\n      <g>\n       <use style=\"stroke:#000000;stroke-width:0.8;\" x=\"109.726705\" xlink:href=\"#mf12769a23e\" y=\"224.64\"/>\n      </g>\n     </g>\n     <g id=\"text_1\">\n      <!-- True -->\n      <defs>\n       <path d=\"M -0.296875 72.90625 \nL 61.375 72.90625 \nL 61.375 64.59375 \nL 35.5 64.59375 \nL 35.5 0 \nL 25.59375 0 \nL 25.59375 64.59375 \nL -0.296875 64.59375 \nz\n\" id=\"DejaVuSans-84\"/>\n       <path d=\"M 41.109375 46.296875 \nQ 39.59375 47.171875 37.8125 47.578125 \nQ 36.03125 48 33.890625 48 \nQ 26.265625 48 22.1875 43.046875 \nQ 18.109375 38.09375 18.109375 28.8125 \nL 18.109375 0 \nL 9.078125 0 \nL 9.078125 54.6875 \nL 18.109375 54.6875 \nL 18.109375 46.1875 \nQ 20.953125 51.171875 25.484375 53.578125 \nQ 30.03125 56 36.53125 56 \nQ 37.453125 56 38.578125 55.875 \nQ 39.703125 55.765625 41.0625 55.515625 \nz\n\" id=\"DejaVuSans-114\"/>\n       <path d=\"M 8.5 21.578125 \nL 8.5 54.6875 \nL 17.484375 54.6875 \nL 17.484375 21.921875 \nQ 17.484375 14.15625 20.5 10.265625 \nQ 23.53125 6.390625 29.59375 6.390625 \nQ 36.859375 6.390625 41.078125 11.03125 \nQ 45.3125 15.671875 45.3125 23.6875 \nL 45.3125 54.6875 \nL 54.296875 54.6875 \nL 54.296875 0 \nL 45.3125 0 \nL 45.3125 8.40625 \nQ 42.046875 3.421875 37.71875 1 \nQ 33.40625 -1.421875 27.6875 -1.421875 \nQ 18.265625 -1.421875 13.375 4.4375 \nQ 8.5 10.296875 8.5 21.578125 \nz\nM 31.109375 56 \nz\n\" id=\"DejaVuSans-117\"/>\n       <path d=\"M 56.203125 29.59375 \nL 56.203125 25.203125 \nL 14.890625 25.203125 \nQ 15.484375 15.921875 20.484375 11.0625 \nQ 25.484375 6.203125 34.421875 6.203125 \nQ 39.59375 6.203125 44.453125 7.46875 \nQ 49.3125 8.734375 54.109375 11.28125 \nL 54.109375 2.78125 \nQ 49.265625 0.734375 44.1875 -0.34375 \nQ 39.109375 -1.421875 33.890625 -1.421875 \nQ 20.796875 -1.421875 13.15625 6.1875 \nQ 5.515625 13.8125 5.515625 26.8125 \nQ 5.515625 40.234375 12.765625 48.109375 \nQ 20.015625 56 32.328125 56 \nQ 43.359375 56 49.78125 48.890625 \nQ 56.203125 41.796875 56.203125 29.59375 \nz\nM 47.21875 32.234375 \nQ 47.125 39.59375 43.09375 43.984375 \nQ 39.0625 48.390625 32.421875 48.390625 \nQ 24.90625 48.390625 20.390625 44.140625 \nQ 15.875 39.890625 15.1875 32.171875 \nz\n\" id=\"DejaVuSans-101\"/>\n      </defs>\n      <g transform=\"translate(98.382955 239.238437)scale(0.1 -0.1)\">\n       <use xlink:href=\"#DejaVuSans-84\"/>\n       <use x=\"60.865234\" xlink:href=\"#DejaVuSans-114\"/>\n       <use x=\"101.978516\" xlink:href=\"#DejaVuSans-117\"/>\n       <use x=\"165.357422\" xlink:href=\"#DejaVuSans-101\"/>\n      </g>\n     </g>\n    </g>\n    <g id=\"xtick_2\">\n     <g id=\"line2d_2\">\n      <g>\n       <use style=\"stroke:#000000;stroke-width:0.8;\" x=\"312.635795\" xlink:href=\"#mf12769a23e\" y=\"224.64\"/>\n      </g>\n     </g>\n     <g id=\"text_2\">\n      <!-- False -->\n      <defs>\n       <path d=\"M 9.8125 72.90625 \nL 51.703125 72.90625 \nL 51.703125 64.59375 \nL 19.671875 64.59375 \nL 19.671875 43.109375 \nL 48.578125 43.109375 \nL 48.578125 34.8125 \nL 19.671875 34.8125 \nL 19.671875 0 \nL 9.8125 0 \nz\n\" id=\"DejaVuSans-70\"/>\n       <path d=\"M 34.28125 27.484375 \nQ 23.390625 27.484375 19.1875 25 \nQ 14.984375 22.515625 14.984375 16.5 \nQ 14.984375 11.71875 18.140625 8.90625 \nQ 21.296875 6.109375 26.703125 6.109375 \nQ 34.1875 6.109375 38.703125 11.40625 \nQ 43.21875 16.703125 43.21875 25.484375 \nL 43.21875 27.484375 \nz\nM 52.203125 31.203125 \nL 52.203125 0 \nL 43.21875 0 \nL 43.21875 8.296875 \nQ 40.140625 3.328125 35.546875 0.953125 \nQ 30.953125 -1.421875 24.3125 -1.421875 \nQ 15.921875 -1.421875 10.953125 3.296875 \nQ 6 8.015625 6 15.921875 \nQ 6 25.140625 12.171875 29.828125 \nQ 18.359375 34.515625 30.609375 34.515625 \nL 43.21875 34.515625 \nL 43.21875 35.40625 \nQ 43.21875 41.609375 39.140625 45 \nQ 35.0625 48.390625 27.6875 48.390625 \nQ 23 48.390625 18.546875 47.265625 \nQ 14.109375 46.140625 10.015625 43.890625 \nL 10.015625 52.203125 \nQ 14.9375 54.109375 19.578125 55.046875 \nQ 24.21875 56 28.609375 56 \nQ 40.484375 56 46.34375 49.84375 \nQ 52.203125 43.703125 52.203125 31.203125 \nz\n\" id=\"DejaVuSans-97\"/>\n       <path d=\"M 9.421875 75.984375 \nL 18.40625 75.984375 \nL 18.40625 0 \nL 9.421875 0 \nz\n\" id=\"DejaVuSans-108\"/>\n       <path d=\"M 44.28125 53.078125 \nL 44.28125 44.578125 \nQ 40.484375 46.53125 36.375 47.5 \nQ 32.28125 48.484375 27.875 48.484375 \nQ 21.1875 48.484375 17.84375 46.4375 \nQ 14.5 44.390625 14.5 40.28125 \nQ 14.5 37.15625 16.890625 35.375 \nQ 19.28125 33.59375 26.515625 31.984375 \nL 29.59375 31.296875 \nQ 39.15625 29.25 43.1875 25.515625 \nQ 47.21875 21.78125 47.21875 15.09375 \nQ 47.21875 7.46875 41.1875 3.015625 \nQ 35.15625 -1.421875 24.609375 -1.421875 \nQ 20.21875 -1.421875 15.453125 -0.5625 \nQ 10.6875 0.296875 5.421875 2 \nL 5.421875 11.28125 \nQ 10.40625 8.6875 15.234375 7.390625 \nQ 20.0625 6.109375 24.8125 6.109375 \nQ 31.15625 6.109375 34.5625 8.28125 \nQ 37.984375 10.453125 37.984375 14.40625 \nQ 37.984375 18.0625 35.515625 20.015625 \nQ 33.0625 21.96875 24.703125 23.78125 \nL 21.578125 24.515625 \nQ 13.234375 26.265625 9.515625 29.90625 \nQ 5.8125 33.546875 5.8125 39.890625 \nQ 5.8125 47.609375 11.28125 51.796875 \nQ 16.75 56 26.8125 56 \nQ 31.78125 56 36.171875 55.265625 \nQ 40.578125 54.546875 44.28125 53.078125 \nz\n\" id=\"DejaVuSans-115\"/>\n      </defs>\n      <g transform=\"translate(299.63267 239.238437)scale(0.1 -0.1)\">\n       <use xlink:href=\"#DejaVuSans-70\"/>\n       <use x=\"57.378906\" xlink:href=\"#DejaVuSans-97\"/>\n       <use x=\"118.658203\" xlink:href=\"#DejaVuSans-108\"/>\n       <use x=\"146.441406\" xlink:href=\"#DejaVuSans-115\"/>\n       <use x=\"198.541016\" xlink:href=\"#DejaVuSans-101\"/>\n      </g>\n     </g>\n    </g>\n    <g id=\"text_3\">\n     <!-- Gold label -->\n     <defs>\n      <path d=\"M 59.515625 10.40625 \nL 59.515625 29.984375 \nL 43.40625 29.984375 \nL 43.40625 38.09375 \nL 69.28125 38.09375 \nL 69.28125 6.78125 \nQ 63.578125 2.734375 56.6875 0.65625 \nQ 49.8125 -1.421875 42 -1.421875 \nQ 24.90625 -1.421875 15.25 8.5625 \nQ 5.609375 18.5625 5.609375 36.375 \nQ 5.609375 54.25 15.25 64.234375 \nQ 24.90625 74.21875 42 74.21875 \nQ 49.125 74.21875 55.546875 72.453125 \nQ 61.96875 70.703125 67.390625 67.28125 \nL 67.390625 56.78125 \nQ 61.921875 61.421875 55.765625 63.765625 \nQ 49.609375 66.109375 42.828125 66.109375 \nQ 29.4375 66.109375 22.71875 58.640625 \nQ 16.015625 51.171875 16.015625 36.375 \nQ 16.015625 21.625 22.71875 14.15625 \nQ 29.4375 6.6875 42.828125 6.6875 \nQ 48.046875 6.6875 52.140625 7.59375 \nQ 56.25 8.5 59.515625 10.40625 \nz\n\" id=\"DejaVuSans-71\"/>\n      <path d=\"M 30.609375 48.390625 \nQ 23.390625 48.390625 19.1875 42.75 \nQ 14.984375 37.109375 14.984375 27.296875 \nQ 14.984375 17.484375 19.15625 11.84375 \nQ 23.34375 6.203125 30.609375 6.203125 \nQ 37.796875 6.203125 41.984375 11.859375 \nQ 46.1875 17.53125 46.1875 27.296875 \nQ 46.1875 37.015625 41.984375 42.703125 \nQ 37.796875 48.390625 30.609375 48.390625 \nz\nM 30.609375 56 \nQ 42.328125 56 49.015625 48.375 \nQ 55.71875 40.765625 55.71875 27.296875 \nQ 55.71875 13.875 49.015625 6.21875 \nQ 42.328125 -1.421875 30.609375 -1.421875 \nQ 18.84375 -1.421875 12.171875 6.21875 \nQ 5.515625 13.875 5.515625 27.296875 \nQ 5.515625 40.765625 12.171875 48.375 \nQ 18.84375 56 30.609375 56 \nz\n\" id=\"DejaVuSans-111\"/>\n      <path d=\"M 45.40625 46.390625 \nL 45.40625 75.984375 \nL 54.390625 75.984375 \nL 54.390625 0 \nL 45.40625 0 \nL 45.40625 8.203125 \nQ 42.578125 3.328125 38.25 0.953125 \nQ 33.9375 -1.421875 27.875 -1.421875 \nQ 17.96875 -1.421875 11.734375 6.484375 \nQ 5.515625 14.40625 5.515625 27.296875 \nQ 5.515625 40.1875 11.734375 48.09375 \nQ 17.96875 56 27.875 56 \nQ 33.9375 56 38.25 53.625 \nQ 42.578125 51.265625 45.40625 46.390625 \nz\nM 14.796875 27.296875 \nQ 14.796875 17.390625 18.875 11.75 \nQ 22.953125 6.109375 30.078125 6.109375 \nQ 37.203125 6.109375 41.296875 11.75 \nQ 45.40625 17.390625 45.40625 27.296875 \nQ 45.40625 37.203125 41.296875 42.84375 \nQ 37.203125 48.484375 30.078125 48.484375 \nQ 22.953125 48.484375 18.875 42.84375 \nQ 14.796875 37.203125 14.796875 27.296875 \nz\n\" id=\"DejaVuSans-100\"/>\n      <path id=\"DejaVuSans-32\"/>\n      <path d=\"M 48.6875 27.296875 \nQ 48.6875 37.203125 44.609375 42.84375 \nQ 40.53125 48.484375 33.40625 48.484375 \nQ 26.265625 48.484375 22.1875 42.84375 \nQ 18.109375 37.203125 18.109375 27.296875 \nQ 18.109375 17.390625 22.1875 11.75 \nQ 26.265625 6.109375 33.40625 6.109375 \nQ 40.53125 6.109375 44.609375 11.75 \nQ 48.6875 17.390625 48.6875 27.296875 \nz\nM 18.109375 46.390625 \nQ 20.953125 51.265625 25.265625 53.625 \nQ 29.59375 56 35.59375 56 \nQ 45.5625 56 51.78125 48.09375 \nQ 58.015625 40.1875 58.015625 27.296875 \nQ 58.015625 14.40625 51.78125 6.484375 \nQ 45.5625 -1.421875 35.59375 -1.421875 \nQ 29.59375 -1.421875 25.265625 0.953125 \nQ 20.953125 3.328125 18.109375 8.203125 \nL 18.109375 0 \nL 9.078125 0 \nL 9.078125 75.984375 \nL 18.109375 75.984375 \nz\n\" id=\"DejaVuSans-98\"/>\n     </defs>\n     <g transform=\"translate(186.002344 252.916562)scale(0.1 -0.1)\">\n      <use xlink:href=\"#DejaVuSans-71\"/>\n      <use x=\"77.490234\" xlink:href=\"#DejaVuSans-111\"/>\n      <use x=\"138.671875\" xlink:href=\"#DejaVuSans-108\"/>\n      <use x=\"166.455078\" xlink:href=\"#DejaVuSans-100\"/>\n      <use x=\"229.931641\" xlink:href=\"#DejaVuSans-32\"/>\n      <use x=\"261.71875\" xlink:href=\"#DejaVuSans-108\"/>\n      <use x=\"289.501953\" xlink:href=\"#DejaVuSans-97\"/>\n      <use x=\"350.78125\" xlink:href=\"#DejaVuSans-98\"/>\n      <use x=\"414.257812\" xlink:href=\"#DejaVuSans-101\"/>\n      <use x=\"475.78125\" xlink:href=\"#DejaVuSans-108\"/>\n     </g>\n    </g>\n   </g>\n   <g id=\"matplotlib.axis_2\">\n    <g id=\"ytick_1\">\n     <g id=\"line2d_3\">\n      <path clip-path=\"url(#p1b7f89707a)\" d=\"M 43.78125 214.756364 \nL 378.58125 214.756364 \n\" style=\"fill:none;stroke:#b0b0b0;stroke-linecap:square;stroke-width:0.8;\"/>\n     </g>\n     <g id=\"line2d_4\">\n      <defs>\n       <path d=\"M 0 0 \nL -3.5 0 \n\" id=\"me42d69917f\" style=\"stroke:#000000;stroke-width:0.8;\"/>\n      </defs>\n      <g>\n       <use style=\"stroke:#000000;stroke-width:0.8;\" x=\"43.78125\" xlink:href=\"#me42d69917f\" y=\"214.756364\"/>\n      </g>\n     </g>\n     <g id=\"text_4\">\n      <!-- 0.0 -->\n      <defs>\n       <path d=\"M 31.78125 66.40625 \nQ 24.171875 66.40625 20.328125 58.90625 \nQ 16.5 51.421875 16.5 36.375 \nQ 16.5 21.390625 20.328125 13.890625 \nQ 24.171875 6.390625 31.78125 6.390625 \nQ 39.453125 6.390625 43.28125 13.890625 \nQ 47.125 21.390625 47.125 36.375 \nQ 47.125 51.421875 43.28125 58.90625 \nQ 39.453125 66.40625 31.78125 66.40625 \nz\nM 31.78125 74.21875 \nQ 44.046875 74.21875 50.515625 64.515625 \nQ 56.984375 54.828125 56.984375 36.375 \nQ 56.984375 17.96875 50.515625 8.265625 \nQ 44.046875 -1.421875 31.78125 -1.421875 \nQ 19.53125 -1.421875 13.0625 8.265625 \nQ 6.59375 17.96875 6.59375 36.375 \nQ 6.59375 54.828125 13.0625 64.515625 \nQ 19.53125 74.21875 31.78125 74.21875 \nz\n\" id=\"DejaVuSans-48\"/>\n       <path d=\"M 10.6875 12.40625 \nL 21 12.40625 \nL 21 0 \nL 10.6875 0 \nz\n\" id=\"DejaVuSans-46\"/>\n      </defs>\n      <g transform=\"translate(20.878125 218.555582)scale(0.1 -0.1)\">\n       <use xlink:href=\"#DejaVuSans-48\"/>\n       <use x=\"63.623047\" xlink:href=\"#DejaVuSans-46\"/>\n       <use x=\"95.410156\" xlink:href=\"#DejaVuSans-48\"/>\n      </g>\n     </g>\n    </g>\n    <g id=\"ytick_2\">\n     <g id=\"line2d_5\">\n      <path clip-path=\"url(#p1b7f89707a)\" d=\"M 43.78125 175.221818 \nL 378.58125 175.221818 \n\" style=\"fill:none;stroke:#b0b0b0;stroke-linecap:square;stroke-width:0.8;\"/>\n     </g>\n     <g id=\"line2d_6\">\n      <g>\n       <use style=\"stroke:#000000;stroke-width:0.8;\" x=\"43.78125\" xlink:href=\"#me42d69917f\" y=\"175.221818\"/>\n      </g>\n     </g>\n     <g id=\"text_5\">\n      <!-- 0.2 -->\n      <defs>\n       <path d=\"M 19.1875 8.296875 \nL 53.609375 8.296875 \nL 53.609375 0 \nL 7.328125 0 \nL 7.328125 8.296875 \nQ 12.9375 14.109375 22.625 23.890625 \nQ 32.328125 33.6875 34.8125 36.53125 \nQ 39.546875 41.84375 41.421875 45.53125 \nQ 43.3125 49.21875 43.3125 52.78125 \nQ 43.3125 58.59375 39.234375 62.25 \nQ 35.15625 65.921875 28.609375 65.921875 \nQ 23.96875 65.921875 18.8125 64.3125 \nQ 13.671875 62.703125 7.8125 59.421875 \nL 7.8125 69.390625 \nQ 13.765625 71.78125 18.9375 73 \nQ 24.125 74.21875 28.421875 74.21875 \nQ 39.75 74.21875 46.484375 68.546875 \nQ 53.21875 62.890625 53.21875 53.421875 \nQ 53.21875 48.921875 51.53125 44.890625 \nQ 49.859375 40.875 45.40625 35.40625 \nQ 44.1875 33.984375 37.640625 27.21875 \nQ 31.109375 20.453125 19.1875 8.296875 \nz\n\" id=\"DejaVuSans-50\"/>\n      </defs>\n      <g transform=\"translate(20.878125 179.021037)scale(0.1 -0.1)\">\n       <use xlink:href=\"#DejaVuSans-48\"/>\n       <use x=\"63.623047\" xlink:href=\"#DejaVuSans-46\"/>\n       <use x=\"95.410156\" xlink:href=\"#DejaVuSans-50\"/>\n      </g>\n     </g>\n    </g>\n    <g id=\"ytick_3\">\n     <g id=\"line2d_7\">\n      <path clip-path=\"url(#p1b7f89707a)\" d=\"M 43.78125 135.687273 \nL 378.58125 135.687273 \n\" style=\"fill:none;stroke:#b0b0b0;stroke-linecap:square;stroke-width:0.8;\"/>\n     </g>\n     <g id=\"line2d_8\">\n      <g>\n       <use style=\"stroke:#000000;stroke-width:0.8;\" x=\"43.78125\" xlink:href=\"#me42d69917f\" y=\"135.687273\"/>\n      </g>\n     </g>\n     <g id=\"text_6\">\n      <!-- 0.4 -->\n      <defs>\n       <path d=\"M 37.796875 64.3125 \nL 12.890625 25.390625 \nL 37.796875 25.390625 \nz\nM 35.203125 72.90625 \nL 47.609375 72.90625 \nL 47.609375 25.390625 \nL 58.015625 25.390625 \nL 58.015625 17.1875 \nL 47.609375 17.1875 \nL 47.609375 0 \nL 37.796875 0 \nL 37.796875 17.1875 \nL 4.890625 17.1875 \nL 4.890625 26.703125 \nz\n\" id=\"DejaVuSans-52\"/>\n      </defs>\n      <g transform=\"translate(20.878125 139.486491)scale(0.1 -0.1)\">\n       <use xlink:href=\"#DejaVuSans-48\"/>\n       <use x=\"63.623047\" xlink:href=\"#DejaVuSans-46\"/>\n       <use x=\"95.410156\" xlink:href=\"#DejaVuSans-52\"/>\n      </g>\n     </g>\n    </g>\n    <g id=\"ytick_4\">\n     <g id=\"line2d_9\">\n      <path clip-path=\"url(#p1b7f89707a)\" d=\"M 43.78125 96.152727 \nL 378.58125 96.152727 \n\" style=\"fill:none;stroke:#b0b0b0;stroke-linecap:square;stroke-width:0.8;\"/>\n     </g>\n     <g id=\"line2d_10\">\n      <g>\n       <use style=\"stroke:#000000;stroke-width:0.8;\" x=\"43.78125\" xlink:href=\"#me42d69917f\" y=\"96.152727\"/>\n      </g>\n     </g>\n     <g id=\"text_7\">\n      <!-- 0.6 -->\n      <defs>\n       <path d=\"M 33.015625 40.375 \nQ 26.375 40.375 22.484375 35.828125 \nQ 18.609375 31.296875 18.609375 23.390625 \nQ 18.609375 15.53125 22.484375 10.953125 \nQ 26.375 6.390625 33.015625 6.390625 \nQ 39.65625 6.390625 43.53125 10.953125 \nQ 47.40625 15.53125 47.40625 23.390625 \nQ 47.40625 31.296875 43.53125 35.828125 \nQ 39.65625 40.375 33.015625 40.375 \nz\nM 52.59375 71.296875 \nL 52.59375 62.3125 \nQ 48.875 64.0625 45.09375 64.984375 \nQ 41.3125 65.921875 37.59375 65.921875 \nQ 27.828125 65.921875 22.671875 59.328125 \nQ 17.53125 52.734375 16.796875 39.40625 \nQ 19.671875 43.65625 24.015625 45.921875 \nQ 28.375 48.1875 33.59375 48.1875 \nQ 44.578125 48.1875 50.953125 41.515625 \nQ 57.328125 34.859375 57.328125 23.390625 \nQ 57.328125 12.15625 50.6875 5.359375 \nQ 44.046875 -1.421875 33.015625 -1.421875 \nQ 20.359375 -1.421875 13.671875 8.265625 \nQ 6.984375 17.96875 6.984375 36.375 \nQ 6.984375 53.65625 15.1875 63.9375 \nQ 23.390625 74.21875 37.203125 74.21875 \nQ 40.921875 74.21875 44.703125 73.484375 \nQ 48.484375 72.75 52.59375 71.296875 \nz\n\" id=\"DejaVuSans-54\"/>\n      </defs>\n      <g transform=\"translate(20.878125 99.951946)scale(0.1 -0.1)\">\n       <use xlink:href=\"#DejaVuSans-48\"/>\n       <use x=\"63.623047\" xlink:href=\"#DejaVuSans-46\"/>\n       <use x=\"95.410156\" xlink:href=\"#DejaVuSans-54\"/>\n      </g>\n     </g>\n    </g>\n    <g id=\"ytick_5\">\n     <g id=\"line2d_11\">\n      <path clip-path=\"url(#p1b7f89707a)\" d=\"M 43.78125 56.618182 \nL 378.58125 56.618182 \n\" style=\"fill:none;stroke:#b0b0b0;stroke-linecap:square;stroke-width:0.8;\"/>\n     </g>\n     <g id=\"line2d_12\">\n      <g>\n       <use style=\"stroke:#000000;stroke-width:0.8;\" x=\"43.78125\" xlink:href=\"#me42d69917f\" y=\"56.618182\"/>\n      </g>\n     </g>\n     <g id=\"text_8\">\n      <!-- 0.8 -->\n      <defs>\n       <path d=\"M 31.78125 34.625 \nQ 24.75 34.625 20.71875 30.859375 \nQ 16.703125 27.09375 16.703125 20.515625 \nQ 16.703125 13.921875 20.71875 10.15625 \nQ 24.75 6.390625 31.78125 6.390625 \nQ 38.8125 6.390625 42.859375 10.171875 \nQ 46.921875 13.96875 46.921875 20.515625 \nQ 46.921875 27.09375 42.890625 30.859375 \nQ 38.875 34.625 31.78125 34.625 \nz\nM 21.921875 38.8125 \nQ 15.578125 40.375 12.03125 44.71875 \nQ 8.5 49.078125 8.5 55.328125 \nQ 8.5 64.0625 14.71875 69.140625 \nQ 20.953125 74.21875 31.78125 74.21875 \nQ 42.671875 74.21875 48.875 69.140625 \nQ 55.078125 64.0625 55.078125 55.328125 \nQ 55.078125 49.078125 51.53125 44.71875 \nQ 48 40.375 41.703125 38.8125 \nQ 48.828125 37.15625 52.796875 32.3125 \nQ 56.78125 27.484375 56.78125 20.515625 \nQ 56.78125 9.90625 50.3125 4.234375 \nQ 43.84375 -1.421875 31.78125 -1.421875 \nQ 19.734375 -1.421875 13.25 4.234375 \nQ 6.78125 9.90625 6.78125 20.515625 \nQ 6.78125 27.484375 10.78125 32.3125 \nQ 14.796875 37.15625 21.921875 38.8125 \nz\nM 18.3125 54.390625 \nQ 18.3125 48.734375 21.84375 45.5625 \nQ 25.390625 42.390625 31.78125 42.390625 \nQ 38.140625 42.390625 41.71875 45.5625 \nQ 45.3125 48.734375 45.3125 54.390625 \nQ 45.3125 60.0625 41.71875 63.234375 \nQ 38.140625 66.40625 31.78125 66.40625 \nQ 25.390625 66.40625 21.84375 63.234375 \nQ 18.3125 60.0625 18.3125 54.390625 \nz\n\" id=\"DejaVuSans-56\"/>\n      </defs>\n      <g transform=\"translate(20.878125 60.417401)scale(0.1 -0.1)\">\n       <use xlink:href=\"#DejaVuSans-48\"/>\n       <use x=\"63.623047\" xlink:href=\"#DejaVuSans-46\"/>\n       <use x=\"95.410156\" xlink:href=\"#DejaVuSans-56\"/>\n      </g>\n     </g>\n    </g>\n    <g id=\"ytick_6\">\n     <g id=\"line2d_13\">\n      <path clip-path=\"url(#p1b7f89707a)\" d=\"M 43.78125 17.083636 \nL 378.58125 17.083636 \n\" style=\"fill:none;stroke:#b0b0b0;stroke-linecap:square;stroke-width:0.8;\"/>\n     </g>\n     <g id=\"line2d_14\">\n      <g>\n       <use style=\"stroke:#000000;stroke-width:0.8;\" x=\"43.78125\" xlink:href=\"#me42d69917f\" y=\"17.083636\"/>\n      </g>\n     </g>\n     <g id=\"text_9\">\n      <!-- 1.0 -->\n      <defs>\n       <path d=\"M 12.40625 8.296875 \nL 28.515625 8.296875 \nL 28.515625 63.921875 \nL 10.984375 60.40625 \nL 10.984375 69.390625 \nL 28.421875 72.90625 \nL 38.28125 72.90625 \nL 38.28125 8.296875 \nL 54.390625 8.296875 \nL 54.390625 0 \nL 12.40625 0 \nz\n\" id=\"DejaVuSans-49\"/>\n      </defs>\n      <g transform=\"translate(20.878125 20.882855)scale(0.1 -0.1)\">\n       <use xlink:href=\"#DejaVuSans-49\"/>\n       <use x=\"63.623047\" xlink:href=\"#DejaVuSans-46\"/>\n       <use x=\"95.410156\" xlink:href=\"#DejaVuSans-48\"/>\n      </g>\n     </g>\n    </g>\n    <g id=\"text_10\">\n     <!-- Generated probability -->\n     <defs>\n      <path d=\"M 54.890625 33.015625 \nL 54.890625 0 \nL 45.90625 0 \nL 45.90625 32.71875 \nQ 45.90625 40.484375 42.875 44.328125 \nQ 39.84375 48.1875 33.796875 48.1875 \nQ 26.515625 48.1875 22.3125 43.546875 \nQ 18.109375 38.921875 18.109375 30.90625 \nL 18.109375 0 \nL 9.078125 0 \nL 9.078125 54.6875 \nL 18.109375 54.6875 \nL 18.109375 46.1875 \nQ 21.34375 51.125 25.703125 53.5625 \nQ 30.078125 56 35.796875 56 \nQ 45.21875 56 50.046875 50.171875 \nQ 54.890625 44.34375 54.890625 33.015625 \nz\n\" id=\"DejaVuSans-110\"/>\n      <path d=\"M 18.3125 70.21875 \nL 18.3125 54.6875 \nL 36.8125 54.6875 \nL 36.8125 47.703125 \nL 18.3125 47.703125 \nL 18.3125 18.015625 \nQ 18.3125 11.328125 20.140625 9.421875 \nQ 21.96875 7.515625 27.59375 7.515625 \nL 36.8125 7.515625 \nL 36.8125 0 \nL 27.59375 0 \nQ 17.1875 0 13.234375 3.875 \nQ 9.28125 7.765625 9.28125 18.015625 \nL 9.28125 47.703125 \nL 2.6875 47.703125 \nL 2.6875 54.6875 \nL 9.28125 54.6875 \nL 9.28125 70.21875 \nz\n\" id=\"DejaVuSans-116\"/>\n      <path d=\"M 18.109375 8.203125 \nL 18.109375 -20.796875 \nL 9.078125 -20.796875 \nL 9.078125 54.6875 \nL 18.109375 54.6875 \nL 18.109375 46.390625 \nQ 20.953125 51.265625 25.265625 53.625 \nQ 29.59375 56 35.59375 56 \nQ 45.5625 56 51.78125 48.09375 \nQ 58.015625 40.1875 58.015625 27.296875 \nQ 58.015625 14.40625 51.78125 6.484375 \nQ 45.5625 -1.421875 35.59375 -1.421875 \nQ 29.59375 -1.421875 25.265625 0.953125 \nQ 20.953125 3.328125 18.109375 8.203125 \nz\nM 48.6875 27.296875 \nQ 48.6875 37.203125 44.609375 42.84375 \nQ 40.53125 48.484375 33.40625 48.484375 \nQ 26.265625 48.484375 22.1875 42.84375 \nQ 18.109375 37.203125 18.109375 27.296875 \nQ 18.109375 17.390625 22.1875 11.75 \nQ 26.265625 6.109375 33.40625 6.109375 \nQ 40.53125 6.109375 44.609375 11.75 \nQ 48.6875 17.390625 48.6875 27.296875 \nz\n\" id=\"DejaVuSans-112\"/>\n      <path d=\"M 9.421875 54.6875 \nL 18.40625 54.6875 \nL 18.40625 0 \nL 9.421875 0 \nz\nM 9.421875 75.984375 \nL 18.40625 75.984375 \nL 18.40625 64.59375 \nL 9.421875 64.59375 \nz\n\" id=\"DejaVuSans-105\"/>\n      <path d=\"M 32.171875 -5.078125 \nQ 28.375 -14.84375 24.75 -17.8125 \nQ 21.140625 -20.796875 15.09375 -20.796875 \nL 7.90625 -20.796875 \nL 7.90625 -13.28125 \nL 13.1875 -13.28125 \nQ 16.890625 -13.28125 18.9375 -11.515625 \nQ 21 -9.765625 23.484375 -3.21875 \nL 25.09375 0.875 \nL 2.984375 54.6875 \nL 12.5 54.6875 \nL 29.59375 11.921875 \nL 46.6875 54.6875 \nL 56.203125 54.6875 \nz\n\" id=\"DejaVuSans-121\"/>\n     </defs>\n     <g transform=\"translate(14.798438 170.822344)rotate(-90)scale(0.1 -0.1)\">\n      <use xlink:href=\"#DejaVuSans-71\"/>\n      <use x=\"77.490234\" xlink:href=\"#DejaVuSans-101\"/>\n      <use x=\"139.013672\" xlink:href=\"#DejaVuSans-110\"/>\n      <use x=\"202.392578\" xlink:href=\"#DejaVuSans-101\"/>\n      <use x=\"263.916016\" xlink:href=\"#DejaVuSans-114\"/>\n      <use x=\"305.029297\" xlink:href=\"#DejaVuSans-97\"/>\n      <use x=\"366.308594\" xlink:href=\"#DejaVuSans-116\"/>\n      <use x=\"405.517578\" xlink:href=\"#DejaVuSans-101\"/>\n      <use x=\"467.041016\" xlink:href=\"#DejaVuSans-100\"/>\n      <use x=\"530.517578\" xlink:href=\"#DejaVuSans-32\"/>\n      <use x=\"562.304688\" xlink:href=\"#DejaVuSans-112\"/>\n      <use x=\"625.78125\" xlink:href=\"#DejaVuSans-114\"/>\n      <use x=\"666.863281\" xlink:href=\"#DejaVuSans-111\"/>\n      <use x=\"728.044922\" xlink:href=\"#DejaVuSans-98\"/>\n      <use x=\"791.521484\" xlink:href=\"#DejaVuSans-97\"/>\n      <use x=\"852.800781\" xlink:href=\"#DejaVuSans-98\"/>\n      <use x=\"916.277344\" xlink:href=\"#DejaVuSans-105\"/>\n      <use x=\"944.060547\" xlink:href=\"#DejaVuSans-108\"/>\n      <use x=\"971.84375\" xlink:href=\"#DejaVuSans-105\"/>\n      <use x=\"999.626953\" xlink:href=\"#DejaVuSans-116\"/>\n      <use x=\"1038.835938\" xlink:href=\"#DejaVuSans-121\"/>\n     </g>\n    </g>\n   </g>\n   <g id=\"LineCollection_1\">\n    <path clip-path=\"url(#p1b7f89707a)\" d=\"M 84.363068 17.083636 \nL 135.090341 17.083636 \n\" style=\"fill:none;stroke:#1f77b4;stroke-width:1.5;\"/>\n    <path clip-path=\"url(#p1b7f89707a)\" d=\"M 287.272159 17.083636 \nL 337.999432 17.083636 \n\" style=\"fill:none;stroke:#1f77b4;stroke-width:1.5;\"/>\n   </g>\n   <g id=\"LineCollection_2\">\n    <path clip-path=\"url(#p1b7f89707a)\" d=\"M 84.363068 214.756364 \nL 135.090341 214.756364 \n\" style=\"fill:none;stroke:#1f77b4;stroke-width:1.5;\"/>\n    <path clip-path=\"url(#p1b7f89707a)\" d=\"M 287.272159 214.756364 \nL 337.999432 214.756364 \n\" style=\"fill:none;stroke:#1f77b4;stroke-width:1.5;\"/>\n   </g>\n   <g id=\"LineCollection_3\">\n    <path clip-path=\"url(#p1b7f89707a)\" d=\"M 109.726705 214.756364 \nL 109.726705 17.083636 \n\" style=\"fill:none;stroke:#1f77b4;stroke-width:1.5;\"/>\n    <path clip-path=\"url(#p1b7f89707a)\" d=\"M 312.635795 214.756364 \nL 312.635795 17.083636 \n\" style=\"fill:none;stroke:#1f77b4;stroke-width:1.5;\"/>\n   </g>\n   <g id=\"patch_3\">\n    <path d=\"M 43.78125 224.64 \nL 43.78125 7.2 \n\" style=\"fill:none;stroke:#000000;stroke-linecap:square;stroke-linejoin:miter;stroke-width:0.8;\"/>\n   </g>\n   <g id=\"patch_4\">\n    <path d=\"M 378.58125 224.64 \nL 378.58125 7.2 \n\" style=\"fill:none;stroke:#000000;stroke-linecap:square;stroke-linejoin:miter;stroke-width:0.8;\"/>\n   </g>\n   <g id=\"patch_5\">\n    <path d=\"M 43.78125 224.64 \nL 378.58125 224.64 \n\" style=\"fill:none;stroke:#000000;stroke-linecap:square;stroke-linejoin:miter;stroke-width:0.8;\"/>\n   </g>\n   <g id=\"patch_6\">\n    <path d=\"M 43.78125 7.2 \nL 378.58125 7.2 \n\" style=\"fill:none;stroke:#000000;stroke-linecap:square;stroke-linejoin:miter;stroke-width:0.8;\"/>\n   </g>\n  </g>\n </g>\n <defs>\n  <clipPath id=\"p1b7f89707a\">\n   <rect height=\"217.44\" width=\"334.8\" x=\"43.78125\" y=\"7.2\"/>\n  </clipPath>\n </defs>\n</svg>\n",
      "image/png": "[encoded data removed]"
     },
     "metadata": {
      "needs_background": "light"
     }
    }
   ],
   "source": [
    "true_results = list(pd.to_numeric(sent_df.query(\"gold_label==True\").loc[:,\"fuzzy_result\"], errors=\"coerce\").dropna())\n",
    "false_results = list(pd.to_numeric(sent_df.query(\"gold_label==False\").loc[:,\"fuzzy_result\"], errors=\"coerce\").dropna())\n",
    "\n",
    "data = [true_results, false_results]\n",
    "fig, ax = plt.subplots()\n",
    "ax.violinplot(data)\n",
    "ax.yaxis.grid(True)\n",
    "ax.set_xticks([y + 1 for y in range(len(data))])\n",
    "ax.set_xlabel(\"Gold label\")\n",
    "ax.set_ylabel(\"Generated probability\")\n",
    "\n",
    "plt.setp(ax, xticks=[y + 1 for y in range(len(data))], xticklabels=[\"True\", \"False\"])\n",
    "\n",
    "plt.savefig(\"./images/final_fuzzy_violin.png\", format=\"png\", bbox_inches=\"tight\")\n",
    "plt.show()"
   ]
  },
  {
   "cell_type": "code",
   "execution_count": null,
   "metadata": {},
   "outputs": [],
   "source": []
  }
 ]
}