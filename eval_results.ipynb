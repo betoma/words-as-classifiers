{
 "metadata": {
  "language_info": {
   "codemirror_mode": {
    "name": "ipython",
    "version": 3
   },
   "file_extension": ".py",
   "mimetype": "text/x-python",
   "name": "python",
   "nbconvert_exporter": "python",
   "pygments_lexer": "ipython3",
   "version": "3.8.2-final"
  },
  "orig_nbformat": 2,
  "kernelspec": {
   "name": "python3",
   "display_name": "Python 3",
   "language": "python"
  }
 },
 "nbformat": 4,
 "nbformat_minor": 2,
 "cells": [
  {
   "cell_type": "code",
   "execution_count": 1,
   "metadata": {},
   "outputs": [],
   "source": [
    "import pandas as pd\n",
    "import matplotlib.pyplot as plt"
   ]
  },
  {
   "cell_type": "code",
   "execution_count": 2,
   "metadata": {},
   "outputs": [],
   "source": [
    "sent_df = pd.read_pickle(\"./data/processed_data.pkl\")"
   ]
  },
  {
   "cell_type": "code",
   "execution_count": 3,
   "metadata": {},
   "outputs": [],
   "source": [
    "class_cols = list(sent_df.iloc[:,4:23].columns)\n",
    "mixed_cols = list(sent_df.iloc[:,24:].columns)"
   ]
  },
  {
   "cell_type": "code",
   "execution_count": 4,
   "metadata": {},
   "outputs": [],
   "source": [
    "def class_results(row, col_name):\n",
    "    if row[col_name] == \"PARSE_FAIL\":\n",
    "        return \"PARSE_FAIL\"\n",
    "    elif row[\"gold_label\"]:\n",
    "        if row[col_name]:\n",
    "            return \"True Positive\"\n",
    "        else:\n",
    "            return \"False Negative\"\n",
    "    else:\n",
    "        if row[col_name]:\n",
    "            return \"False Positive\"\n",
    "        else:\n",
    "            return \"True Negative\""
   ]
  },
  {
   "cell_type": "code",
   "execution_count": 5,
   "metadata": {},
   "outputs": [
    {
     "output_type": "execute_result",
     "data": {
      "text/plain": [
       "   classical@0.05  classical@0.10  classical@0.15  classical@0.20  \\\n",
       "0   True Positive   True Positive   True Positive   True Positive   \n",
       "1   True Negative   True Negative   True Negative   True Negative   \n",
       "2   True Negative   True Negative   True Negative   True Negative   \n",
       "3   True Positive   True Positive   True Positive   True Positive   \n",
       "4  False Negative  False Negative  False Negative  False Negative   \n",
       "\n",
       "   classical@0.25  classical@0.30  classical@0.35  classical@0.40  \\\n",
       "0   True Positive   True Positive   True Positive   True Positive   \n",
       "1   True Negative   True Negative   True Negative   True Negative   \n",
       "2   True Negative   True Negative   True Negative   True Negative   \n",
       "3   True Positive   True Positive   True Positive   True Positive   \n",
       "4  False Negative  False Negative  False Negative  False Negative   \n",
       "\n",
       "   classical@0.45  classical@0.50  classical@0.55  classical@0.60  \\\n",
       "0   True Positive   True Positive  False Negative  False Negative   \n",
       "1   True Negative   True Negative   True Negative   True Negative   \n",
       "2   True Negative   True Negative   True Negative   True Negative   \n",
       "3   True Positive   True Positive   True Positive   True Positive   \n",
       "4  False Negative  False Negative  False Negative  False Negative   \n",
       "\n",
       "   classical@0.65  classical@0.70  classical@0.75  classical@0.80  \\\n",
       "0  False Negative  False Negative  False Negative  False Negative   \n",
       "1   True Negative   True Negative   True Negative   True Negative   \n",
       "2   True Negative   True Negative   True Negative   True Negative   \n",
       "3   True Positive   True Positive   True Positive   True Positive   \n",
       "4  False Negative  False Negative  False Negative  False Negative   \n",
       "\n",
       "   classical@0.85  classical@0.90  classical@0.95  \n",
       "0  False Negative  False Negative  False Negative  \n",
       "1   True Negative   True Negative   True Negative  \n",
       "2   True Negative   True Negative   True Negative  \n",
       "3   True Positive   True Positive   True Positive  \n",
       "4  False Negative  False Negative  False Negative  "
      ],
      "text/html": "<div>\n<style scoped>\n    .dataframe tbody tr th:only-of-type {\n        vertical-align: middle;\n    }\n\n    .dataframe tbody tr th {\n        vertical-align: top;\n    }\n\n    .dataframe thead th {\n        text-align: right;\n    }\n</style>\n<table border=\"1\" class=\"dataframe\">\n  <thead>\n    <tr style=\"text-align: right;\">\n      <th></th>\n      <th>classical@0.05</th>\n      <th>classical@0.10</th>\n      <th>classical@0.15</th>\n      <th>classical@0.20</th>\n      <th>classical@0.25</th>\n      <th>classical@0.30</th>\n      <th>classical@0.35</th>\n      <th>classical@0.40</th>\n      <th>classical@0.45</th>\n      <th>classical@0.50</th>\n      <th>classical@0.55</th>\n      <th>classical@0.60</th>\n      <th>classical@0.65</th>\n      <th>classical@0.70</th>\n      <th>classical@0.75</th>\n      <th>classical@0.80</th>\n      <th>classical@0.85</th>\n      <th>classical@0.90</th>\n      <th>classical@0.95</th>\n    </tr>\n  </thead>\n  <tbody>\n    <tr>\n      <th>0</th>\n      <td>True Positive</td>\n      <td>True Positive</td>\n      <td>True Positive</td>\n      <td>True Positive</td>\n      <td>True Positive</td>\n      <td>True Positive</td>\n      <td>True Positive</td>\n      <td>True Positive</td>\n      <td>True Positive</td>\n      <td>True Positive</td>\n      <td>False Negative</td>\n      <td>False Negative</td>\n      <td>False Negative</td>\n      <td>False Negative</td>\n      <td>False Negative</td>\n      <td>False Negative</td>\n      <td>False Negative</td>\n      <td>False Negative</td>\n      <td>False Negative</td>\n    </tr>\n    <tr>\n      <th>1</th>\n      <td>True Negative</td>\n      <td>True Negative</td>\n      <td>True Negative</td>\n      <td>True Negative</td>\n      <td>True Negative</td>\n      <td>True Negative</td>\n      <td>True Negative</td>\n      <td>True Negative</td>\n      <td>True Negative</td>\n      <td>True Negative</td>\n      <td>True Negative</td>\n      <td>True Negative</td>\n      <td>True Negative</td>\n      <td>True Negative</td>\n      <td>True Negative</td>\n      <td>True Negative</td>\n      <td>True Negative</td>\n      <td>True Negative</td>\n      <td>True Negative</td>\n    </tr>\n    <tr>\n      <th>2</th>\n      <td>True Negative</td>\n      <td>True Negative</td>\n      <td>True Negative</td>\n      <td>True Negative</td>\n      <td>True Negative</td>\n      <td>True Negative</td>\n      <td>True Negative</td>\n      <td>True Negative</td>\n      <td>True Negative</td>\n      <td>True Negative</td>\n      <td>True Negative</td>\n      <td>True Negative</td>\n      <td>True Negative</td>\n      <td>True Negative</td>\n      <td>True Negative</td>\n      <td>True Negative</td>\n      <td>True Negative</td>\n      <td>True Negative</td>\n      <td>True Negative</td>\n    </tr>\n    <tr>\n      <th>3</th>\n      <td>True Positive</td>\n      <td>True Positive</td>\n      <td>True Positive</td>\n      <td>True Positive</td>\n      <td>True Positive</td>\n      <td>True Positive</td>\n      <td>True Positive</td>\n      <td>True Positive</td>\n      <td>True Positive</td>\n      <td>True Positive</td>\n      <td>True Positive</td>\n      <td>True Positive</td>\n      <td>True Positive</td>\n      <td>True Positive</td>\n      <td>True Positive</td>\n      <td>True Positive</td>\n      <td>True Positive</td>\n      <td>True Positive</td>\n      <td>True Positive</td>\n    </tr>\n    <tr>\n      <th>4</th>\n      <td>False Negative</td>\n      <td>False Negative</td>\n      <td>False Negative</td>\n      <td>False Negative</td>\n      <td>False Negative</td>\n      <td>False Negative</td>\n      <td>False Negative</td>\n      <td>False Negative</td>\n      <td>False Negative</td>\n      <td>False Negative</td>\n      <td>False Negative</td>\n      <td>False Negative</td>\n      <td>False Negative</td>\n      <td>False Negative</td>\n      <td>False Negative</td>\n      <td>False Negative</td>\n      <td>False Negative</td>\n      <td>False Negative</td>\n      <td>False Negative</td>\n    </tr>\n  </tbody>\n</table>\n</div>"
     },
     "metadata": {},
     "execution_count": 5
    }
   ],
   "source": [
    "classical_df = pd.DataFrame(columns=class_cols)\n",
    "for col in class_cols:\n",
    "    classical_df[col] = sent_df.apply(lambda row: class_results(row, col), axis=1)\n",
    "classical_df.head()"
   ]
  },
  {
   "cell_type": "code",
   "execution_count": 6,
   "metadata": {},
   "outputs": [
    {
     "output_type": "execute_result",
     "data": {
      "text/plain": [
       "       mixed@0.60      mixed@0.61      mixed@0.62      mixed@0.63  \\\n",
       "0  False Negative  False Negative  False Negative  False Negative   \n",
       "1   True Negative   True Negative   True Negative   True Negative   \n",
       "2   True Negative   True Negative   True Negative   True Negative   \n",
       "3   True Positive   True Positive   True Positive   True Positive   \n",
       "4  False Negative  False Negative  False Negative  False Negative   \n",
       "\n",
       "       mixed@0.64      mixed@0.65      mixed@0.66      mixed@0.67  \\\n",
       "0  False Negative  False Negative  False Negative  False Negative   \n",
       "1   True Negative   True Negative   True Negative   True Negative   \n",
       "2   True Negative   True Negative   True Negative   True Negative   \n",
       "3   True Positive   True Positive   True Positive   True Positive   \n",
       "4  False Negative  False Negative  False Negative  False Negative   \n",
       "\n",
       "       mixed@0.68      mixed@0.69  ...      mixed@0.90      mixed@0.91  \\\n",
       "0  False Negative  False Negative  ...  False Negative  False Negative   \n",
       "1   True Negative   True Negative  ...   True Negative   True Negative   \n",
       "2   True Negative   True Negative  ...   True Negative   True Negative   \n",
       "3   True Positive   True Positive  ...   True Positive   True Positive   \n",
       "4  False Negative  False Negative  ...  False Negative  False Negative   \n",
       "\n",
       "       mixed@0.92      mixed@0.93      mixed@0.94      mixed@0.95  \\\n",
       "0  False Negative  False Negative  False Negative  False Negative   \n",
       "1   True Negative   True Negative   True Negative   True Negative   \n",
       "2   True Negative   True Negative   True Negative   True Negative   \n",
       "3   True Positive   True Positive   True Positive   True Positive   \n",
       "4  False Negative  False Negative  False Negative  False Negative   \n",
       "\n",
       "       mixed@0.96      mixed@0.97      mixed@0.98      mixed@0.99  \n",
       "0  False Negative  False Negative  False Negative  False Negative  \n",
       "1   True Negative   True Negative   True Negative   True Negative  \n",
       "2   True Negative   True Negative   True Negative   True Negative  \n",
       "3   True Positive   True Positive   True Positive   True Positive  \n",
       "4  False Negative  False Negative  False Negative  False Negative  \n",
       "\n",
       "[5 rows x 40 columns]"
      ],
      "text/html": "<div>\n<style scoped>\n    .dataframe tbody tr th:only-of-type {\n        vertical-align: middle;\n    }\n\n    .dataframe tbody tr th {\n        vertical-align: top;\n    }\n\n    .dataframe thead th {\n        text-align: right;\n    }\n</style>\n<table border=\"1\" class=\"dataframe\">\n  <thead>\n    <tr style=\"text-align: right;\">\n      <th></th>\n      <th>mixed@0.60</th>\n      <th>mixed@0.61</th>\n      <th>mixed@0.62</th>\n      <th>mixed@0.63</th>\n      <th>mixed@0.64</th>\n      <th>mixed@0.65</th>\n      <th>mixed@0.66</th>\n      <th>mixed@0.67</th>\n      <th>mixed@0.68</th>\n      <th>mixed@0.69</th>\n      <th>...</th>\n      <th>mixed@0.90</th>\n      <th>mixed@0.91</th>\n      <th>mixed@0.92</th>\n      <th>mixed@0.93</th>\n      <th>mixed@0.94</th>\n      <th>mixed@0.95</th>\n      <th>mixed@0.96</th>\n      <th>mixed@0.97</th>\n      <th>mixed@0.98</th>\n      <th>mixed@0.99</th>\n    </tr>\n  </thead>\n  <tbody>\n    <tr>\n      <th>0</th>\n      <td>False Negative</td>\n      <td>False Negative</td>\n      <td>False Negative</td>\n      <td>False Negative</td>\n      <td>False Negative</td>\n      <td>False Negative</td>\n      <td>False Negative</td>\n      <td>False Negative</td>\n      <td>False Negative</td>\n      <td>False Negative</td>\n      <td>...</td>\n      <td>False Negative</td>\n      <td>False Negative</td>\n      <td>False Negative</td>\n      <td>False Negative</td>\n      <td>False Negative</td>\n      <td>False Negative</td>\n      <td>False Negative</td>\n      <td>False Negative</td>\n      <td>False Negative</td>\n      <td>False Negative</td>\n    </tr>\n    <tr>\n      <th>1</th>\n      <td>True Negative</td>\n      <td>True Negative</td>\n      <td>True Negative</td>\n      <td>True Negative</td>\n      <td>True Negative</td>\n      <td>True Negative</td>\n      <td>True Negative</td>\n      <td>True Negative</td>\n      <td>True Negative</td>\n      <td>True Negative</td>\n      <td>...</td>\n      <td>True Negative</td>\n      <td>True Negative</td>\n      <td>True Negative</td>\n      <td>True Negative</td>\n      <td>True Negative</td>\n      <td>True Negative</td>\n      <td>True Negative</td>\n      <td>True Negative</td>\n      <td>True Negative</td>\n      <td>True Negative</td>\n    </tr>\n    <tr>\n      <th>2</th>\n      <td>True Negative</td>\n      <td>True Negative</td>\n      <td>True Negative</td>\n      <td>True Negative</td>\n      <td>True Negative</td>\n      <td>True Negative</td>\n      <td>True Negative</td>\n      <td>True Negative</td>\n      <td>True Negative</td>\n      <td>True Negative</td>\n      <td>...</td>\n      <td>True Negative</td>\n      <td>True Negative</td>\n      <td>True Negative</td>\n      <td>True Negative</td>\n      <td>True Negative</td>\n      <td>True Negative</td>\n      <td>True Negative</td>\n      <td>True Negative</td>\n      <td>True Negative</td>\n      <td>True Negative</td>\n    </tr>\n    <tr>\n      <th>3</th>\n      <td>True Positive</td>\n      <td>True Positive</td>\n      <td>True Positive</td>\n      <td>True Positive</td>\n      <td>True Positive</td>\n      <td>True Positive</td>\n      <td>True Positive</td>\n      <td>True Positive</td>\n      <td>True Positive</td>\n      <td>True Positive</td>\n      <td>...</td>\n      <td>True Positive</td>\n      <td>True Positive</td>\n      <td>True Positive</td>\n      <td>True Positive</td>\n      <td>True Positive</td>\n      <td>True Positive</td>\n      <td>True Positive</td>\n      <td>True Positive</td>\n      <td>True Positive</td>\n      <td>True Positive</td>\n    </tr>\n    <tr>\n      <th>4</th>\n      <td>False Negative</td>\n      <td>False Negative</td>\n      <td>False Negative</td>\n      <td>False Negative</td>\n      <td>False Negative</td>\n      <td>False Negative</td>\n      <td>False Negative</td>\n      <td>False Negative</td>\n      <td>False Negative</td>\n      <td>False Negative</td>\n      <td>...</td>\n      <td>False Negative</td>\n      <td>False Negative</td>\n      <td>False Negative</td>\n      <td>False Negative</td>\n      <td>False Negative</td>\n      <td>False Negative</td>\n      <td>False Negative</td>\n      <td>False Negative</td>\n      <td>False Negative</td>\n      <td>False Negative</td>\n    </tr>\n  </tbody>\n</table>\n<p>5 rows × 40 columns</p>\n</div>"
     },
     "metadata": {},
     "execution_count": 6
    }
   ],
   "source": [
    "mixed_df = pd.DataFrame(columns=mixed_cols)\n",
    "for col in mixed_cols:\n",
    "    mixed_df[col] = sent_df.apply(lambda row: class_results(row, col), axis=1)\n",
    "mixed_df.head()"
   ]
  },
  {
   "cell_type": "code",
   "execution_count": 7,
   "metadata": {},
   "outputs": [],
   "source": [
    "def get_scores(dist):\n",
    "    vals = dist.value_counts()\n",
    "    tp = vals[\"True Positive\"]\n",
    "    fp = vals[\"False Positive\"]\n",
    "    tn = vals[\"True Negative\"]\n",
    "    fn = vals[\"False Negative\"]\n",
    "    pf = vals[\"PARSE_FAIL\"]\n",
    "    acc = (tp + tn) / (tp + tn + fp + fn + pf)\n",
    "    acc_wo_pf = (tp + tn) / (tp + tn + fp + fn)\n",
    "    prec = tp / (tp + fp)\n",
    "    rec = tp / (tp + fn)\n",
    "    f1 = 2 * ((prec * rec) / (prec + rec))\n",
    "    return acc, acc_wo_pf, prec, rec, f1\n"
   ]
  },
  {
   "cell_type": "code",
   "execution_count": 8,
   "metadata": {},
   "outputs": [
    {
     "output_type": "execute_result",
     "data": {
      "text/plain": [
       "            Accuracy  Accuracy_wo_parsefails  Precision    Recall        F1\n",
       "mixed@0.60  0.797042                0.798002   0.962168  0.606406  0.743942\n",
       "mixed@0.61  0.796526                0.797486   0.962104  0.605338  0.743119\n",
       "mixed@0.62  0.795494                0.796453   0.962500  0.602847  0.741357\n",
       "mixed@0.63  0.793774                0.794730   0.962286  0.599288  0.738596\n",
       "mixed@0.64  0.792570                0.793525   0.962134  0.596797  0.736657\n",
       "mixed@0.65  0.792054                0.793008   0.962069  0.595730  0.735824\n",
       "mixed@0.66  0.790850                0.791803   0.961916  0.593238  0.733876\n",
       "mixed@0.67  0.789302                0.790253   0.961717  0.590036  0.731363\n",
       "mixed@0.68  0.789302                0.790253   0.962791  0.589324  0.731126\n",
       "mixed@0.69  0.787754                0.788703   0.962595  0.586121  0.728600\n",
       "mixed@0.70  0.786378                0.787326   0.962419  0.583274  0.726346\n",
       "mixed@0.71  0.785174                0.786120   0.963357  0.580071  0.724123\n",
       "mixed@0.72  0.782594                0.783537   0.963029  0.574733  0.719857\n",
       "mixed@0.73  0.782422                0.783365   0.964671  0.573310  0.719196\n",
       "mixed@0.74  0.780186                0.781126   0.964393  0.568683  0.715469\n",
       "mixed@0.75  0.779498                0.780437   0.965434  0.566548  0.714061\n",
       "mixed@0.76  0.778638                0.779576   0.966463  0.564057  0.712360\n",
       "mixed@0.77  0.777434                0.778371   0.966320  0.561566  0.710331\n",
       "mixed@0.78  0.776574                0.777510   0.967365  0.559075  0.708615\n",
       "mixed@0.79  0.775714                0.776649   0.967842  0.556940  0.707025\n",
       "mixed@0.80  0.772790                0.773721   0.967500  0.550890  0.702041\n",
       "mixed@0.81  0.771242                0.772172   0.967904  0.547331  0.699250\n",
       "mixed@0.82  0.769522                0.770449   0.967701  0.543772  0.696286\n",
       "mixed@0.83  0.766426                0.767350   0.967329  0.537367  0.690917\n",
       "mixed@0.84  0.765050                0.765972   0.967763  0.534164  0.688374\n",
       "mixed@0.85  0.764190                0.765111   0.968872  0.531673  0.686581\n",
       "mixed@0.86  0.762642                0.763561   0.970530  0.527402  0.683422\n",
       "mixed@0.87  0.760750                0.761667   0.970317  0.523488  0.680074\n",
       "mixed@0.88  0.758686                0.759600   0.971963  0.518149  0.675952\n",
       "mixed@0.89  0.755934                0.756845   0.972297  0.512100  0.670862\n",
       "mixed@0.90  0.753526                0.754434   0.972678  0.506762  0.666355\n",
       "mixed@0.91  0.750086                0.750990   0.973611  0.498932  0.659765\n",
       "mixed@0.92  0.745614                0.746513   0.973796  0.489324  0.651350\n",
       "mixed@0.93  0.742862                0.743758   0.974856  0.482918  0.645883\n",
       "mixed@0.94  0.739250                0.740141   0.977256  0.474021  0.638390\n",
       "mixed@0.95  0.734950                0.735836   0.978979  0.464057  0.629648\n",
       "mixed@0.96  0.727382                0.728259   0.979751  0.447687  0.614558\n",
       "mixed@0.97  0.718610                0.719476   0.978913  0.429537  0.597081\n",
       "mixed@0.98  0.707946                0.708800   0.978614  0.407117  0.575019\n",
       "mixed@0.99  0.694186                0.695023   0.979686  0.377580  0.545081"
      ],
      "text/html": "<div>\n<style scoped>\n    .dataframe tbody tr th:only-of-type {\n        vertical-align: middle;\n    }\n\n    .dataframe tbody tr th {\n        vertical-align: top;\n    }\n\n    .dataframe thead th {\n        text-align: right;\n    }\n</style>\n<table border=\"1\" class=\"dataframe\">\n  <thead>\n    <tr style=\"text-align: right;\">\n      <th></th>\n      <th>Accuracy</th>\n      <th>Accuracy_wo_parsefails</th>\n      <th>Precision</th>\n      <th>Recall</th>\n      <th>F1</th>\n    </tr>\n  </thead>\n  <tbody>\n    <tr>\n      <th>mixed@0.60</th>\n      <td>0.797042</td>\n      <td>0.798002</td>\n      <td>0.962168</td>\n      <td>0.606406</td>\n      <td>0.743942</td>\n    </tr>\n    <tr>\n      <th>mixed@0.61</th>\n      <td>0.796526</td>\n      <td>0.797486</td>\n      <td>0.962104</td>\n      <td>0.605338</td>\n      <td>0.743119</td>\n    </tr>\n    <tr>\n      <th>mixed@0.62</th>\n      <td>0.795494</td>\n      <td>0.796453</td>\n      <td>0.962500</td>\n      <td>0.602847</td>\n      <td>0.741357</td>\n    </tr>\n    <tr>\n      <th>mixed@0.63</th>\n      <td>0.793774</td>\n      <td>0.794730</td>\n      <td>0.962286</td>\n      <td>0.599288</td>\n      <td>0.738596</td>\n    </tr>\n    <tr>\n      <th>mixed@0.64</th>\n      <td>0.792570</td>\n      <td>0.793525</td>\n      <td>0.962134</td>\n      <td>0.596797</td>\n      <td>0.736657</td>\n    </tr>\n    <tr>\n      <th>mixed@0.65</th>\n      <td>0.792054</td>\n      <td>0.793008</td>\n      <td>0.962069</td>\n      <td>0.595730</td>\n      <td>0.735824</td>\n    </tr>\n    <tr>\n      <th>mixed@0.66</th>\n      <td>0.790850</td>\n      <td>0.791803</td>\n      <td>0.961916</td>\n      <td>0.593238</td>\n      <td>0.733876</td>\n    </tr>\n    <tr>\n      <th>mixed@0.67</th>\n      <td>0.789302</td>\n      <td>0.790253</td>\n      <td>0.961717</td>\n      <td>0.590036</td>\n      <td>0.731363</td>\n    </tr>\n    <tr>\n      <th>mixed@0.68</th>\n      <td>0.789302</td>\n      <td>0.790253</td>\n      <td>0.962791</td>\n      <td>0.589324</td>\n      <td>0.731126</td>\n    </tr>\n    <tr>\n      <th>mixed@0.69</th>\n      <td>0.787754</td>\n      <td>0.788703</td>\n      <td>0.962595</td>\n      <td>0.586121</td>\n      <td>0.728600</td>\n    </tr>\n    <tr>\n      <th>mixed@0.70</th>\n      <td>0.786378</td>\n      <td>0.787326</td>\n      <td>0.962419</td>\n      <td>0.583274</td>\n      <td>0.726346</td>\n    </tr>\n    <tr>\n      <th>mixed@0.71</th>\n      <td>0.785174</td>\n      <td>0.786120</td>\n      <td>0.963357</td>\n      <td>0.580071</td>\n      <td>0.724123</td>\n    </tr>\n    <tr>\n      <th>mixed@0.72</th>\n      <td>0.782594</td>\n      <td>0.783537</td>\n      <td>0.963029</td>\n      <td>0.574733</td>\n      <td>0.719857</td>\n    </tr>\n    <tr>\n      <th>mixed@0.73</th>\n      <td>0.782422</td>\n      <td>0.783365</td>\n      <td>0.964671</td>\n      <td>0.573310</td>\n      <td>0.719196</td>\n    </tr>\n    <tr>\n      <th>mixed@0.74</th>\n      <td>0.780186</td>\n      <td>0.781126</td>\n      <td>0.964393</td>\n      <td>0.568683</td>\n      <td>0.715469</td>\n    </tr>\n    <tr>\n      <th>mixed@0.75</th>\n      <td>0.779498</td>\n      <td>0.780437</td>\n      <td>0.965434</td>\n      <td>0.566548</td>\n      <td>0.714061</td>\n    </tr>\n    <tr>\n      <th>mixed@0.76</th>\n      <td>0.778638</td>\n      <td>0.779576</td>\n      <td>0.966463</td>\n      <td>0.564057</td>\n      <td>0.712360</td>\n    </tr>\n    <tr>\n      <th>mixed@0.77</th>\n      <td>0.777434</td>\n      <td>0.778371</td>\n      <td>0.966320</td>\n      <td>0.561566</td>\n      <td>0.710331</td>\n    </tr>\n    <tr>\n      <th>mixed@0.78</th>\n      <td>0.776574</td>\n      <td>0.777510</td>\n      <td>0.967365</td>\n      <td>0.559075</td>\n      <td>0.708615</td>\n    </tr>\n    <tr>\n      <th>mixed@0.79</th>\n      <td>0.775714</td>\n      <td>0.776649</td>\n      <td>0.967842</td>\n      <td>0.556940</td>\n      <td>0.707025</td>\n    </tr>\n    <tr>\n      <th>mixed@0.80</th>\n      <td>0.772790</td>\n      <td>0.773721</td>\n      <td>0.967500</td>\n      <td>0.550890</td>\n      <td>0.702041</td>\n    </tr>\n    <tr>\n      <th>mixed@0.81</th>\n      <td>0.771242</td>\n      <td>0.772172</td>\n      <td>0.967904</td>\n      <td>0.547331</td>\n      <td>0.699250</td>\n    </tr>\n    <tr>\n      <th>mixed@0.82</th>\n      <td>0.769522</td>\n      <td>0.770449</td>\n      <td>0.967701</td>\n      <td>0.543772</td>\n      <td>0.696286</td>\n    </tr>\n    <tr>\n      <th>mixed@0.83</th>\n      <td>0.766426</td>\n      <td>0.767350</td>\n      <td>0.967329</td>\n      <td>0.537367</td>\n      <td>0.690917</td>\n    </tr>\n    <tr>\n      <th>mixed@0.84</th>\n      <td>0.765050</td>\n      <td>0.765972</td>\n      <td>0.967763</td>\n      <td>0.534164</td>\n      <td>0.688374</td>\n    </tr>\n    <tr>\n      <th>mixed@0.85</th>\n      <td>0.764190</td>\n      <td>0.765111</td>\n      <td>0.968872</td>\n      <td>0.531673</td>\n      <td>0.686581</td>\n    </tr>\n    <tr>\n      <th>mixed@0.86</th>\n      <td>0.762642</td>\n      <td>0.763561</td>\n      <td>0.970530</td>\n      <td>0.527402</td>\n      <td>0.683422</td>\n    </tr>\n    <tr>\n      <th>mixed@0.87</th>\n      <td>0.760750</td>\n      <td>0.761667</td>\n      <td>0.970317</td>\n      <td>0.523488</td>\n      <td>0.680074</td>\n    </tr>\n    <tr>\n      <th>mixed@0.88</th>\n      <td>0.758686</td>\n      <td>0.759600</td>\n      <td>0.971963</td>\n      <td>0.518149</td>\n      <td>0.675952</td>\n    </tr>\n    <tr>\n      <th>mixed@0.89</th>\n      <td>0.755934</td>\n      <td>0.756845</td>\n      <td>0.972297</td>\n      <td>0.512100</td>\n      <td>0.670862</td>\n    </tr>\n    <tr>\n      <th>mixed@0.90</th>\n      <td>0.753526</td>\n      <td>0.754434</td>\n      <td>0.972678</td>\n      <td>0.506762</td>\n      <td>0.666355</td>\n    </tr>\n    <tr>\n      <th>mixed@0.91</th>\n      <td>0.750086</td>\n      <td>0.750990</td>\n      <td>0.973611</td>\n      <td>0.498932</td>\n      <td>0.659765</td>\n    </tr>\n    <tr>\n      <th>mixed@0.92</th>\n      <td>0.745614</td>\n      <td>0.746513</td>\n      <td>0.973796</td>\n      <td>0.489324</td>\n      <td>0.651350</td>\n    </tr>\n    <tr>\n      <th>mixed@0.93</th>\n      <td>0.742862</td>\n      <td>0.743758</td>\n      <td>0.974856</td>\n      <td>0.482918</td>\n      <td>0.645883</td>\n    </tr>\n    <tr>\n      <th>mixed@0.94</th>\n      <td>0.739250</td>\n      <td>0.740141</td>\n      <td>0.977256</td>\n      <td>0.474021</td>\n      <td>0.638390</td>\n    </tr>\n    <tr>\n      <th>mixed@0.95</th>\n      <td>0.734950</td>\n      <td>0.735836</td>\n      <td>0.978979</td>\n      <td>0.464057</td>\n      <td>0.629648</td>\n    </tr>\n    <tr>\n      <th>mixed@0.96</th>\n      <td>0.727382</td>\n      <td>0.728259</td>\n      <td>0.979751</td>\n      <td>0.447687</td>\n      <td>0.614558</td>\n    </tr>\n    <tr>\n      <th>mixed@0.97</th>\n      <td>0.718610</td>\n      <td>0.719476</td>\n      <td>0.978913</td>\n      <td>0.429537</td>\n      <td>0.597081</td>\n    </tr>\n    <tr>\n      <th>mixed@0.98</th>\n      <td>0.707946</td>\n      <td>0.708800</td>\n      <td>0.978614</td>\n      <td>0.407117</td>\n      <td>0.575019</td>\n    </tr>\n    <tr>\n      <th>mixed@0.99</th>\n      <td>0.694186</td>\n      <td>0.695023</td>\n      <td>0.979686</td>\n      <td>0.377580</td>\n      <td>0.545081</td>\n    </tr>\n  </tbody>\n</table>\n</div>"
     },
     "metadata": {},
     "execution_count": 8
    }
   ],
   "source": [
    "mixed_acc_df = mixed_df.apply(lambda col: get_scores(col), axis=0).transpose()\n",
    "mixed_acc_df.columns = [\"Accuracy\", \"Accuracy_wo_parsefails\", \"Precision\", \"Recall\", \"F1\"]\n",
    "mixed_acc_df\n"
   ]
  },
  {
   "cell_type": "code",
   "execution_count": 10,
   "metadata": {},
   "outputs": [
    {
     "output_type": "execute_result",
     "data": {
      "text/plain": [
       "                Accuracy  Accuracy_wo_parsefails  Precision    Recall  \\\n",
       "classical@0.05  0.847953                0.848975   0.922606  0.750890   \n",
       "classical@0.10  0.840901                0.841915   0.935945  0.722776   \n",
       "classical@0.15  0.833677                0.834682   0.939221  0.703915   \n",
       "classical@0.20  0.828001                0.828999   0.943387  0.687900   \n",
       "classical@0.25  0.824217                0.825211   0.945852  0.677580   \n",
       "classical@0.30  0.818885                0.819873   0.952308  0.660854   \n",
       "classical@0.35  0.814757                0.815740   0.953125  0.651246   \n",
       "classical@0.40  0.809598                0.810573   0.955272  0.638434   \n",
       "classical@0.45  0.805298                0.806268   0.956145  0.628470   \n",
       "classical@0.50  0.800310                0.801274   0.958980  0.615658   \n",
       "classical@0.55  0.794634                0.795592   0.959773  0.602847   \n",
       "classical@0.60  0.789302                0.790253   0.961182  0.590391   \n",
       "classical@0.65  0.783970                0.784915   0.962656  0.577936   \n",
       "classical@0.70  0.773822                0.774755   0.963009  0.555872   \n",
       "classical@0.75  0.765738                0.766661   0.962492  0.538790   \n",
       "classical@0.80  0.755074                0.755984   0.964024  0.514947   \n",
       "classical@0.85  0.743034                0.743930   0.967491  0.487189   \n",
       "classical@0.90  0.728930                0.729809   0.971863  0.454804   \n",
       "classical@0.95  0.704334                0.705183   0.975737  0.400712   \n",
       "\n",
       "                      F1  \n",
       "classical@0.05  0.827938  \n",
       "classical@0.10  0.815663  \n",
       "classical@0.15  0.804719  \n",
       "classical@0.20  0.795637  \n",
       "classical@0.25  0.789550  \n",
       "classical@0.30  0.780252  \n",
       "classical@0.35  0.773784  \n",
       "classical@0.40  0.765358  \n",
       "classical@0.45  0.758428  \n",
       "classical@0.50  0.749892  \n",
       "classical@0.55  0.740546  \n",
       "classical@0.60  0.731481  \n",
       "classical@0.65  0.722259  \n",
       "classical@0.70  0.704874  \n",
       "classical@0.75  0.690851  \n",
       "classical@0.80  0.671306  \n",
       "classical@0.85  0.648047  \n",
       "classical@0.90  0.619636  \n",
       "classical@0.95  0.568113  "
      ],
      "text/html": "<div>\n<style scoped>\n    .dataframe tbody tr th:only-of-type {\n        vertical-align: middle;\n    }\n\n    .dataframe tbody tr th {\n        vertical-align: top;\n    }\n\n    .dataframe thead th {\n        text-align: right;\n    }\n</style>\n<table border=\"1\" class=\"dataframe\">\n  <thead>\n    <tr style=\"text-align: right;\">\n      <th></th>\n      <th>Accuracy</th>\n      <th>Accuracy_wo_parsefails</th>\n      <th>Precision</th>\n      <th>Recall</th>\n      <th>F1</th>\n    </tr>\n  </thead>\n  <tbody>\n    <tr>\n      <th>classical@0.05</th>\n      <td>0.847953</td>\n      <td>0.848975</td>\n      <td>0.922606</td>\n      <td>0.750890</td>\n      <td>0.827938</td>\n    </tr>\n    <tr>\n      <th>classical@0.10</th>\n      <td>0.840901</td>\n      <td>0.841915</td>\n      <td>0.935945</td>\n      <td>0.722776</td>\n      <td>0.815663</td>\n    </tr>\n    <tr>\n      <th>classical@0.15</th>\n      <td>0.833677</td>\n      <td>0.834682</td>\n      <td>0.939221</td>\n      <td>0.703915</td>\n      <td>0.804719</td>\n    </tr>\n    <tr>\n      <th>classical@0.20</th>\n      <td>0.828001</td>\n      <td>0.828999</td>\n      <td>0.943387</td>\n      <td>0.687900</td>\n      <td>0.795637</td>\n    </tr>\n    <tr>\n      <th>classical@0.25</th>\n      <td>0.824217</td>\n      <td>0.825211</td>\n      <td>0.945852</td>\n      <td>0.677580</td>\n      <td>0.789550</td>\n    </tr>\n    <tr>\n      <th>classical@0.30</th>\n      <td>0.818885</td>\n      <td>0.819873</td>\n      <td>0.952308</td>\n      <td>0.660854</td>\n      <td>0.780252</td>\n    </tr>\n    <tr>\n      <th>classical@0.35</th>\n      <td>0.814757</td>\n      <td>0.815740</td>\n      <td>0.953125</td>\n      <td>0.651246</td>\n      <td>0.773784</td>\n    </tr>\n    <tr>\n      <th>classical@0.40</th>\n      <td>0.809598</td>\n      <td>0.810573</td>\n      <td>0.955272</td>\n      <td>0.638434</td>\n      <td>0.765358</td>\n    </tr>\n    <tr>\n      <th>classical@0.45</th>\n      <td>0.805298</td>\n      <td>0.806268</td>\n      <td>0.956145</td>\n      <td>0.628470</td>\n      <td>0.758428</td>\n    </tr>\n    <tr>\n      <th>classical@0.50</th>\n      <td>0.800310</td>\n      <td>0.801274</td>\n      <td>0.958980</td>\n      <td>0.615658</td>\n      <td>0.749892</td>\n    </tr>\n    <tr>\n      <th>classical@0.55</th>\n      <td>0.794634</td>\n      <td>0.795592</td>\n      <td>0.959773</td>\n      <td>0.602847</td>\n      <td>0.740546</td>\n    </tr>\n    <tr>\n      <th>classical@0.60</th>\n      <td>0.789302</td>\n      <td>0.790253</td>\n      <td>0.961182</td>\n      <td>0.590391</td>\n      <td>0.731481</td>\n    </tr>\n    <tr>\n      <th>classical@0.65</th>\n      <td>0.783970</td>\n      <td>0.784915</td>\n      <td>0.962656</td>\n      <td>0.577936</td>\n      <td>0.722259</td>\n    </tr>\n    <tr>\n      <th>classical@0.70</th>\n      <td>0.773822</td>\n      <td>0.774755</td>\n      <td>0.963009</td>\n      <td>0.555872</td>\n      <td>0.704874</td>\n    </tr>\n    <tr>\n      <th>classical@0.75</th>\n      <td>0.765738</td>\n      <td>0.766661</td>\n      <td>0.962492</td>\n      <td>0.538790</td>\n      <td>0.690851</td>\n    </tr>\n    <tr>\n      <th>classical@0.80</th>\n      <td>0.755074</td>\n      <td>0.755984</td>\n      <td>0.964024</td>\n      <td>0.514947</td>\n      <td>0.671306</td>\n    </tr>\n    <tr>\n      <th>classical@0.85</th>\n      <td>0.743034</td>\n      <td>0.743930</td>\n      <td>0.967491</td>\n      <td>0.487189</td>\n      <td>0.648047</td>\n    </tr>\n    <tr>\n      <th>classical@0.90</th>\n      <td>0.728930</td>\n      <td>0.729809</td>\n      <td>0.971863</td>\n      <td>0.454804</td>\n      <td>0.619636</td>\n    </tr>\n    <tr>\n      <th>classical@0.95</th>\n      <td>0.704334</td>\n      <td>0.705183</td>\n      <td>0.975737</td>\n      <td>0.400712</td>\n      <td>0.568113</td>\n    </tr>\n  </tbody>\n</table>\n</div>"
     },
     "metadata": {},
     "execution_count": 10
    }
   ],
   "source": [
    "class_acc_df = classical_df.apply(lambda col: get_scores(col), axis=0).transpose()\n",
    "class_acc_df.columns = [\"Accuracy\", \"Accuracy_wo_parsefails\", \"Precision\", \"Recall\", \"F1\"]\n",
    "class_acc_df"
   ]
  },
  {
   "cell_type": "code",
   "execution_count": 5,
   "metadata": {},
   "outputs": [],
   "source": [
    "def print_scores(dist):\n",
    "    acc, acc_wo_pf, prec, rec, f1 = get_scores(dist)\n",
    "    print(\"Accuracy: {:.4f}\".format(acc))\n",
    "    print(\"Accuracy (w/o parse failures): {:.4f}\".format(acc_wo_pf))\n",
    "    print(\"Percentage of parse failures: {:.4f}\".format(pf / (tp + tn + fp + fn + pf)))\n",
    "    print(\"Precision: {:.4f}\".format(prec))\n",
    "    print(\"Recall: {:.4f}\".format(rec))\n",
    "    print(\"F1 Score: {:.4f}\".format(f1))"
   ]
  },
  {
   "cell_type": "code",
   "execution_count": 30,
   "metadata": {},
   "outputs": [
    {
     "output_type": "execute_result",
     "data": {
      "text/plain": [
       "Empty DataFrame\n",
       "Columns: [self, other]\n",
       "Index: []"
      ],
      "text/html": "<div>\n<style scoped>\n    .dataframe tbody tr th:only-of-type {\n        vertical-align: middle;\n    }\n\n    .dataframe tbody tr th {\n        vertical-align: top;\n    }\n\n    .dataframe thead th {\n        text-align: right;\n    }\n</style>\n<table border=\"1\" class=\"dataframe\">\n  <thead>\n    <tr style=\"text-align: right;\">\n      <th></th>\n      <th>self</th>\n      <th>other</th>\n    </tr>\n  </thead>\n  <tbody>\n  </tbody>\n</table>\n</div>"
     },
     "metadata": {},
     "execution_count": 30
    }
   ],
   "source": [
    "sent_df.loc[:,\"classical@0.60\"].compare(sent_df.loc[:,\"classical@0.99\"])"
   ]
  },
  {
   "cell_type": "code",
   "execution_count": 12,
   "metadata": {},
   "outputs": [
    {
     "output_type": "stream",
     "name": "stdout",
     "text": [
      "classical@0.60 mixed@0.60\n"
     ]
    }
   ],
   "source": [
    "max_class = max(classical_accs, key=lambda key: classical_accs[key][4])\n",
    "max_mix = max(mixed_accs, key=lambda key: mixed_accs[key][4])\n",
    "print(max_class, max_mix)\n",
    "\n",
    "classical_dist = classical_res[max_class]\n",
    "mixed_dist = mixed_res[max_mix]"
   ]
  },
  {
   "cell_type": "code",
   "execution_count": null,
   "metadata": {},
   "outputs": [],
   "source": [
    "classical_dist.value_counts()"
   ]
  },
  {
   "cell_type": "code",
   "execution_count": null,
   "metadata": {},
   "outputs": [],
   "source": [
    "mixed_dist.value_counts()"
   ]
  },
  {
   "cell_type": "code",
   "execution_count": null,
   "metadata": {},
   "outputs": [],
   "source": [
    "get_scores(classical_dist)"
   ]
  },
  {
   "cell_type": "code",
   "execution_count": null,
   "metadata": {},
   "outputs": [],
   "source": [
    "get_scores(mixed_dist)\n"
   ]
  },
  {
   "cell_type": "code",
   "execution_count": null,
   "metadata": {},
   "outputs": [],
   "source": [
    "true_results = list(pd.to_numeric(sent_df.query(\"gold_label==True\").loc[:,\"fuzzy_result\"], errors=\"coerce\").dropna())\n",
    "false_results = list(pd.to_numeric(sent_df.query(\"gold_label==False\").loc[:,\"fuzzy_result\"], errors=\"coerce\").dropna())\n",
    "\n",
    "data = [true_results, false_results]\n",
    "fig, ax = plt.subplots()\n",
    "ax.violinplot(data)\n",
    "ax.yaxis.grid(True)\n",
    "ax.set_xticks([y + 1 for y in range(len(data))])\n",
    "ax.set_xlabel(\"Gold label\")\n",
    "ax.set_ylabel(\"Generated probability\")\n",
    "\n",
    "plt.setp(ax, xticks=[y + 1 for y in range(len(data))], xticklabels=[\"True\", \"False\"])\n",
    "\n",
    "plt.savefig(\"./images/final_fuzzy_violin.png\", format=\"png\", bbox_inches=\"tight\")\n",
    "plt.show()"
   ]
  }
 ]
}