{
 "metadata": {
  "language_info": {
   "codemirror_mode": {
    "name": "ipython",
    "version": 3
   },
   "file_extension": ".py",
   "mimetype": "text/x-python",
   "name": "python",
   "nbconvert_exporter": "python",
   "pygments_lexer": "ipython3",
   "version": "3.6.9-final"
  },
  "orig_nbformat": 2,
  "kernelspec": {
   "name": "python3",
   "display_name": "Python 3",
   "language": "python"
  }
 },
 "nbformat": 4,
 "nbformat_minor": 2,
 "cells": [
  {
   "cell_type": "code",
   "execution_count": 1,
   "metadata": {},
   "outputs": [],
   "source": [
    "\n",
    "import codecs\n",
    "import json\n",
    "import configparser\n",
    "import os\n",
    "import sys\n",
    "import pandas as pd\n",
    "import numpy as np\n",
    "import matplotlib.pyplot as plt\n",
    "from collections import defaultdict\n",
    "from dotenv import load_dotenv\n",
    "from num2words import num2words\n",
    "from sklearn import linear_model\n",
    "\n",
    "%matplotlib inline\n",
    "\n",
    "import dask.array as da\n",
    "import dask.dataframe as dd\n",
    "import h5py\n",
    "\n",
    "import spacy\n",
    "import lemminflect\n",
    "sp = spacy.load(\"en\")\n",
    "sp.Defaults.stop_words.add(\"left\")\n",
    "sp.Defaults.stop_words.add(\"right\")\n",
    "sp.Defaults.stop_words.add(\"near\")\n",
    "sp.Defaults.stop_words.add(\"far\")\n",
    "sp.Defaults.stop_words.add(\"middle\")\n",
    "sp.Defaults.stop_words.add(\"center\")\n",
    "sp.Defaults.stop_words.add(\"furthest\")\n",
    "sp.Defaults.stop_words.add(\"first\")\n",
    "sp.Defaults.stop_words.add(\"second\")\n",
    "sp.Defaults.stop_words.add(\"third\")\n",
    "sp.Defaults.stop_words.add(\"fourth\")\n",
    "sp.Defaults.stop_words.add(\"fifth\")\n",
    "sp.Defaults.stop_words.add(\"front\")\n",
    "sp.Defaults.stop_words.add(\"back\")\n",
    "sp.Defaults.stop_words.add(\"leftmost\")\n",
    "sp.Defaults.stop_words.add(\"rightmost\")\n",
    "sp.Defaults.stop_words.add(\"upper\")\n",
    "sp.Defaults.stop_words.add(\"lower\")\n",
    "sp.Defaults.stop_words.add(\"nearest\")\n",
    "sp.Defaults.stop_words.add(\"closest\")\n",
    "sp.Defaults.stop_words.add(\"uppermost\")\n",
    "sp.Defaults.stop_words.add(\"lowermost\")\n",
    "sp.Defaults.stop_words.add(\"highest\")\n",
    "sp.Defaults.stop_words.add(\"lowest\")\n",
    "sp.Defaults.stop_words.add(\"closer\")\n",
    "sp.Defaults.stop_words.add(\"nearer\")\n",
    "sp.Defaults.stop_words.add(\"farther\")\n",
    "sp.Defaults.stop_words.add(\"further\")\n",
    "sp.Defaults.stop_words.add(\"farthest\")\n",
    "\n",
    "\n",
    "import random\n",
    "random.seed(42)\n",
    "\n",
    "from time import localtime, strftime\n",
    "\n",
    "from sklearn.utils import shuffle\n",
    "\n",
    "from bet_utils.semparse import prob_at_least"
   ]
  },
  {
   "cell_type": "code",
   "execution_count": 2,
   "metadata": {},
   "outputs": [],
   "source": [
    "ID_FEATS = 3"
   ]
  },
  {
   "cell_type": "code",
   "execution_count": 3,
   "metadata": {},
   "outputs": [],
   "source": [
    "# Load up config file (needs path; adapt env var if necessary); local imports\n",
    "load_dotenv()\n",
    "\n",
    "# load config file, set up paths, make project-specific imports\n",
    "config_path = os.getenv('VISCONF')\n",
    "if not config_path:\n",
    "    # try default location, if not in environment\n",
    "    default_path_to_config = '../Config/default.cfg'\n",
    "    if os.path.isfile(default_path_to_config):\n",
    "        config_path = default_path_to_config\n",
    "\n",
    "assert config_path is not None, 'You need to specify the path to the config file via environment variable VISCONF.'        \n",
    "\n",
    "config = configparser.ConfigParser()\n",
    "with codecs.open(config_path, 'r', encoding='utf-8') as f:\n",
    "    config.read_file(f)\n",
    "\n",
    "corpora_base = config.get('DEFAULT', 'corpora_base')\n",
    "preproc_path = config.get('DSGV-PATHS', 'preproc_path')\n",
    "dsgv_home = config.get('DSGV-PATHS', 'dsgv_home')\n",
    "\n",
    "sys.path.insert(0,dsgv_home + \"/Utils\")\n",
    "from utils import icorpus_code, plot_labelled_bb, get_image_filename, query_by_id\n",
    "from utils import plot_img_cropped, plot_img_ax, invert_dict, get_a_by_b, get_image_part\n",
    "sys.path.insert(0,dsgv_home + \"/WACs/WAC_Utils\")\n",
    "from wac_utils import create_word2den, is_relational, filter_refdf_by_filelist, filter_relational_expr\n",
    "from wac_utils import filter_X_by_filelist, make_mask_matrix, make_X_id_index, train_this_word\n",
    "from wac_utils import get_X_for_word\n",
    "\n",
    "from data_utils import load_dfs\n",
    "\n",
    "from apply_utils import apply_wac_set_matrix, logreg\n",
    "\n",
    "#sys.path.append(dsgv_home + '/Preproc')"
   ]
  },
  {
   "cell_type": "code",
   "execution_count": 4,
   "metadata": {},
   "outputs": [],
   "source": [
    "# Load up preprocessed DataFrames. Slow!\n",
    "# These DataFrames are the result of pre-processing the original corpus data,\n",
    "# as per dsg-vision/Preprocessing/preproc.py\n",
    "\n",
    "df_names = ['refcoco_refdf', 'refcocoplus_refdf']\n",
    "df = load_dfs(preproc_path, df_names)"
   ]
  },
  {
   "cell_type": "code",
   "execution_count": 5,
   "metadata": {},
   "outputs": [],
   "source": [
    "with open(preproc_path + '/refcoco_splits.json', 'r') as f:\n",
    "    rc_splits = json.load(f)"
   ]
  },
  {
   "source": [
    "## RefCoco"
   ],
   "cell_type": "markdown",
   "metadata": {}
  },
  {
   "cell_type": "code",
   "execution_count": 6,
   "metadata": {},
   "outputs": [],
   "source": [
    "# mscoco_bbdf_pattern = '/Volumes/BigData_SSD/Data/Computed/ExtractOut/vgg/mscoco_bbdf_vgg19-fc2/mscoco_bbdf_vgg19-fc2_%d.hdf5'\n",
    "# model_path_prefix = '../TrainWACs/ModelsOut/01_refcoco_vgg'\n",
    "mscoco_bbdf_pattern = '../../data/Models/ForBToma/mscoco_bbdf_rsn50-max/mscoco_bbdf_rsn50-max_%d.hdf5'\n",
    "model_path_prefix = '../../data/Models/ForBToma/01_refcoco_rsn'"
   ]
  },
  {
   "source": [
    "### Load Image Features"
   ],
   "cell_type": "markdown",
   "metadata": {}
  },
  {
   "cell_type": "code",
   "execution_count": 7,
   "metadata": {},
   "outputs": [],
   "source": [
    "das = []\n",
    "fhs = []\n",
    "for n in range(1,8):\n",
    "    f = h5py.File(mscoco_bbdf_pattern % (n), 'r')\n",
    "    fhs.append(f)\n",
    "    das.append(da.from_array(f['img_feats'], chunks=(1000, 4106)))"
   ]
  },
  {
   "cell_type": "code",
   "execution_count": 8,
   "metadata": {},
   "outputs": [],
   "source": [
    "X = da.concatenate(das)"
   ]
  },
  {
   "cell_type": "code",
   "execution_count": 9,
   "metadata": {},
   "outputs": [
    {
     "output_type": "execute_result",
     "data": {
      "text/plain": [
       "(602408, 2058)"
      ]
     },
     "metadata": {},
     "execution_count": 9
    }
   ],
   "source": [
    "X.shape"
   ]
  },
  {
   "cell_type": "code",
   "execution_count": 10,
   "metadata": {},
   "outputs": [],
   "source": [
    "rc_all_test = rc_splits['testA'] + rc_splits['testB'] # rc_splits['val']  # rc_splits['testA'] + rc_splits['testB']\n",
    "X_ts = filter_X_by_filelist(X, rc_all_test)\n",
    "refdf_test = filter_refdf_by_filelist(df['refcoco_refdf'], rc_all_test)"
   ]
  },
  {
   "cell_type": "code",
   "execution_count": 11,
   "metadata": {},
   "outputs": [],
   "source": [
    "# this is small enough to be fully in memory\n",
    "X_ts = X_ts[:].compute()"
   ]
  },
  {
   "cell_type": "code",
   "execution_count": 12,
   "metadata": {},
   "outputs": [],
   "source": [
    "# Meaning that I can already close the file handles\n",
    "for fh in fhs:\n",
    "    fh.close()"
   ]
  },
  {
   "cell_type": "code",
   "execution_count": 13,
   "metadata": {},
   "outputs": [],
   "source": [
    "word2den_ts = create_word2den(refdf_test)\n",
    "X_idx_ts = make_X_id_index(X_ts)\n",
    "mask_matrix_ts = make_mask_matrix(X_ts, X_idx_ts, word2den_ts, word2den_ts.keys())"
   ]
  },
  {
   "source": [
    "### Load WACs"
   ],
   "cell_type": "markdown",
   "metadata": {}
  },
  {
   "cell_type": "code",
   "execution_count": 14,
   "metadata": {},
   "outputs": [],
   "source": [
    "def exp2indseq(w2i, exp):\n",
    "    return [word2ind[w] for w in exp.split() if w in word2ind] #the list of indices for each \"word\" in exp"
   ]
  },
  {
   "cell_type": "code",
   "execution_count": 15,
   "metadata": {},
   "outputs": [],
   "source": [
    "def imageid2rows(idx, ic, ii):\n",
    "    '''return all regions that belong to an image, as indices into X (via idx)'''\n",
    "    # or should this be a separate dictionary?\n",
    "    return [v for k,v in idx.items() if k[0] == ic and k[1] == ii]"
   ]
  },
  {
   "cell_type": "code",
   "execution_count": 16,
   "metadata": {},
   "outputs": [],
   "source": [
    "with h5py.File(model_path_prefix + '.hdf5', 'r') as f:\n",
    "    wacs = f['wac_weights'][:]   # slice, to actually read into memory (as ndarray)"
   ]
  },
  {
   "cell_type": "code",
   "execution_count": 17,
   "metadata": {},
   "outputs": [],
   "source": [
    "with codecs.open(model_path_prefix + '.json', 'r') as f:\n",
    "    modelpars, wordlist = json.load(f)"
   ]
  },
  {
   "cell_type": "code",
   "execution_count": 18,
   "metadata": {},
   "outputs": [
    {
     "output_type": "execute_result",
     "data": {
      "text/plain": [
       "   i_corpus  image_id  region_id r_corpus  rex_id                      refexp  \\\n",
       "0         1    581563    1345868  refcoco      71  lower left corner darkness   \n",
       "1         1    581563    1345868  refcoco      72            bpttom left dark   \n",
       "2         1    581563    1345868  refcoco      73   black van in front of cab   \n",
       "3         1    581563     344837  refcoco      74                        taxi   \n",
       "4         1    581563     344837  refcoco      75   the taxi cab bottom right   \n",
       "\n",
       "                                              tagged  \n",
       "0  [[lower, JJR], [left, VBD], [corner, JJR], [da...  \n",
       "1            [[bpttom, NN], [left, VBD], [dark, NN]]  \n",
       "2  [[black, JJ], [van, NN], [in, IN], [front, NN]...  \n",
       "3                                       [[taxi, NN]]  \n",
       "4  [[the, DT], [taxi, NN], [cab, NN], [bottom, NN...  "
      ],
      "text/html": "<div>\n<style scoped>\n    .dataframe tbody tr th:only-of-type {\n        vertical-align: middle;\n    }\n\n    .dataframe tbody tr th {\n        vertical-align: top;\n    }\n\n    .dataframe thead th {\n        text-align: right;\n    }\n</style>\n<table border=\"1\" class=\"dataframe\">\n  <thead>\n    <tr style=\"text-align: right;\">\n      <th></th>\n      <th>i_corpus</th>\n      <th>image_id</th>\n      <th>region_id</th>\n      <th>r_corpus</th>\n      <th>rex_id</th>\n      <th>refexp</th>\n      <th>tagged</th>\n    </tr>\n  </thead>\n  <tbody>\n    <tr>\n      <th>0</th>\n      <td>1</td>\n      <td>581563</td>\n      <td>1345868</td>\n      <td>refcoco</td>\n      <td>71</td>\n      <td>lower left corner darkness</td>\n      <td>[[lower, JJR], [left, VBD], [corner, JJR], [da...</td>\n    </tr>\n    <tr>\n      <th>1</th>\n      <td>1</td>\n      <td>581563</td>\n      <td>1345868</td>\n      <td>refcoco</td>\n      <td>72</td>\n      <td>bpttom left dark</td>\n      <td>[[bpttom, NN], [left, VBD], [dark, NN]]</td>\n    </tr>\n    <tr>\n      <th>2</th>\n      <td>1</td>\n      <td>581563</td>\n      <td>1345868</td>\n      <td>refcoco</td>\n      <td>73</td>\n      <td>black van in front of cab</td>\n      <td>[[black, JJ], [van, NN], [in, IN], [front, NN]...</td>\n    </tr>\n    <tr>\n      <th>3</th>\n      <td>1</td>\n      <td>581563</td>\n      <td>344837</td>\n      <td>refcoco</td>\n      <td>74</td>\n      <td>taxi</td>\n      <td>[[taxi, NN]]</td>\n    </tr>\n    <tr>\n      <th>4</th>\n      <td>1</td>\n      <td>581563</td>\n      <td>344837</td>\n      <td>refcoco</td>\n      <td>75</td>\n      <td>the taxi cab bottom right</td>\n      <td>[[the, DT], [taxi, NN], [cab, NN], [bottom, NN...</td>\n    </tr>\n  </tbody>\n</table>\n</div>"
     },
     "metadata": {},
     "execution_count": 18
    }
   ],
   "source": [
    "refdf_test.head()"
   ]
  },
  {
   "source": [
    "### Apply all WACs to all regions"
   ],
   "cell_type": "markdown",
   "metadata": {}
  },
  {
   "cell_type": "code",
   "execution_count": 19,
   "metadata": {},
   "outputs": [],
   "source": [
    "all_applied = apply_wac_set_matrix(X_ts[:, ID_FEATS:], wacs.T, net=logreg) #applies all wac and returns a matrix of results, rows are entities and columns are words"
   ]
  },
  {
   "cell_type": "code",
   "execution_count": 20,
   "metadata": {},
   "outputs": [],
   "source": [
    "word2ind = {w[0]:n for n,w in enumerate(wordlist)} #creates dictionary from word to its index in the wordlist"
   ]
  },
  {
   "cell_type": "code",
   "execution_count": 21,
   "metadata": {},
   "outputs": [],
   "source": [
    "#dependency parse each refexp to make generation a bit easier hopefully\n",
    "refdf_test[\"DepParse\"] = refdf_test.apply(lambda row: sp(row.refexp), axis=1)"
   ]
  },
  {
   "cell_type": "code",
   "execution_count": 22,
   "metadata": {},
   "outputs": [],
   "source": [
    "#this function will go through and create some sort of representation of every referring expression (and hopefully also every word?) per picture\n",
    "ref_dict = {}\n",
    "for i in refdf_test[\"image_id\"].unique():\n",
    "    ref_dict[i] = {refdf_test[\"refexp\"][j] : j for j in refdf_test[refdf_test[\"image_id\"] == i].index}\n",
    "ref_vocab = defaultdict(set)\n",
    "for k, v in ref_dict.items():\n",
    "    for exp in v:\n",
    "        for word in refdf_test.loc[v[exp]][\"DepParse\"]:\n",
    "            if word.text in word2ind and not word.is_stop:\n",
    "                ref_vocab[k].add(word.text)"
   ]
  },
  {
   "cell_type": "code",
   "execution_count": 23,
   "metadata": {},
   "outputs": [],
   "source": [
    "singularity_exceptions = {\"sprinkles\", \"stripes\", \"jeans\", \"pants\", \"shorts\", \"glasses\", \"spots\", \"clothes\"}\n",
    "\n",
    "def get_good_nps(image_id):\n",
    "    nps = set()\n",
    "    for k, v in ref_dict[image_id].items():\n",
    "        for chunk in refdf_test.loc[v][\"DepParse\"].noun_chunks:\n",
    "            if all([token.text in word2ind for token in chunk]) and not chunk.root.is_stop:\n",
    "                nps.add(\" \".join([token._.inflect(\"NN\") if (token == chunk.root and token.text not in singularity_exceptions) else token.text for token in chunk if not token.is_stop]))\n",
    "    return nps"
   ]
  },
  {
   "cell_type": "code",
   "execution_count": 24,
   "metadata": {},
   "outputs": [],
   "source": [
    "image_ids = list(refdf_test.image_id.unique())\n",
    "ref_dict_per_id = [ref_dict[x] for x in image_ids]\n",
    "ref_voc_per_id = [ref_vocab[x] for x in image_ids]\n",
    "good_nps_per_id = [get_good_nps(x) for x in image_ids]\n",
    "im_ref_df = pd.DataFrame({\"image_id\": image_ids, \"ref_exps\": ref_dict_per_id, \"vocab\": ref_voc_per_id, \"NPs\": good_nps_per_id}).set_index(\"image_id\")\n"
   ]
  },
  {
   "cell_type": "code",
   "execution_count": 25,
   "metadata": {},
   "outputs": [
    {
     "output_type": "execute_result",
     "data": {
      "text/plain": [
       "                                                   ref_exps  \\\n",
       "image_id                                                      \n",
       "581563    {'lower left corner darkness': 0, 'bpttom left...   \n",
       "581518    {'top donut': 8, 'top of donuts': 7, 'donut wc...   \n",
       "581346    {'left zebra butt': 13, 'zebra on the left': 1...   \n",
       "581282    {'person bottom left': 18, 'left black shirt':...   \n",
       "580668    {'man on right': 20, 'right man': 21, 'man sit...   \n",
       "\n",
       "                                                      vocab  \\\n",
       "image_id                                                      \n",
       "581563                           {van, black, corner, dark}   \n",
       "581518                                   {donut, sprinkles}   \n",
       "581346                                        {zebra, butt}   \n",
       "581282                               {shirt, black, person}   \n",
       "580668    {person, bench, man, blue, white, yellow, sitt...   \n",
       "\n",
       "                                                     NPs  \n",
       "image_id                                                  \n",
       "581563                                       {black van}  \n",
       "581518                                {donut, sprinkles}  \n",
       "581346                               {zebra, zebra butt}  \n",
       "581282                                     {black shirt}  \n",
       "580668    {person, bench, man, white car, car, blue car}  "
      ],
      "text/html": "<div>\n<style scoped>\n    .dataframe tbody tr th:only-of-type {\n        vertical-align: middle;\n    }\n\n    .dataframe tbody tr th {\n        vertical-align: top;\n    }\n\n    .dataframe thead th {\n        text-align: right;\n    }\n</style>\n<table border=\"1\" class=\"dataframe\">\n  <thead>\n    <tr style=\"text-align: right;\">\n      <th></th>\n      <th>ref_exps</th>\n      <th>vocab</th>\n      <th>NPs</th>\n    </tr>\n    <tr>\n      <th>image_id</th>\n      <th></th>\n      <th></th>\n      <th></th>\n    </tr>\n  </thead>\n  <tbody>\n    <tr>\n      <th>581563</th>\n      <td>{'lower left corner darkness': 0, 'bpttom left...</td>\n      <td>{van, black, corner, dark}</td>\n      <td>{black van}</td>\n    </tr>\n    <tr>\n      <th>581518</th>\n      <td>{'top donut': 8, 'top of donuts': 7, 'donut wc...</td>\n      <td>{donut, sprinkles}</td>\n      <td>{donut, sprinkles}</td>\n    </tr>\n    <tr>\n      <th>581346</th>\n      <td>{'left zebra butt': 13, 'zebra on the left': 1...</td>\n      <td>{zebra, butt}</td>\n      <td>{zebra, zebra butt}</td>\n    </tr>\n    <tr>\n      <th>581282</th>\n      <td>{'person bottom left': 18, 'left black shirt':...</td>\n      <td>{shirt, black, person}</td>\n      <td>{black shirt}</td>\n    </tr>\n    <tr>\n      <th>580668</th>\n      <td>{'man on right': 20, 'right man': 21, 'man sit...</td>\n      <td>{person, bench, man, blue, white, yellow, sitt...</td>\n      <td>{person, bench, man, white car, car, blue car}</td>\n    </tr>\n  </tbody>\n</table>\n</div>"
     },
     "metadata": {},
     "execution_count": 25
    }
   ],
   "source": [
    "im_ref_df.head()"
   ]
  },
  {
   "cell_type": "code",
   "execution_count": 26,
   "metadata": {},
   "outputs": [],
   "source": [
    "all_nps = set().union(*good_nps_per_id)"
   ]
  },
  {
   "cell_type": "code",
   "execution_count": 27,
   "metadata": {},
   "outputs": [],
   "source": [
    "def generate_true_exp(rfdf, idx: \"\"\"image id\"\"\", n: \"\"\"maximum number of statements per image\"\"\"):\n",
    "    #this function will generate true sentences containing refexp for a given image\n",
    "    truths = []\n",
    "    eligible_NPs = list(rfdf.loc[idx][\"NPs\"])\n",
    "    random.shuffle(eligible_NPs)\n",
    "    while len(truths) < n:\n",
    "        if not eligible_NPs:\n",
    "            break\n",
    "        np = eligible_NPs.pop()\n",
    "        if set(np.split()).intersection(singularity_exceptions):\n",
    "            article = \"\"\n",
    "            verb = \"are\"\n",
    "        elif np.startswith(('a','e','i','o','u')):\n",
    "            article = \"an \"\n",
    "            verb = \"is\"\n",
    "        else:\n",
    "            article = \"a \"\n",
    "            verb = \"is\"\n",
    "        truths.append(f\"There {verb} {article}{np}.\")\n",
    "    return truths\n",
    "\n",
    "\n",
    "def generate_false_exp(rfdf, every_np, idx: \"\"\"image id\"\"\", n: \"\"\"number of statements per image\"\"\"):\n",
    "    #this function will generate false sentences (hopefully) for a given image\n",
    "    lies = []\n",
    "    eligible_NPs = list(every_np)\n",
    "    random.shuffle(eligible_NPs)\n",
    "    for np in eligible_NPs:\n",
    "        if len(lies) >= n:\n",
    "            break\n",
    "        elif any([word in rfdf.loc[idx][\"vocab\"] for word in np.split()]):\n",
    "            continue\n",
    "        else:\n",
    "            if np.startswith(('a','e','i','o','u')):\n",
    "                article = \"an\"\n",
    "            else:\n",
    "                article = \"a\"\n",
    "            lies.append(f\"There is {article} {np}.\")\n",
    "    return lies"
   ]
  },
  {
   "cell_type": "code",
   "execution_count": 28,
   "metadata": {},
   "outputs": [],
   "source": [
    "pos = [generate_true_exp(im_ref_df, x, 2) for x in im_ref_df.index.to_series()]\n",
    "neg = [generate_false_exp(im_ref_df, all_nps, x, 2) for x in im_ref_df.index.to_series()]\n",
    "im_ref_df[\"Positives\"] = pos\n",
    "im_ref_df[\"Negatives\"] = neg"
   ]
  },
  {
   "cell_type": "code",
   "execution_count": 29,
   "metadata": {},
   "outputs": [
    {
     "output_type": "execute_result",
     "data": {
      "text/plain": [
       "                                                   ref_exps  \\\n",
       "image_id                                                      \n",
       "581563    {'lower left corner darkness': 0, 'bpttom left...   \n",
       "581518    {'top donut': 8, 'top of donuts': 7, 'donut wc...   \n",
       "581346    {'left zebra butt': 13, 'zebra on the left': 1...   \n",
       "581282    {'person bottom left': 18, 'left black shirt':...   \n",
       "580668    {'man on right': 20, 'right man': 21, 'man sit...   \n",
       "\n",
       "                                                      vocab  \\\n",
       "image_id                                                      \n",
       "581563                           {van, black, corner, dark}   \n",
       "581518                                   {donut, sprinkles}   \n",
       "581346                                        {zebra, butt}   \n",
       "581282                               {shirt, black, person}   \n",
       "580668    {person, bench, man, blue, white, yellow, sitt...   \n",
       "\n",
       "                                                     NPs  \\\n",
       "image_id                                                   \n",
       "581563                                       {black van}   \n",
       "581518                                {donut, sprinkles}   \n",
       "581346                               {zebra, zebra butt}   \n",
       "581282                                     {black shirt}   \n",
       "580668    {person, bench, man, white car, car, blue car}   \n",
       "\n",
       "                                            Positives  \\\n",
       "image_id                                                \n",
       "581563                        [There is a black van.]   \n",
       "581518      [There is a donut., There are sprinkles.]   \n",
       "581346    [There is a zebra., There is a zebra butt.]   \n",
       "581282                      [There is a black shirt.]   \n",
       "580668        [There is a blue car., There is a man.]   \n",
       "\n",
       "                                                  Negatives  \n",
       "image_id                                                     \n",
       "581563       [There is a pie., There is a striped clothes.]  \n",
       "581518      [There is a woman person., There is a pot pie.]  \n",
       "581346           [There is a yellow hat., There is a girl.]  \n",
       "581282    [There is a screen thing., There is a pizza ha...  \n",
       "580668    [There is a touching food., There is a partial...  "
      ],
      "text/html": "<div>\n<style scoped>\n    .dataframe tbody tr th:only-of-type {\n        vertical-align: middle;\n    }\n\n    .dataframe tbody tr th {\n        vertical-align: top;\n    }\n\n    .dataframe thead th {\n        text-align: right;\n    }\n</style>\n<table border=\"1\" class=\"dataframe\">\n  <thead>\n    <tr style=\"text-align: right;\">\n      <th></th>\n      <th>ref_exps</th>\n      <th>vocab</th>\n      <th>NPs</th>\n      <th>Positives</th>\n      <th>Negatives</th>\n    </tr>\n    <tr>\n      <th>image_id</th>\n      <th></th>\n      <th></th>\n      <th></th>\n      <th></th>\n      <th></th>\n    </tr>\n  </thead>\n  <tbody>\n    <tr>\n      <th>581563</th>\n      <td>{'lower left corner darkness': 0, 'bpttom left...</td>\n      <td>{van, black, corner, dark}</td>\n      <td>{black van}</td>\n      <td>[There is a black van.]</td>\n      <td>[There is a pie., There is a striped clothes.]</td>\n    </tr>\n    <tr>\n      <th>581518</th>\n      <td>{'top donut': 8, 'top of donuts': 7, 'donut wc...</td>\n      <td>{donut, sprinkles}</td>\n      <td>{donut, sprinkles}</td>\n      <td>[There is a donut., There are sprinkles.]</td>\n      <td>[There is a woman person., There is a pot pie.]</td>\n    </tr>\n    <tr>\n      <th>581346</th>\n      <td>{'left zebra butt': 13, 'zebra on the left': 1...</td>\n      <td>{zebra, butt}</td>\n      <td>{zebra, zebra butt}</td>\n      <td>[There is a zebra., There is a zebra butt.]</td>\n      <td>[There is a yellow hat., There is a girl.]</td>\n    </tr>\n    <tr>\n      <th>581282</th>\n      <td>{'person bottom left': 18, 'left black shirt':...</td>\n      <td>{shirt, black, person}</td>\n      <td>{black shirt}</td>\n      <td>[There is a black shirt.]</td>\n      <td>[There is a screen thing., There is a pizza ha...</td>\n    </tr>\n    <tr>\n      <th>580668</th>\n      <td>{'man on right': 20, 'right man': 21, 'man sit...</td>\n      <td>{person, bench, man, blue, white, yellow, sitt...</td>\n      <td>{person, bench, man, white car, car, blue car}</td>\n      <td>[There is a blue car., There is a man.]</td>\n      <td>[There is a touching food., There is a partial...</td>\n    </tr>\n  </tbody>\n</table>\n</div>"
     },
     "metadata": {},
     "execution_count": 29
    }
   ],
   "source": [
    "im_ref_df.head()"
   ]
  },
  {
   "cell_type": "code",
   "execution_count": 30,
   "metadata": {},
   "outputs": [],
   "source": [
    "bbs_in_image = refdf_test.groupby(\"image_id\").apply(lambda x: x[\"region_id\"].unique())"
   ]
  },
  {
   "source": [
    "numbers = {num2words(n): n for n in range(0, 20)}\n",
    "\n",
    "def get_np_and_number(sentence: str):\n",
    "    n = 1\n",
    "    sent_parsed = sp(sentence)\n",
    "    try:\n",
    "        head = [word for word in sent_parsed if word.dep_ == \"attr\"][0]\n",
    "    except IndexError:\n",
    "        return None\n",
    "    dependents = [word for word in sent_parsed if word.head == head]\n",
    "    determiner = [word for word in dependents if word.dep_ == \"det\"]\n",
    "    if determiner:\n",
    "        det = determiner[0]\n",
    "        if det in numbers:\n",
    "            n = numbers[det]\n",
    "        refexp = \" \".join([x.text for x in sent_parsed if x == head or x in dependents and x != det])\n",
    "    else:\n",
    "        refexp = \" \".join([x.text for x in sent_parsed if x == head or x in dependents])\n",
    "    return refexp, n"
   ],
   "cell_type": "code",
   "metadata": {},
   "execution_count": 31,
   "outputs": []
  },
  {
   "cell_type": "code",
   "execution_count": 32,
   "metadata": {},
   "outputs": [],
   "source": [
    "def eval_sent(w2i, all_applied, all_regs, sent, mode:\"\"\"str\"\"\" = \"fuzzy\", threshold:float = None):\n",
    "    parsed = get_np_and_number(sent) #<- this turns a \"There are...\" sentence into the relevant refexp, plus the number of entities quantified\n",
    "    if parsed:\n",
    "        refexp, n = parsed\n",
    "    else:\n",
    "        return \"PARSE_FAIL\"\n",
    "    this_exp_seq = exp2indseq(w2i, refexp) #<- this gets the row numbers for each word in the refexp\n",
    "    if not this_exp_seq:\n",
    "        return \"PARSE_FAIL\"\n",
    "    classifications = [all_applied[all_regs][:, i] for i in this_exp_seq] #<- this is the part that actually runs the classifier\n",
    "    #classical combination\n",
    "    if mode == \"classical\":\n",
    "        if not threshold:\n",
    "            raise ValueError(\"Classical parsing requires a numerical threshold\")\n",
    "        bool_classes = [[ent >= threshold for ent in bb] for bb in classifications]\n",
    "        boolean_output_vals = []\n",
    "        if len(bool_classes) > 1:\n",
    "            for i in range(len(bool_classes[0])):\n",
    "                boolean_output_vals.append(all([x[i] for x in classifications]))\n",
    "        return sum(boolean_output_vals) >= n\n",
    "    #fuzzy combination\n",
    "    elif mode in {\"fuzzy\",\"mixed\"}:\n",
    "        if len(classifications) > 1:\n",
    "            all_regs_applied = np.multiply.reduce(classifications, axis=0)  #<- multiplies(?) the results\n",
    "        else:\n",
    "            try:\n",
    "                all_regs_applied = classifications[0]\n",
    "            except IndexError:\n",
    "                print(sent, this_exp_seq, classifications, this_exp_seq, refexp, n)\n",
    "                raise IndexError(\"wtf\")\n",
    "        likelihood = prob_at_least(all_regs_applied.tolist(), n)\n",
    "        if mode == \"mixed\":\n",
    "            return likelihood >= threshold\n",
    "        else:\n",
    "            return likelihood"
   ]
  },
  {
   "cell_type": "code",
   "execution_count": 33,
   "metadata": {},
   "outputs": [
    {
     "output_type": "execute_result",
     "data": {
      "text/plain": [
       "'PARSE_FAIL'"
      ]
     },
     "metadata": {},
     "execution_count": 33
    }
   ],
   "source": [
    "eval_sent(word2ind, all_applied, imageid2rows(X_idx_ts, 1, 581563), \"There are standing stripes.\", mode = \"fuzzy\")"
   ]
  },
  {
   "cell_type": "code",
   "execution_count": 34,
   "metadata": {},
   "outputs": [
    {
     "output_type": "execute_result",
     "data": {
      "text/plain": [
       "   image_id                     sentence  gold_label  \\\n",
       "0    581563        There is a black van.        True   \n",
       "1    581563              There is a pie.       False   \n",
       "2    581563  There is a striped clothes.       False   \n",
       "3    581518            There is a donut.        True   \n",
       "4    581518         There are sprinkles.        True   \n",
       "\n",
       "                                            all_regs  \n",
       "0  [2335, 2728, 7050, 8093, 10940, 13866, 14299, ...  \n",
       "1  [2335, 2728, 7050, 8093, 10940, 13866, 14299, ...  \n",
       "2  [2335, 2728, 7050, 8093, 10940, 13866, 14299, ...  \n",
       "3             [6082, 6104, 6106, 6111, 11057, 12906]  \n",
       "4             [6082, 6104, 6106, 6111, 11057, 12906]  "
      ],
      "text/html": "<div>\n<style scoped>\n    .dataframe tbody tr th:only-of-type {\n        vertical-align: middle;\n    }\n\n    .dataframe tbody tr th {\n        vertical-align: top;\n    }\n\n    .dataframe thead th {\n        text-align: right;\n    }\n</style>\n<table border=\"1\" class=\"dataframe\">\n  <thead>\n    <tr style=\"text-align: right;\">\n      <th></th>\n      <th>image_id</th>\n      <th>sentence</th>\n      <th>gold_label</th>\n      <th>all_regs</th>\n    </tr>\n  </thead>\n  <tbody>\n    <tr>\n      <th>0</th>\n      <td>581563</td>\n      <td>There is a black van.</td>\n      <td>True</td>\n      <td>[2335, 2728, 7050, 8093, 10940, 13866, 14299, ...</td>\n    </tr>\n    <tr>\n      <th>1</th>\n      <td>581563</td>\n      <td>There is a pie.</td>\n      <td>False</td>\n      <td>[2335, 2728, 7050, 8093, 10940, 13866, 14299, ...</td>\n    </tr>\n    <tr>\n      <th>2</th>\n      <td>581563</td>\n      <td>There is a striped clothes.</td>\n      <td>False</td>\n      <td>[2335, 2728, 7050, 8093, 10940, 13866, 14299, ...</td>\n    </tr>\n    <tr>\n      <th>3</th>\n      <td>581518</td>\n      <td>There is a donut.</td>\n      <td>True</td>\n      <td>[6082, 6104, 6106, 6111, 11057, 12906]</td>\n    </tr>\n    <tr>\n      <th>4</th>\n      <td>581518</td>\n      <td>There are sprinkles.</td>\n      <td>True</td>\n      <td>[6082, 6104, 6106, 6111, 11057, 12906]</td>\n    </tr>\n  </tbody>\n</table>\n</div>"
     },
     "metadata": {},
     "execution_count": 34
    }
   ],
   "source": [
    "new_one = []\n",
    "for image_id, row in im_ref_df.iterrows():\n",
    "    for sent in row[\"Positives\"]:\n",
    "        new_one.append([image_id, sent, True])\n",
    "    for sent in row[\"Negatives\"]:\n",
    "        new_one.append([image_id, sent, False])\n",
    "sent_df = pd.DataFrame(new_one, columns=[\"image_id\", \"sentence\", \"gold_label\"])\n",
    "sent_df[\"all_regs\"] = sent_df.apply(lambda row: imageid2rows(X_idx_ts, 1, row[\"image_id\"]), axis=1)\n",
    "sent_df.head()"
   ]
  },
  {
   "cell_type": "code",
   "execution_count": 35,
   "metadata": {},
   "outputs": [
    {
     "output_type": "execute_result",
     "data": {
      "text/plain": [
       "[2335, 2728, 7050, 8093, 10940, 13866, 14299, 14300, 14301]"
      ]
     },
     "metadata": {},
     "execution_count": 35
    }
   ],
   "source": [
    "sent_df.loc[0][\"all_regs\"]"
   ]
  },
  {
   "cell_type": "code",
   "execution_count": 41,
   "metadata": {},
   "outputs": [],
   "source": [
    "def new_eval_corpus(im_df, w2i, all_applied):\n",
    "    classical_threshes = []\n",
    "    mixed_threshes = []\n",
    "    thresh_key = {}\n",
    "    for t in np.arange(0.78, 0.99, 0.01):\n",
    "        classy = im_df.apply(lambda row: eval_sent(w2i, all_applied, row[\"all_regs\"], row[\"sentence\"], mode = \"classical\", threshold=t), axis=1)\n",
    "        mixed = im_df.apply(lambda row: eval_sent(w2i, all_applied, row[\"all_regs\"], row[\"sentence\"], mode = \"mixed\", threshold=t), axis=1)\n",
    "        class_acc = (classy.compare(im_df.loc[:,\"gold_label\"]).count()[\"self\"] / len(im_df))\n",
    "        mixed_acc = (mixed.compare(im_df.loc[:,\"gold_label\"]).count()[\"self\"] / len(im_df))\n",
    "        classical_threshes.append((class_acc, t))\n",
    "        mixed_threshes.append((mixed_acc, t))\n",
    "        thresh_key[t] = (classy, mixed)\n",
    "    classic = max(classical_threshes)\n",
    "    mixy = max(mixed_threshes)\n",
    "    print(f\"Classical Threshold: {classic[1]}\")\n",
    "    im_df[\"classical_result\"] = thresh_key[classic[1]][0]\n",
    "    im_df[\"fuzzy_result\"] = im_df.apply(lambda row: eval_sent(w2i, all_applied, row[\"all_regs\"], row[\"sentence\"], mode = \"fuzzy\"), axis=1)\n",
    "    print(f\"Mixed Threshold: {mixy[1]}\" )\n",
    "    im_df[\"mixed_result\"] = thresh_key[mixy[1]][1]"
   ]
  },
  {
   "cell_type": "code",
   "execution_count": 42,
   "metadata": {},
   "outputs": [
    {
     "output_type": "stream",
     "name": "stdout",
     "text": [
      "Classical Threshold: 0.9800000000000002\n",
      "Mixed Threshold: 0.9800000000000002\n"
     ]
    }
   ],
   "source": [
    "new_eval_corpus(sent_df, word2ind, all_applied)\n"
   ]
  },
  {
   "cell_type": "code",
   "execution_count": 43,
   "metadata": {},
   "outputs": [
    {
     "output_type": "execute_result",
     "data": {
      "text/plain": [
       "   image_id                     sentence  gold_label  \\\n",
       "0    581563        There is a black van.        True   \n",
       "1    581563              There is a pie.       False   \n",
       "2    581563  There is a striped clothes.       False   \n",
       "3    581518            There is a donut.        True   \n",
       "4    581518         There are sprinkles.        True   \n",
       "\n",
       "                                            all_regs classical_result  \\\n",
       "0  [2335, 2728, 7050, 8093, 10940, 13866, 14299, ...             True   \n",
       "1  [2335, 2728, 7050, 8093, 10940, 13866, 14299, ...            False   \n",
       "2  [2335, 2728, 7050, 8093, 10940, 13866, 14299, ...             True   \n",
       "3             [6082, 6104, 6106, 6111, 11057, 12906]            False   \n",
       "4             [6082, 6104, 6106, 6111, 11057, 12906]            False   \n",
       "\n",
       "  fuzzy_result mixed_result  \n",
       "0     0.455339        False  \n",
       "1  1.84904e-07        False  \n",
       "2  1.84954e-15        False  \n",
       "3     0.999737         True  \n",
       "4   0.00229582        False  "
      ],
      "text/html": "<div>\n<style scoped>\n    .dataframe tbody tr th:only-of-type {\n        vertical-align: middle;\n    }\n\n    .dataframe tbody tr th {\n        vertical-align: top;\n    }\n\n    .dataframe thead th {\n        text-align: right;\n    }\n</style>\n<table border=\"1\" class=\"dataframe\">\n  <thead>\n    <tr style=\"text-align: right;\">\n      <th></th>\n      <th>image_id</th>\n      <th>sentence</th>\n      <th>gold_label</th>\n      <th>all_regs</th>\n      <th>classical_result</th>\n      <th>fuzzy_result</th>\n      <th>mixed_result</th>\n    </tr>\n  </thead>\n  <tbody>\n    <tr>\n      <th>0</th>\n      <td>581563</td>\n      <td>There is a black van.</td>\n      <td>True</td>\n      <td>[2335, 2728, 7050, 8093, 10940, 13866, 14299, ...</td>\n      <td>True</td>\n      <td>0.455339</td>\n      <td>False</td>\n    </tr>\n    <tr>\n      <th>1</th>\n      <td>581563</td>\n      <td>There is a pie.</td>\n      <td>False</td>\n      <td>[2335, 2728, 7050, 8093, 10940, 13866, 14299, ...</td>\n      <td>False</td>\n      <td>1.84904e-07</td>\n      <td>False</td>\n    </tr>\n    <tr>\n      <th>2</th>\n      <td>581563</td>\n      <td>There is a striped clothes.</td>\n      <td>False</td>\n      <td>[2335, 2728, 7050, 8093, 10940, 13866, 14299, ...</td>\n      <td>True</td>\n      <td>1.84954e-15</td>\n      <td>False</td>\n    </tr>\n    <tr>\n      <th>3</th>\n      <td>581518</td>\n      <td>There is a donut.</td>\n      <td>True</td>\n      <td>[6082, 6104, 6106, 6111, 11057, 12906]</td>\n      <td>False</td>\n      <td>0.999737</td>\n      <td>True</td>\n    </tr>\n    <tr>\n      <th>4</th>\n      <td>581518</td>\n      <td>There are sprinkles.</td>\n      <td>True</td>\n      <td>[6082, 6104, 6106, 6111, 11057, 12906]</td>\n      <td>False</td>\n      <td>0.00229582</td>\n      <td>False</td>\n    </tr>\n  </tbody>\n</table>\n</div>"
     },
     "metadata": {},
     "execution_count": 43
    }
   ],
   "source": [
    "sent_df.head()"
   ]
  },
  {
   "cell_type": "code",
   "execution_count": 53,
   "metadata": {},
   "outputs": [
    {
     "output_type": "execute_result",
     "data": {
      "text/plain": [
       "array([False, True, 'PARSE_FAIL'], dtype=object)"
      ]
     },
     "metadata": {},
     "execution_count": 53
    }
   ],
   "source": [
    "sent_df.loc[:,\"mixed_result\"].unique()"
   ]
  },
  {
   "cell_type": "code",
   "execution_count": 54,
   "metadata": {},
   "outputs": [],
   "source": [
    "def class_results(row, col_name:\"\"\"classical_result or mixed_result\"\"\"):\n",
    "    if row[col_name] == \"PARSE_FAIL\":\n",
    "        return \"PARSE_FAIL\"\n",
    "    elif row[\"gold_label\"]:\n",
    "        if row[col_name]:\n",
    "            return \"True Positive\"\n",
    "        else:\n",
    "            return \"False Negative\"\n",
    "    else:\n",
    "        if row[col_name]:\n",
    "            return \"False Positive\"\n",
    "        else:\n",
    "            return \"True Negative\"\n"
   ]
  },
  {
   "cell_type": "code",
   "execution_count": 55,
   "metadata": {},
   "outputs": [],
   "source": [
    "classical_dist = sent_df.apply(lambda row: class_results(row, \"classical_result\"), axis=1)\n",
    "mixed_dist = sent_df.apply(lambda row: class_results(row, \"mixed_result\"), axis=1)"
   ]
  },
  {
   "cell_type": "code",
   "execution_count": 64,
   "metadata": {},
   "outputs": [
    {
     "output_type": "execute_result",
     "data": {
      "text/plain": [
       "False Positive    2361\n",
       "False Negative    2029\n",
       "True Positive      778\n",
       "True Negative      627\n",
       "PARSE_FAIL          19\n",
       "dtype: int64"
      ]
     },
     "metadata": {},
     "execution_count": 64
    }
   ],
   "source": [
    "classical_dist.value_counts()"
   ]
  },
  {
   "cell_type": "code",
   "execution_count": 65,
   "metadata": {},
   "outputs": [
    {
     "output_type": "execute_result",
     "data": {
      "text/plain": [
       "True Negative     2967\n",
       "False Negative    1646\n",
       "True Positive     1161\n",
       "False Positive      21\n",
       "PARSE_FAIL          19\n",
       "dtype: int64"
      ]
     },
     "metadata": {},
     "execution_count": 65
    }
   ],
   "source": [
    "mixed_dist.value_counts()"
   ]
  },
  {
   "cell_type": "code",
   "execution_count": 66,
   "metadata": {},
   "outputs": [],
   "source": [
    "def get_scores(dist):\n",
    "    vals = dist.value_counts()\n",
    "    tp = vals[\"True Positive\"]\n",
    "    fp = vals[\"False Positive\"]\n",
    "    tn = vals[\"True Negative\"]\n",
    "    fn = vals[\"False Negative\"]\n",
    "    pf = vals[\"PARSE_FAIL\"]\n",
    "    acc = (tp + tn) / (tp + tn + fp + fn + pf)\n",
    "    acc_wo_pf = (tp + tn) / (tp + tn + fp + fn)\n",
    "    prec = tp / (tp + fp)\n",
    "    rec = tp / (tp + fn)\n",
    "    f1 = 2 * ((prec * rec) / (prec + rec))\n",
    "    print(\"Accuracy: {:.4f}\".format(acc))\n",
    "    print(\"Accuracy (w/o parse failures): {:.4f}\".format(acc_wo_pf))\n",
    "    print(\"Percentage of parse failures: {:.4f}\".format(pf / (tp + tn + fp + fn + pf)))\n",
    "    print(\"Precision: {:.4f}\".format(prec))\n",
    "    print(\"Recall: {:.4f}\".format(rec))\n",
    "    print(\"F1 Score: {:.4f}\".format(f1))"
   ]
  },
  {
   "cell_type": "code",
   "execution_count": 67,
   "metadata": {},
   "outputs": [
    {
     "output_type": "stream",
     "name": "stdout",
     "text": [
      "Accuracy: 0.2417\nAccuracy (w/o parse failures): 0.2425\nPercentage of parse failures: 0.0033\nPrecision: 0.2478\nRecall: 0.2772\nF1 Score: 0.2617\n"
     ]
    }
   ],
   "source": [
    "get_scores(classical_dist)"
   ]
  },
  {
   "cell_type": "code",
   "execution_count": 68,
   "metadata": {},
   "outputs": [
    {
     "output_type": "stream",
     "name": "stdout",
     "text": [
      "Accuracy: 0.7100\nAccuracy (w/o parse failures): 0.7123\nPercentage of parse failures: 0.0033\nPrecision: 0.9822\nRecall: 0.4136\nF1 Score: 0.5821\n"
     ]
    }
   ],
   "source": [
    "get_scores(mixed_dist)"
   ]
  },
  {
   "cell_type": "code",
   "execution_count": 95,
   "metadata": {},
   "outputs": [
    {
     "output_type": "display_data",
     "data": {
      "text/plain": "<Figure size 432x288 with 1 Axes>",
      "image/svg+xml": "<?xml version=\"1.0\" encoding=\"utf-8\" standalone=\"no\"?>\n<!DOCTYPE svg PUBLIC \"-//W3C//DTD SVG 1.1//EN\"\n  \"http://www.w3.org/Graphics/SVG/1.1/DTD/svg11.dtd\">\n<!-- Created with matplotlib (https://matplotlib.org/) -->\n<svg height=\"262.19625pt\" version=\"1.1\" viewBox=\"0 0 385.78125 262.19625\" width=\"385.78125pt\" xmlns=\"http://www.w3.org/2000/svg\" xmlns:xlink=\"http://www.w3.org/1999/xlink\">\n <defs>\n  <style type=\"text/css\">\n*{stroke-linecap:butt;stroke-linejoin:round;}\n  </style>\n </defs>\n <g id=\"figure_1\">\n  <g id=\"patch_1\">\n   <path d=\"M 0 262.19625 \nL 385.78125 262.19625 \nL 385.78125 0 \nL 0 0 \nz\n\" style=\"fill:none;\"/>\n  </g>\n  <g id=\"axes_1\">\n   <g id=\"patch_2\">\n    <path d=\"M 43.78125 224.64 \nL 378.58125 224.64 \nL 378.58125 7.2 \nL 43.78125 7.2 \nz\n\" style=\"fill:#ffffff;\"/>\n   </g>\n   <g id=\"PolyCollection_1\">\n    <path clip-path=\"url(#p9e5234a5cc)\" d=\"M 136.480704 214.756364 \nL 82.972705 214.756364 \nL 82.649235 212.759669 \nL 82.633486 210.762975 \nL 82.91924 208.766281 \nL 83.489171 206.769587 \nL 84.316053 204.772893 \nL 85.364533 202.776198 \nL 86.593318 200.779504 \nL 87.957591 198.78281 \nL 89.411467 196.786116 \nL 90.910301 194.789421 \nL 92.412693 192.792727 \nL 93.882088 190.796033 \nL 95.28789 188.799339 \nL 96.606084 186.802645 \nL 97.819381 184.80595 \nL 98.916955 182.809256 \nL 99.893848 180.812562 \nL 100.750141 178.815868 \nL 101.490001 176.819174 \nL 102.120678 174.822479 \nL 102.651537 172.825785 \nL 103.093178 170.829091 \nL 103.456692 168.832397 \nL 103.753057 166.835702 \nL 103.992692 164.839008 \nL 104.185148 162.842314 \nL 104.33893 160.84562 \nL 104.46142 158.848926 \nL 104.558885 156.852231 \nL 104.636535 154.855537 \nL 104.698628 152.858843 \nL 104.748589 150.862149 \nL 104.789139 148.865455 \nL 104.822415 146.86876 \nL 104.850089 144.872066 \nL 104.873465 142.875372 \nL 104.893558 140.878678 \nL 104.911158 138.881983 \nL 104.926878 136.885289 \nL 104.941184 134.888595 \nL 104.954415 132.891901 \nL 104.966795 130.895207 \nL 104.978435 128.898512 \nL 104.989338 126.901818 \nL 104.999397 124.905124 \nL 105.008402 122.90843 \nL 105.016048 120.911736 \nL 105.02194 118.915041 \nL 105.025617 116.918347 \nL 105.026563 114.921653 \nL 105.024228 112.924959 \nL 105.018051 110.928264 \nL 105.00747 108.93157 \nL 104.99194 106.934876 \nL 104.970935 104.938182 \nL 104.943948 102.941488 \nL 104.910473 100.944793 \nL 104.86999 98.948099 \nL 104.821926 96.951405 \nL 104.765609 94.954711 \nL 104.700218 92.958017 \nL 104.624712 90.961322 \nL 104.537753 88.964628 \nL 104.437617 86.967934 \nL 104.32209 84.97124 \nL 104.18835 82.974545 \nL 104.032836 80.977851 \nL 103.851097 78.981157 \nL 103.637627 76.984463 \nL 103.385686 74.987769 \nL 103.087122 72.991074 \nL 102.732196 70.99438 \nL 102.30944 68.997686 \nL 101.805574 67.000992 \nL 101.205505 65.004298 \nL 100.49247 63.007603 \nL 99.648344 61.010909 \nL 98.654174 59.014215 \nL 97.49096 57.017521 \nL 96.140709 55.020826 \nL 94.587759 53.024132 \nL 92.820347 51.027438 \nL 90.832342 49.030744 \nL 88.625058 47.03405 \nL 86.208995 45.037355 \nL 83.605347 43.040661 \nL 80.847097 41.043967 \nL 77.979521 39.047273 \nL 75.05993 37.050579 \nL 72.15655 35.053884 \nL 69.346482 33.05719 \nL 66.712772 31.060496 \nL 64.340713 29.063802 \nL 62.313584 27.067107 \nL 60.708105 25.070413 \nL 59.589952 23.073719 \nL 59.009685 21.077025 \nL 58.999432 19.080331 \nL 59.570628 17.083636 \nL 159.882781 17.083636 \nL 159.882781 17.083636 \nL 160.453977 19.080331 \nL 160.443724 21.077025 \nL 159.863457 23.073719 \nL 158.745304 25.070413 \nL 157.139825 27.067107 \nL 155.112696 29.063802 \nL 152.740637 31.060496 \nL 150.106927 33.05719 \nL 147.296859 35.053884 \nL 144.393479 37.050579 \nL 141.473888 39.047273 \nL 138.606312 41.043967 \nL 135.848062 43.040661 \nL 133.244414 45.037355 \nL 130.828351 47.03405 \nL 128.621067 49.030744 \nL 126.633062 51.027438 \nL 124.86565 53.024132 \nL 123.3127 55.020826 \nL 121.962449 57.017521 \nL 120.799235 59.014215 \nL 119.805065 61.010909 \nL 118.960939 63.007603 \nL 118.247904 65.004298 \nL 117.647835 67.000992 \nL 117.143969 68.997686 \nL 116.721214 70.99438 \nL 116.366287 72.991074 \nL 116.067723 74.987769 \nL 115.815782 76.984463 \nL 115.602312 78.981157 \nL 115.420573 80.977851 \nL 115.265059 82.974545 \nL 115.131319 84.97124 \nL 115.015792 86.967934 \nL 114.915656 88.964628 \nL 114.828697 90.961322 \nL 114.753191 92.958017 \nL 114.6878 94.954711 \nL 114.631484 96.951405 \nL 114.583419 98.948099 \nL 114.542936 100.944793 \nL 114.509461 102.941488 \nL 114.482474 104.938182 \nL 114.461469 106.934876 \nL 114.445939 108.93157 \nL 114.435358 110.928264 \nL 114.429181 112.924959 \nL 114.426846 114.921653 \nL 114.427792 116.918347 \nL 114.431469 118.915041 \nL 114.437362 120.911736 \nL 114.445007 122.90843 \nL 114.454012 124.905124 \nL 114.464071 126.901818 \nL 114.474974 128.898512 \nL 114.486614 130.895207 \nL 114.498994 132.891901 \nL 114.512225 134.888595 \nL 114.526531 136.885289 \nL 114.542251 138.881983 \nL 114.559851 140.878678 \nL 114.579944 142.875372 \nL 114.60332 144.872066 \nL 114.630995 146.86876 \nL 114.664271 148.865455 \nL 114.70482 150.862149 \nL 114.754781 152.858843 \nL 114.816874 154.855537 \nL 114.894524 156.852231 \nL 114.991989 158.848926 \nL 115.114479 160.84562 \nL 115.268261 162.842314 \nL 115.460717 164.839008 \nL 115.700352 166.835702 \nL 115.996717 168.832397 \nL 116.360231 170.829091 \nL 116.801872 172.825785 \nL 117.332731 174.822479 \nL 117.963408 176.819174 \nL 118.703269 178.815868 \nL 119.559561 180.812562 \nL 120.536454 182.809256 \nL 121.634028 184.80595 \nL 122.847326 186.802645 \nL 124.165519 188.799339 \nL 125.571321 190.796033 \nL 127.040716 192.792727 \nL 128.543108 194.789421 \nL 130.041942 196.786116 \nL 131.495819 198.78281 \nL 132.860091 200.779504 \nL 134.088876 202.776198 \nL 135.137356 204.772893 \nL 135.964238 206.769587 \nL 136.534169 208.766281 \nL 136.819923 210.762975 \nL 136.804174 212.759669 \nL 136.480704 214.756364 \nz\n\" style=\"fill:#1f77b4;fill-opacity:0.3;\"/>\n   </g>\n   <g id=\"PolyCollection_2\">\n    <path clip-path=\"url(#p9e5234a5cc)\" d=\"M 363.363068 214.756364 \nL 261.908523 214.756364 \nL 265.285297 212.759669 \nL 274.817227 210.762975 \nL 286.696313 208.766281 \nL 297.243714 206.769587 \nL 304.606885 204.772893 \nL 308.818815 202.776198 \nL 310.848302 200.779504 \nL 311.698719 198.78281 \nL 312.028344 196.786116 \nL 312.164464 194.789421 \nL 312.238106 192.792727 \nL 312.291677 190.796033 \nL 312.335118 188.799339 \nL 312.369041 186.802645 \nL 312.39275 184.80595 \nL 312.406915 182.809256 \nL 312.414459 180.812562 \nL 312.419731 178.815868 \nL 312.426159 176.819174 \nL 312.43427 174.822479 \nL 312.441899 172.825785 \nL 312.446271 170.829091 \nL 312.44613 168.832397 \nL 312.442669 166.835702 \nL 312.439173 164.839008 \nL 312.439552 162.842314 \nL 312.446133 160.84562 \nL 312.458109 158.848926 \nL 312.472226 156.852231 \nL 312.485395 154.855537 \nL 312.496793 152.858843 \nL 312.50745 150.862149 \nL 312.517949 148.865455 \nL 312.526711 146.86876 \nL 312.530701 144.872066 \nL 312.528149 142.875372 \nL 312.520923 140.878678 \nL 312.514198 138.881983 \nL 312.513154 136.885289 \nL 312.519256 134.888595 \nL 312.529351 132.891901 \nL 312.53837 130.895207 \nL 312.543178 128.898512 \nL 312.544291 126.901818 \nL 312.544451 124.905124 \nL 312.54582 122.90843 \nL 312.548286 120.911736 \nL 312.549868 118.915041 \nL 312.548296 116.918347 \nL 312.54236 114.921653 \nL 312.532634 112.924959 \nL 312.521703 110.928264 \nL 312.513656 108.93157 \nL 312.512447 106.934876 \nL 312.519744 104.938182 \nL 312.533694 102.941488 \nL 312.549507 100.944793 \nL 312.561522 98.948099 \nL 312.565801 96.951405 \nL 312.5621 94.954711 \nL 312.553982 92.958017 \nL 312.546604 90.961322 \nL 312.543617 88.964628 \nL 312.545608 86.967934 \nL 312.550989 84.97124 \nL 312.557824 82.974545 \nL 312.564753 80.977851 \nL 312.571014 78.981157 \nL 312.576521 76.984463 \nL 312.582081 74.987769 \nL 312.588894 72.991074 \nL 312.597263 70.99438 \nL 312.605692 68.997686 \nL 312.611407 67.000992 \nL 312.611934 65.004298 \nL 312.60651 63.007603 \nL 312.596456 61.010909 \nL 312.58438 59.014215 \nL 312.57272 57.017521 \nL 312.562554 55.020826 \nL 312.553625 53.024132 \nL 312.54562 51.027438 \nL 312.539417 49.030744 \nL 312.536738 47.03405 \nL 312.53816 45.037355 \nL 312.54136 43.040661 \nL 312.541615 41.043967 \nL 312.534612 39.047273 \nL 312.519539 37.050579 \nL 312.500038 35.053884 \nL 312.482019 33.05719 \nL 312.469285 31.060496 \nL 312.459389 29.063802 \nL 312.442822 27.067107 \nL 312.407962 25.070413 \nL 312.350944 23.073719 \nL 312.28421 21.077025 \nL 312.234831 19.080331 \nL 312.229845 17.083636 \nL 313.041746 17.083636 \nL 313.041746 17.083636 \nL 313.03676 19.080331 \nL 312.987381 21.077025 \nL 312.920647 23.073719 \nL 312.863629 25.070413 \nL 312.828769 27.067107 \nL 312.812202 29.063802 \nL 312.802306 31.060496 \nL 312.789572 33.05719 \nL 312.771553 35.053884 \nL 312.752052 37.050579 \nL 312.736978 39.047273 \nL 312.729976 41.043967 \nL 312.730231 43.040661 \nL 312.733431 45.037355 \nL 312.734853 47.03405 \nL 312.732174 49.030744 \nL 312.725971 51.027438 \nL 312.717966 53.024132 \nL 312.709037 55.020826 \nL 312.698871 57.017521 \nL 312.687211 59.014215 \nL 312.675135 61.010909 \nL 312.665081 63.007603 \nL 312.659657 65.004298 \nL 312.660184 67.000992 \nL 312.665899 68.997686 \nL 312.674328 70.99438 \nL 312.682697 72.991074 \nL 312.68951 74.987769 \nL 312.69507 76.984463 \nL 312.700577 78.981157 \nL 312.706838 80.977851 \nL 312.713767 82.974545 \nL 312.720602 84.97124 \nL 312.725983 86.967934 \nL 312.727974 88.964628 \nL 312.724987 90.961322 \nL 312.717609 92.958017 \nL 312.709491 94.954711 \nL 312.70579 96.951405 \nL 312.710069 98.948099 \nL 312.722084 100.944793 \nL 312.737897 102.941488 \nL 312.751847 104.938182 \nL 312.759144 106.934876 \nL 312.757935 108.93157 \nL 312.749888 110.928264 \nL 312.738957 112.924959 \nL 312.729231 114.921653 \nL 312.723295 116.918347 \nL 312.721723 118.915041 \nL 312.723305 120.911736 \nL 312.72577 122.90843 \nL 312.72714 124.905124 \nL 312.7273 126.901818 \nL 312.728413 128.898512 \nL 312.733221 130.895207 \nL 312.74224 132.891901 \nL 312.752335 134.888595 \nL 312.758437 136.885289 \nL 312.757393 138.881983 \nL 312.750668 140.878678 \nL 312.743442 142.875372 \nL 312.74089 144.872066 \nL 312.74488 146.86876 \nL 312.753642 148.865455 \nL 312.764141 150.862149 \nL 312.774797 152.858843 \nL 312.786196 154.855537 \nL 312.799365 156.852231 \nL 312.813482 158.848926 \nL 312.825458 160.84562 \nL 312.832039 162.842314 \nL 312.832417 164.839008 \nL 312.828922 166.835702 \nL 312.825461 168.832397 \nL 312.82532 170.829091 \nL 312.829692 172.825785 \nL 312.837321 174.822479 \nL 312.845432 176.819174 \nL 312.85186 178.815868 \nL 312.857131 180.812562 \nL 312.864676 182.809256 \nL 312.878841 184.80595 \nL 312.902549 186.802645 \nL 312.936473 188.799339 \nL 312.979914 190.796033 \nL 313.033485 192.792727 \nL 313.107127 194.789421 \nL 313.243247 196.786116 \nL 313.572872 198.78281 \nL 314.423289 200.779504 \nL 316.452775 202.776198 \nL 320.664706 204.772893 \nL 328.027877 206.769587 \nL 338.575278 208.766281 \nL 350.454364 210.762975 \nL 359.986293 212.759669 \nL 363.363068 214.756364 \nz\n\" style=\"fill:#1f77b4;fill-opacity:0.3;\"/>\n   </g>\n   <g id=\"matplotlib.axis_1\">\n    <g id=\"xtick_1\">\n     <g id=\"line2d_1\">\n      <defs>\n       <path d=\"M 0 0 \nL 0 3.5 \n\" id=\"m2ab1fe299c\" style=\"stroke:#000000;stroke-width:0.8;\"/>\n      </defs>\n      <g>\n       <use style=\"stroke:#000000;stroke-width:0.8;\" x=\"109.726705\" xlink:href=\"#m2ab1fe299c\" y=\"224.64\"/>\n      </g>\n     </g>\n     <g id=\"text_1\">\n      <!-- True -->\n      <defs>\n       <path d=\"M -0.296875 72.90625 \nL 61.375 72.90625 \nL 61.375 64.59375 \nL 35.5 64.59375 \nL 35.5 0 \nL 25.59375 0 \nL 25.59375 64.59375 \nL -0.296875 64.59375 \nz\n\" id=\"DejaVuSans-84\"/>\n       <path d=\"M 41.109375 46.296875 \nQ 39.59375 47.171875 37.8125 47.578125 \nQ 36.03125 48 33.890625 48 \nQ 26.265625 48 22.1875 43.046875 \nQ 18.109375 38.09375 18.109375 28.8125 \nL 18.109375 0 \nL 9.078125 0 \nL 9.078125 54.6875 \nL 18.109375 54.6875 \nL 18.109375 46.1875 \nQ 20.953125 51.171875 25.484375 53.578125 \nQ 30.03125 56 36.53125 56 \nQ 37.453125 56 38.578125 55.875 \nQ 39.703125 55.765625 41.0625 55.515625 \nz\n\" id=\"DejaVuSans-114\"/>\n       <path d=\"M 8.5 21.578125 \nL 8.5 54.6875 \nL 17.484375 54.6875 \nL 17.484375 21.921875 \nQ 17.484375 14.15625 20.5 10.265625 \nQ 23.53125 6.390625 29.59375 6.390625 \nQ 36.859375 6.390625 41.078125 11.03125 \nQ 45.3125 15.671875 45.3125 23.6875 \nL 45.3125 54.6875 \nL 54.296875 54.6875 \nL 54.296875 0 \nL 45.3125 0 \nL 45.3125 8.40625 \nQ 42.046875 3.421875 37.71875 1 \nQ 33.40625 -1.421875 27.6875 -1.421875 \nQ 18.265625 -1.421875 13.375 4.4375 \nQ 8.5 10.296875 8.5 21.578125 \nz\nM 31.109375 56 \nz\n\" id=\"DejaVuSans-117\"/>\n       <path d=\"M 56.203125 29.59375 \nL 56.203125 25.203125 \nL 14.890625 25.203125 \nQ 15.484375 15.921875 20.484375 11.0625 \nQ 25.484375 6.203125 34.421875 6.203125 \nQ 39.59375 6.203125 44.453125 7.46875 \nQ 49.3125 8.734375 54.109375 11.28125 \nL 54.109375 2.78125 \nQ 49.265625 0.734375 44.1875 -0.34375 \nQ 39.109375 -1.421875 33.890625 -1.421875 \nQ 20.796875 -1.421875 13.15625 6.1875 \nQ 5.515625 13.8125 5.515625 26.8125 \nQ 5.515625 40.234375 12.765625 48.109375 \nQ 20.015625 56 32.328125 56 \nQ 43.359375 56 49.78125 48.890625 \nQ 56.203125 41.796875 56.203125 29.59375 \nz\nM 47.21875 32.234375 \nQ 47.125 39.59375 43.09375 43.984375 \nQ 39.0625 48.390625 32.421875 48.390625 \nQ 24.90625 48.390625 20.390625 44.140625 \nQ 15.875 39.890625 15.1875 32.171875 \nz\n\" id=\"DejaVuSans-101\"/>\n      </defs>\n      <g transform=\"translate(98.382955 239.238437)scale(0.1 -0.1)\">\n       <use xlink:href=\"#DejaVuSans-84\"/>\n       <use x=\"60.865234\" xlink:href=\"#DejaVuSans-114\"/>\n       <use x=\"101.978516\" xlink:href=\"#DejaVuSans-117\"/>\n       <use x=\"165.357422\" xlink:href=\"#DejaVuSans-101\"/>\n      </g>\n     </g>\n    </g>\n    <g id=\"xtick_2\">\n     <g id=\"line2d_2\">\n      <g>\n       <use style=\"stroke:#000000;stroke-width:0.8;\" x=\"312.635795\" xlink:href=\"#m2ab1fe299c\" y=\"224.64\"/>\n      </g>\n     </g>\n     <g id=\"text_2\">\n      <!-- False -->\n      <defs>\n       <path d=\"M 9.8125 72.90625 \nL 51.703125 72.90625 \nL 51.703125 64.59375 \nL 19.671875 64.59375 \nL 19.671875 43.109375 \nL 48.578125 43.109375 \nL 48.578125 34.8125 \nL 19.671875 34.8125 \nL 19.671875 0 \nL 9.8125 0 \nz\n\" id=\"DejaVuSans-70\"/>\n       <path d=\"M 34.28125 27.484375 \nQ 23.390625 27.484375 19.1875 25 \nQ 14.984375 22.515625 14.984375 16.5 \nQ 14.984375 11.71875 18.140625 8.90625 \nQ 21.296875 6.109375 26.703125 6.109375 \nQ 34.1875 6.109375 38.703125 11.40625 \nQ 43.21875 16.703125 43.21875 25.484375 \nL 43.21875 27.484375 \nz\nM 52.203125 31.203125 \nL 52.203125 0 \nL 43.21875 0 \nL 43.21875 8.296875 \nQ 40.140625 3.328125 35.546875 0.953125 \nQ 30.953125 -1.421875 24.3125 -1.421875 \nQ 15.921875 -1.421875 10.953125 3.296875 \nQ 6 8.015625 6 15.921875 \nQ 6 25.140625 12.171875 29.828125 \nQ 18.359375 34.515625 30.609375 34.515625 \nL 43.21875 34.515625 \nL 43.21875 35.40625 \nQ 43.21875 41.609375 39.140625 45 \nQ 35.0625 48.390625 27.6875 48.390625 \nQ 23 48.390625 18.546875 47.265625 \nQ 14.109375 46.140625 10.015625 43.890625 \nL 10.015625 52.203125 \nQ 14.9375 54.109375 19.578125 55.046875 \nQ 24.21875 56 28.609375 56 \nQ 40.484375 56 46.34375 49.84375 \nQ 52.203125 43.703125 52.203125 31.203125 \nz\n\" id=\"DejaVuSans-97\"/>\n       <path d=\"M 9.421875 75.984375 \nL 18.40625 75.984375 \nL 18.40625 0 \nL 9.421875 0 \nz\n\" id=\"DejaVuSans-108\"/>\n       <path d=\"M 44.28125 53.078125 \nL 44.28125 44.578125 \nQ 40.484375 46.53125 36.375 47.5 \nQ 32.28125 48.484375 27.875 48.484375 \nQ 21.1875 48.484375 17.84375 46.4375 \nQ 14.5 44.390625 14.5 40.28125 \nQ 14.5 37.15625 16.890625 35.375 \nQ 19.28125 33.59375 26.515625 31.984375 \nL 29.59375 31.296875 \nQ 39.15625 29.25 43.1875 25.515625 \nQ 47.21875 21.78125 47.21875 15.09375 \nQ 47.21875 7.46875 41.1875 3.015625 \nQ 35.15625 -1.421875 24.609375 -1.421875 \nQ 20.21875 -1.421875 15.453125 -0.5625 \nQ 10.6875 0.296875 5.421875 2 \nL 5.421875 11.28125 \nQ 10.40625 8.6875 15.234375 7.390625 \nQ 20.0625 6.109375 24.8125 6.109375 \nQ 31.15625 6.109375 34.5625 8.28125 \nQ 37.984375 10.453125 37.984375 14.40625 \nQ 37.984375 18.0625 35.515625 20.015625 \nQ 33.0625 21.96875 24.703125 23.78125 \nL 21.578125 24.515625 \nQ 13.234375 26.265625 9.515625 29.90625 \nQ 5.8125 33.546875 5.8125 39.890625 \nQ 5.8125 47.609375 11.28125 51.796875 \nQ 16.75 56 26.8125 56 \nQ 31.78125 56 36.171875 55.265625 \nQ 40.578125 54.546875 44.28125 53.078125 \nz\n\" id=\"DejaVuSans-115\"/>\n      </defs>\n      <g transform=\"translate(299.63267 239.238437)scale(0.1 -0.1)\">\n       <use xlink:href=\"#DejaVuSans-70\"/>\n       <use x=\"57.378906\" xlink:href=\"#DejaVuSans-97\"/>\n       <use x=\"118.658203\" xlink:href=\"#DejaVuSans-108\"/>\n       <use x=\"146.441406\" xlink:href=\"#DejaVuSans-115\"/>\n       <use x=\"198.541016\" xlink:href=\"#DejaVuSans-101\"/>\n      </g>\n     </g>\n    </g>\n    <g id=\"text_3\">\n     <!-- Gold label -->\n     <defs>\n      <path d=\"M 59.515625 10.40625 \nL 59.515625 29.984375 \nL 43.40625 29.984375 \nL 43.40625 38.09375 \nL 69.28125 38.09375 \nL 69.28125 6.78125 \nQ 63.578125 2.734375 56.6875 0.65625 \nQ 49.8125 -1.421875 42 -1.421875 \nQ 24.90625 -1.421875 15.25 8.5625 \nQ 5.609375 18.5625 5.609375 36.375 \nQ 5.609375 54.25 15.25 64.234375 \nQ 24.90625 74.21875 42 74.21875 \nQ 49.125 74.21875 55.546875 72.453125 \nQ 61.96875 70.703125 67.390625 67.28125 \nL 67.390625 56.78125 \nQ 61.921875 61.421875 55.765625 63.765625 \nQ 49.609375 66.109375 42.828125 66.109375 \nQ 29.4375 66.109375 22.71875 58.640625 \nQ 16.015625 51.171875 16.015625 36.375 \nQ 16.015625 21.625 22.71875 14.15625 \nQ 29.4375 6.6875 42.828125 6.6875 \nQ 48.046875 6.6875 52.140625 7.59375 \nQ 56.25 8.5 59.515625 10.40625 \nz\n\" id=\"DejaVuSans-71\"/>\n      <path d=\"M 30.609375 48.390625 \nQ 23.390625 48.390625 19.1875 42.75 \nQ 14.984375 37.109375 14.984375 27.296875 \nQ 14.984375 17.484375 19.15625 11.84375 \nQ 23.34375 6.203125 30.609375 6.203125 \nQ 37.796875 6.203125 41.984375 11.859375 \nQ 46.1875 17.53125 46.1875 27.296875 \nQ 46.1875 37.015625 41.984375 42.703125 \nQ 37.796875 48.390625 30.609375 48.390625 \nz\nM 30.609375 56 \nQ 42.328125 56 49.015625 48.375 \nQ 55.71875 40.765625 55.71875 27.296875 \nQ 55.71875 13.875 49.015625 6.21875 \nQ 42.328125 -1.421875 30.609375 -1.421875 \nQ 18.84375 -1.421875 12.171875 6.21875 \nQ 5.515625 13.875 5.515625 27.296875 \nQ 5.515625 40.765625 12.171875 48.375 \nQ 18.84375 56 30.609375 56 \nz\n\" id=\"DejaVuSans-111\"/>\n      <path d=\"M 45.40625 46.390625 \nL 45.40625 75.984375 \nL 54.390625 75.984375 \nL 54.390625 0 \nL 45.40625 0 \nL 45.40625 8.203125 \nQ 42.578125 3.328125 38.25 0.953125 \nQ 33.9375 -1.421875 27.875 -1.421875 \nQ 17.96875 -1.421875 11.734375 6.484375 \nQ 5.515625 14.40625 5.515625 27.296875 \nQ 5.515625 40.1875 11.734375 48.09375 \nQ 17.96875 56 27.875 56 \nQ 33.9375 56 38.25 53.625 \nQ 42.578125 51.265625 45.40625 46.390625 \nz\nM 14.796875 27.296875 \nQ 14.796875 17.390625 18.875 11.75 \nQ 22.953125 6.109375 30.078125 6.109375 \nQ 37.203125 6.109375 41.296875 11.75 \nQ 45.40625 17.390625 45.40625 27.296875 \nQ 45.40625 37.203125 41.296875 42.84375 \nQ 37.203125 48.484375 30.078125 48.484375 \nQ 22.953125 48.484375 18.875 42.84375 \nQ 14.796875 37.203125 14.796875 27.296875 \nz\n\" id=\"DejaVuSans-100\"/>\n      <path id=\"DejaVuSans-32\"/>\n      <path d=\"M 48.6875 27.296875 \nQ 48.6875 37.203125 44.609375 42.84375 \nQ 40.53125 48.484375 33.40625 48.484375 \nQ 26.265625 48.484375 22.1875 42.84375 \nQ 18.109375 37.203125 18.109375 27.296875 \nQ 18.109375 17.390625 22.1875 11.75 \nQ 26.265625 6.109375 33.40625 6.109375 \nQ 40.53125 6.109375 44.609375 11.75 \nQ 48.6875 17.390625 48.6875 27.296875 \nz\nM 18.109375 46.390625 \nQ 20.953125 51.265625 25.265625 53.625 \nQ 29.59375 56 35.59375 56 \nQ 45.5625 56 51.78125 48.09375 \nQ 58.015625 40.1875 58.015625 27.296875 \nQ 58.015625 14.40625 51.78125 6.484375 \nQ 45.5625 -1.421875 35.59375 -1.421875 \nQ 29.59375 -1.421875 25.265625 0.953125 \nQ 20.953125 3.328125 18.109375 8.203125 \nL 18.109375 0 \nL 9.078125 0 \nL 9.078125 75.984375 \nL 18.109375 75.984375 \nz\n\" id=\"DejaVuSans-98\"/>\n     </defs>\n     <g transform=\"translate(186.002344 252.916562)scale(0.1 -0.1)\">\n      <use xlink:href=\"#DejaVuSans-71\"/>\n      <use x=\"77.490234\" xlink:href=\"#DejaVuSans-111\"/>\n      <use x=\"138.671875\" xlink:href=\"#DejaVuSans-108\"/>\n      <use x=\"166.455078\" xlink:href=\"#DejaVuSans-100\"/>\n      <use x=\"229.931641\" xlink:href=\"#DejaVuSans-32\"/>\n      <use x=\"261.71875\" xlink:href=\"#DejaVuSans-108\"/>\n      <use x=\"289.501953\" xlink:href=\"#DejaVuSans-97\"/>\n      <use x=\"350.78125\" xlink:href=\"#DejaVuSans-98\"/>\n      <use x=\"414.257812\" xlink:href=\"#DejaVuSans-101\"/>\n      <use x=\"475.78125\" xlink:href=\"#DejaVuSans-108\"/>\n     </g>\n    </g>\n   </g>\n   <g id=\"matplotlib.axis_2\">\n    <g id=\"ytick_1\">\n     <g id=\"line2d_3\">\n      <path clip-path=\"url(#p9e5234a5cc)\" d=\"M 43.78125 214.756364 \nL 378.58125 214.756364 \n\" style=\"fill:none;stroke:#b0b0b0;stroke-linecap:square;stroke-width:0.8;\"/>\n     </g>\n     <g id=\"line2d_4\">\n      <defs>\n       <path d=\"M 0 0 \nL -3.5 0 \n\" id=\"m892aaa7971\" style=\"stroke:#000000;stroke-width:0.8;\"/>\n      </defs>\n      <g>\n       <use style=\"stroke:#000000;stroke-width:0.8;\" x=\"43.78125\" xlink:href=\"#m892aaa7971\" y=\"214.756364\"/>\n      </g>\n     </g>\n     <g id=\"text_4\">\n      <!-- 0.0 -->\n      <defs>\n       <path d=\"M 31.78125 66.40625 \nQ 24.171875 66.40625 20.328125 58.90625 \nQ 16.5 51.421875 16.5 36.375 \nQ 16.5 21.390625 20.328125 13.890625 \nQ 24.171875 6.390625 31.78125 6.390625 \nQ 39.453125 6.390625 43.28125 13.890625 \nQ 47.125 21.390625 47.125 36.375 \nQ 47.125 51.421875 43.28125 58.90625 \nQ 39.453125 66.40625 31.78125 66.40625 \nz\nM 31.78125 74.21875 \nQ 44.046875 74.21875 50.515625 64.515625 \nQ 56.984375 54.828125 56.984375 36.375 \nQ 56.984375 17.96875 50.515625 8.265625 \nQ 44.046875 -1.421875 31.78125 -1.421875 \nQ 19.53125 -1.421875 13.0625 8.265625 \nQ 6.59375 17.96875 6.59375 36.375 \nQ 6.59375 54.828125 13.0625 64.515625 \nQ 19.53125 74.21875 31.78125 74.21875 \nz\n\" id=\"DejaVuSans-48\"/>\n       <path d=\"M 10.6875 12.40625 \nL 21 12.40625 \nL 21 0 \nL 10.6875 0 \nz\n\" id=\"DejaVuSans-46\"/>\n      </defs>\n      <g transform=\"translate(20.878125 218.555582)scale(0.1 -0.1)\">\n       <use xlink:href=\"#DejaVuSans-48\"/>\n       <use x=\"63.623047\" xlink:href=\"#DejaVuSans-46\"/>\n       <use x=\"95.410156\" xlink:href=\"#DejaVuSans-48\"/>\n      </g>\n     </g>\n    </g>\n    <g id=\"ytick_2\">\n     <g id=\"line2d_5\">\n      <path clip-path=\"url(#p9e5234a5cc)\" d=\"M 43.78125 175.221818 \nL 378.58125 175.221818 \n\" style=\"fill:none;stroke:#b0b0b0;stroke-linecap:square;stroke-width:0.8;\"/>\n     </g>\n     <g id=\"line2d_6\">\n      <g>\n       <use style=\"stroke:#000000;stroke-width:0.8;\" x=\"43.78125\" xlink:href=\"#m892aaa7971\" y=\"175.221818\"/>\n      </g>\n     </g>\n     <g id=\"text_5\">\n      <!-- 0.2 -->\n      <defs>\n       <path d=\"M 19.1875 8.296875 \nL 53.609375 8.296875 \nL 53.609375 0 \nL 7.328125 0 \nL 7.328125 8.296875 \nQ 12.9375 14.109375 22.625 23.890625 \nQ 32.328125 33.6875 34.8125 36.53125 \nQ 39.546875 41.84375 41.421875 45.53125 \nQ 43.3125 49.21875 43.3125 52.78125 \nQ 43.3125 58.59375 39.234375 62.25 \nQ 35.15625 65.921875 28.609375 65.921875 \nQ 23.96875 65.921875 18.8125 64.3125 \nQ 13.671875 62.703125 7.8125 59.421875 \nL 7.8125 69.390625 \nQ 13.765625 71.78125 18.9375 73 \nQ 24.125 74.21875 28.421875 74.21875 \nQ 39.75 74.21875 46.484375 68.546875 \nQ 53.21875 62.890625 53.21875 53.421875 \nQ 53.21875 48.921875 51.53125 44.890625 \nQ 49.859375 40.875 45.40625 35.40625 \nQ 44.1875 33.984375 37.640625 27.21875 \nQ 31.109375 20.453125 19.1875 8.296875 \nz\n\" id=\"DejaVuSans-50\"/>\n      </defs>\n      <g transform=\"translate(20.878125 179.021037)scale(0.1 -0.1)\">\n       <use xlink:href=\"#DejaVuSans-48\"/>\n       <use x=\"63.623047\" xlink:href=\"#DejaVuSans-46\"/>\n       <use x=\"95.410156\" xlink:href=\"#DejaVuSans-50\"/>\n      </g>\n     </g>\n    </g>\n    <g id=\"ytick_3\">\n     <g id=\"line2d_7\">\n      <path clip-path=\"url(#p9e5234a5cc)\" d=\"M 43.78125 135.687273 \nL 378.58125 135.687273 \n\" style=\"fill:none;stroke:#b0b0b0;stroke-linecap:square;stroke-width:0.8;\"/>\n     </g>\n     <g id=\"line2d_8\">\n      <g>\n       <use style=\"stroke:#000000;stroke-width:0.8;\" x=\"43.78125\" xlink:href=\"#m892aaa7971\" y=\"135.687273\"/>\n      </g>\n     </g>\n     <g id=\"text_6\">\n      <!-- 0.4 -->\n      <defs>\n       <path d=\"M 37.796875 64.3125 \nL 12.890625 25.390625 \nL 37.796875 25.390625 \nz\nM 35.203125 72.90625 \nL 47.609375 72.90625 \nL 47.609375 25.390625 \nL 58.015625 25.390625 \nL 58.015625 17.1875 \nL 47.609375 17.1875 \nL 47.609375 0 \nL 37.796875 0 \nL 37.796875 17.1875 \nL 4.890625 17.1875 \nL 4.890625 26.703125 \nz\n\" id=\"DejaVuSans-52\"/>\n      </defs>\n      <g transform=\"translate(20.878125 139.486491)scale(0.1 -0.1)\">\n       <use xlink:href=\"#DejaVuSans-48\"/>\n       <use x=\"63.623047\" xlink:href=\"#DejaVuSans-46\"/>\n       <use x=\"95.410156\" xlink:href=\"#DejaVuSans-52\"/>\n      </g>\n     </g>\n    </g>\n    <g id=\"ytick_4\">\n     <g id=\"line2d_9\">\n      <path clip-path=\"url(#p9e5234a5cc)\" d=\"M 43.78125 96.152727 \nL 378.58125 96.152727 \n\" style=\"fill:none;stroke:#b0b0b0;stroke-linecap:square;stroke-width:0.8;\"/>\n     </g>\n     <g id=\"line2d_10\">\n      <g>\n       <use style=\"stroke:#000000;stroke-width:0.8;\" x=\"43.78125\" xlink:href=\"#m892aaa7971\" y=\"96.152727\"/>\n      </g>\n     </g>\n     <g id=\"text_7\">\n      <!-- 0.6 -->\n      <defs>\n       <path d=\"M 33.015625 40.375 \nQ 26.375 40.375 22.484375 35.828125 \nQ 18.609375 31.296875 18.609375 23.390625 \nQ 18.609375 15.53125 22.484375 10.953125 \nQ 26.375 6.390625 33.015625 6.390625 \nQ 39.65625 6.390625 43.53125 10.953125 \nQ 47.40625 15.53125 47.40625 23.390625 \nQ 47.40625 31.296875 43.53125 35.828125 \nQ 39.65625 40.375 33.015625 40.375 \nz\nM 52.59375 71.296875 \nL 52.59375 62.3125 \nQ 48.875 64.0625 45.09375 64.984375 \nQ 41.3125 65.921875 37.59375 65.921875 \nQ 27.828125 65.921875 22.671875 59.328125 \nQ 17.53125 52.734375 16.796875 39.40625 \nQ 19.671875 43.65625 24.015625 45.921875 \nQ 28.375 48.1875 33.59375 48.1875 \nQ 44.578125 48.1875 50.953125 41.515625 \nQ 57.328125 34.859375 57.328125 23.390625 \nQ 57.328125 12.15625 50.6875 5.359375 \nQ 44.046875 -1.421875 33.015625 -1.421875 \nQ 20.359375 -1.421875 13.671875 8.265625 \nQ 6.984375 17.96875 6.984375 36.375 \nQ 6.984375 53.65625 15.1875 63.9375 \nQ 23.390625 74.21875 37.203125 74.21875 \nQ 40.921875 74.21875 44.703125 73.484375 \nQ 48.484375 72.75 52.59375 71.296875 \nz\n\" id=\"DejaVuSans-54\"/>\n      </defs>\n      <g transform=\"translate(20.878125 99.951946)scale(0.1 -0.1)\">\n       <use xlink:href=\"#DejaVuSans-48\"/>\n       <use x=\"63.623047\" xlink:href=\"#DejaVuSans-46\"/>\n       <use x=\"95.410156\" xlink:href=\"#DejaVuSans-54\"/>\n      </g>\n     </g>\n    </g>\n    <g id=\"ytick_5\">\n     <g id=\"line2d_11\">\n      <path clip-path=\"url(#p9e5234a5cc)\" d=\"M 43.78125 56.618182 \nL 378.58125 56.618182 \n\" style=\"fill:none;stroke:#b0b0b0;stroke-linecap:square;stroke-width:0.8;\"/>\n     </g>\n     <g id=\"line2d_12\">\n      <g>\n       <use style=\"stroke:#000000;stroke-width:0.8;\" x=\"43.78125\" xlink:href=\"#m892aaa7971\" y=\"56.618182\"/>\n      </g>\n     </g>\n     <g id=\"text_8\">\n      <!-- 0.8 -->\n      <defs>\n       <path d=\"M 31.78125 34.625 \nQ 24.75 34.625 20.71875 30.859375 \nQ 16.703125 27.09375 16.703125 20.515625 \nQ 16.703125 13.921875 20.71875 10.15625 \nQ 24.75 6.390625 31.78125 6.390625 \nQ 38.8125 6.390625 42.859375 10.171875 \nQ 46.921875 13.96875 46.921875 20.515625 \nQ 46.921875 27.09375 42.890625 30.859375 \nQ 38.875 34.625 31.78125 34.625 \nz\nM 21.921875 38.8125 \nQ 15.578125 40.375 12.03125 44.71875 \nQ 8.5 49.078125 8.5 55.328125 \nQ 8.5 64.0625 14.71875 69.140625 \nQ 20.953125 74.21875 31.78125 74.21875 \nQ 42.671875 74.21875 48.875 69.140625 \nQ 55.078125 64.0625 55.078125 55.328125 \nQ 55.078125 49.078125 51.53125 44.71875 \nQ 48 40.375 41.703125 38.8125 \nQ 48.828125 37.15625 52.796875 32.3125 \nQ 56.78125 27.484375 56.78125 20.515625 \nQ 56.78125 9.90625 50.3125 4.234375 \nQ 43.84375 -1.421875 31.78125 -1.421875 \nQ 19.734375 -1.421875 13.25 4.234375 \nQ 6.78125 9.90625 6.78125 20.515625 \nQ 6.78125 27.484375 10.78125 32.3125 \nQ 14.796875 37.15625 21.921875 38.8125 \nz\nM 18.3125 54.390625 \nQ 18.3125 48.734375 21.84375 45.5625 \nQ 25.390625 42.390625 31.78125 42.390625 \nQ 38.140625 42.390625 41.71875 45.5625 \nQ 45.3125 48.734375 45.3125 54.390625 \nQ 45.3125 60.0625 41.71875 63.234375 \nQ 38.140625 66.40625 31.78125 66.40625 \nQ 25.390625 66.40625 21.84375 63.234375 \nQ 18.3125 60.0625 18.3125 54.390625 \nz\n\" id=\"DejaVuSans-56\"/>\n      </defs>\n      <g transform=\"translate(20.878125 60.417401)scale(0.1 -0.1)\">\n       <use xlink:href=\"#DejaVuSans-48\"/>\n       <use x=\"63.623047\" xlink:href=\"#DejaVuSans-46\"/>\n       <use x=\"95.410156\" xlink:href=\"#DejaVuSans-56\"/>\n      </g>\n     </g>\n    </g>\n    <g id=\"ytick_6\">\n     <g id=\"line2d_13\">\n      <path clip-path=\"url(#p9e5234a5cc)\" d=\"M 43.78125 17.083636 \nL 378.58125 17.083636 \n\" style=\"fill:none;stroke:#b0b0b0;stroke-linecap:square;stroke-width:0.8;\"/>\n     </g>\n     <g id=\"line2d_14\">\n      <g>\n       <use style=\"stroke:#000000;stroke-width:0.8;\" x=\"43.78125\" xlink:href=\"#m892aaa7971\" y=\"17.083636\"/>\n      </g>\n     </g>\n     <g id=\"text_9\">\n      <!-- 1.0 -->\n      <defs>\n       <path d=\"M 12.40625 8.296875 \nL 28.515625 8.296875 \nL 28.515625 63.921875 \nL 10.984375 60.40625 \nL 10.984375 69.390625 \nL 28.421875 72.90625 \nL 38.28125 72.90625 \nL 38.28125 8.296875 \nL 54.390625 8.296875 \nL 54.390625 0 \nL 12.40625 0 \nz\n\" id=\"DejaVuSans-49\"/>\n      </defs>\n      <g transform=\"translate(20.878125 20.882855)scale(0.1 -0.1)\">\n       <use xlink:href=\"#DejaVuSans-49\"/>\n       <use x=\"63.623047\" xlink:href=\"#DejaVuSans-46\"/>\n       <use x=\"95.410156\" xlink:href=\"#DejaVuSans-48\"/>\n      </g>\n     </g>\n    </g>\n    <g id=\"text_10\">\n     <!-- Generated probability -->\n     <defs>\n      <path d=\"M 54.890625 33.015625 \nL 54.890625 0 \nL 45.90625 0 \nL 45.90625 32.71875 \nQ 45.90625 40.484375 42.875 44.328125 \nQ 39.84375 48.1875 33.796875 48.1875 \nQ 26.515625 48.1875 22.3125 43.546875 \nQ 18.109375 38.921875 18.109375 30.90625 \nL 18.109375 0 \nL 9.078125 0 \nL 9.078125 54.6875 \nL 18.109375 54.6875 \nL 18.109375 46.1875 \nQ 21.34375 51.125 25.703125 53.5625 \nQ 30.078125 56 35.796875 56 \nQ 45.21875 56 50.046875 50.171875 \nQ 54.890625 44.34375 54.890625 33.015625 \nz\n\" id=\"DejaVuSans-110\"/>\n      <path d=\"M 18.3125 70.21875 \nL 18.3125 54.6875 \nL 36.8125 54.6875 \nL 36.8125 47.703125 \nL 18.3125 47.703125 \nL 18.3125 18.015625 \nQ 18.3125 11.328125 20.140625 9.421875 \nQ 21.96875 7.515625 27.59375 7.515625 \nL 36.8125 7.515625 \nL 36.8125 0 \nL 27.59375 0 \nQ 17.1875 0 13.234375 3.875 \nQ 9.28125 7.765625 9.28125 18.015625 \nL 9.28125 47.703125 \nL 2.6875 47.703125 \nL 2.6875 54.6875 \nL 9.28125 54.6875 \nL 9.28125 70.21875 \nz\n\" id=\"DejaVuSans-116\"/>\n      <path d=\"M 18.109375 8.203125 \nL 18.109375 -20.796875 \nL 9.078125 -20.796875 \nL 9.078125 54.6875 \nL 18.109375 54.6875 \nL 18.109375 46.390625 \nQ 20.953125 51.265625 25.265625 53.625 \nQ 29.59375 56 35.59375 56 \nQ 45.5625 56 51.78125 48.09375 \nQ 58.015625 40.1875 58.015625 27.296875 \nQ 58.015625 14.40625 51.78125 6.484375 \nQ 45.5625 -1.421875 35.59375 -1.421875 \nQ 29.59375 -1.421875 25.265625 0.953125 \nQ 20.953125 3.328125 18.109375 8.203125 \nz\nM 48.6875 27.296875 \nQ 48.6875 37.203125 44.609375 42.84375 \nQ 40.53125 48.484375 33.40625 48.484375 \nQ 26.265625 48.484375 22.1875 42.84375 \nQ 18.109375 37.203125 18.109375 27.296875 \nQ 18.109375 17.390625 22.1875 11.75 \nQ 26.265625 6.109375 33.40625 6.109375 \nQ 40.53125 6.109375 44.609375 11.75 \nQ 48.6875 17.390625 48.6875 27.296875 \nz\n\" id=\"DejaVuSans-112\"/>\n      <path d=\"M 9.421875 54.6875 \nL 18.40625 54.6875 \nL 18.40625 0 \nL 9.421875 0 \nz\nM 9.421875 75.984375 \nL 18.40625 75.984375 \nL 18.40625 64.59375 \nL 9.421875 64.59375 \nz\n\" id=\"DejaVuSans-105\"/>\n      <path d=\"M 32.171875 -5.078125 \nQ 28.375 -14.84375 24.75 -17.8125 \nQ 21.140625 -20.796875 15.09375 -20.796875 \nL 7.90625 -20.796875 \nL 7.90625 -13.28125 \nL 13.1875 -13.28125 \nQ 16.890625 -13.28125 18.9375 -11.515625 \nQ 21 -9.765625 23.484375 -3.21875 \nL 25.09375 0.875 \nL 2.984375 54.6875 \nL 12.5 54.6875 \nL 29.59375 11.921875 \nL 46.6875 54.6875 \nL 56.203125 54.6875 \nz\n\" id=\"DejaVuSans-121\"/>\n     </defs>\n     <g transform=\"translate(14.798438 170.822344)rotate(-90)scale(0.1 -0.1)\">\n      <use xlink:href=\"#DejaVuSans-71\"/>\n      <use x=\"77.490234\" xlink:href=\"#DejaVuSans-101\"/>\n      <use x=\"139.013672\" xlink:href=\"#DejaVuSans-110\"/>\n      <use x=\"202.392578\" xlink:href=\"#DejaVuSans-101\"/>\n      <use x=\"263.916016\" xlink:href=\"#DejaVuSans-114\"/>\n      <use x=\"305.029297\" xlink:href=\"#DejaVuSans-97\"/>\n      <use x=\"366.308594\" xlink:href=\"#DejaVuSans-116\"/>\n      <use x=\"405.517578\" xlink:href=\"#DejaVuSans-101\"/>\n      <use x=\"467.041016\" xlink:href=\"#DejaVuSans-100\"/>\n      <use x=\"530.517578\" xlink:href=\"#DejaVuSans-32\"/>\n      <use x=\"562.304688\" xlink:href=\"#DejaVuSans-112\"/>\n      <use x=\"625.78125\" xlink:href=\"#DejaVuSans-114\"/>\n      <use x=\"666.863281\" xlink:href=\"#DejaVuSans-111\"/>\n      <use x=\"728.044922\" xlink:href=\"#DejaVuSans-98\"/>\n      <use x=\"791.521484\" xlink:href=\"#DejaVuSans-97\"/>\n      <use x=\"852.800781\" xlink:href=\"#DejaVuSans-98\"/>\n      <use x=\"916.277344\" xlink:href=\"#DejaVuSans-105\"/>\n      <use x=\"944.060547\" xlink:href=\"#DejaVuSans-108\"/>\n      <use x=\"971.84375\" xlink:href=\"#DejaVuSans-105\"/>\n      <use x=\"999.626953\" xlink:href=\"#DejaVuSans-116\"/>\n      <use x=\"1038.835938\" xlink:href=\"#DejaVuSans-121\"/>\n     </g>\n    </g>\n   </g>\n   <g id=\"LineCollection_1\">\n    <path clip-path=\"url(#p9e5234a5cc)\" d=\"M 84.363068 17.083636 \nL 135.090341 17.083636 \n\" style=\"fill:none;stroke:#1f77b4;stroke-width:1.5;\"/>\n    <path clip-path=\"url(#p9e5234a5cc)\" d=\"M 287.272159 17.083636 \nL 337.999432 17.083636 \n\" style=\"fill:none;stroke:#1f77b4;stroke-width:1.5;\"/>\n   </g>\n   <g id=\"LineCollection_2\">\n    <path clip-path=\"url(#p9e5234a5cc)\" d=\"M 84.363068 214.756364 \nL 135.090341 214.756364 \n\" style=\"fill:none;stroke:#1f77b4;stroke-width:1.5;\"/>\n    <path clip-path=\"url(#p9e5234a5cc)\" d=\"M 287.272159 214.756364 \nL 337.999432 214.756364 \n\" style=\"fill:none;stroke:#1f77b4;stroke-width:1.5;\"/>\n   </g>\n   <g id=\"LineCollection_3\">\n    <path clip-path=\"url(#p9e5234a5cc)\" d=\"M 109.726705 214.756364 \nL 109.726705 17.083636 \n\" style=\"fill:none;stroke:#1f77b4;stroke-width:1.5;\"/>\n    <path clip-path=\"url(#p9e5234a5cc)\" d=\"M 312.635795 214.756364 \nL 312.635795 17.083636 \n\" style=\"fill:none;stroke:#1f77b4;stroke-width:1.5;\"/>\n   </g>\n   <g id=\"patch_3\">\n    <path d=\"M 43.78125 224.64 \nL 43.78125 7.2 \n\" style=\"fill:none;stroke:#000000;stroke-linecap:square;stroke-linejoin:miter;stroke-width:0.8;\"/>\n   </g>\n   <g id=\"patch_4\">\n    <path d=\"M 378.58125 224.64 \nL 378.58125 7.2 \n\" style=\"fill:none;stroke:#000000;stroke-linecap:square;stroke-linejoin:miter;stroke-width:0.8;\"/>\n   </g>\n   <g id=\"patch_5\">\n    <path d=\"M 43.78125 224.64 \nL 378.58125 224.64 \n\" style=\"fill:none;stroke:#000000;stroke-linecap:square;stroke-linejoin:miter;stroke-width:0.8;\"/>\n   </g>\n   <g id=\"patch_6\">\n    <path d=\"M 43.78125 7.2 \nL 378.58125 7.2 \n\" style=\"fill:none;stroke:#000000;stroke-linecap:square;stroke-linejoin:miter;stroke-width:0.8;\"/>\n   </g>\n  </g>\n </g>\n <defs>\n  <clipPath id=\"p9e5234a5cc\">\n   <rect height=\"217.44\" width=\"334.8\" x=\"43.78125\" y=\"7.2\"/>\n  </clipPath>\n </defs>\n</svg>\n",
      "image/png": "[encoded data removed]"
     },
     "metadata": {
      "needs_background": "light"
     }
    }
   ],
   "source": [
    "true_results = list(pd.to_numeric(sent_df.query(\"gold_label==True\").loc[:,\"fuzzy_result\"], errors=\"coerce\").dropna())\n",
    "false_results = list(pd.to_numeric(sent_df.query(\"gold_label==False\").loc[:,\"fuzzy_result\"], errors=\"coerce\").dropna())\n",
    "\n",
    "data = [true_results, false_results]\n",
    "fig, ax = plt.subplots()\n",
    "ax.violinplot(data)\n",
    "ax.yaxis.grid(True)\n",
    "ax.set_xticks([y + 1 for y in range(len(data))])\n",
    "ax.set_xlabel(\"Gold label\")\n",
    "ax.set_ylabel(\"Generated probability\")\n",
    "\n",
    "plt.setp(ax, xticks=[y + 1 for y in range(len(data))], xticklabels=[\"True\", \"False\"])\n",
    "\n",
    "plt.savefig(\"./images/final_fuzzy_violin.png\", format=\"png\", bbox_inches=\"tight\")\n",
    "plt.show()"
   ]
  }
 ]
}