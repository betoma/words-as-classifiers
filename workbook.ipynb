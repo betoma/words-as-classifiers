{
 "metadata": {
  "language_info": {
   "codemirror_mode": {
    "name": "ipython",
    "version": 3
   },
   "file_extension": ".py",
   "mimetype": "text/x-python",
   "name": "python",
   "nbconvert_exporter": "python",
   "pygments_lexer": "ipython3",
   "version": "3.6.9-final"
  },
  "orig_nbformat": 2,
  "kernelspec": {
   "name": "python3",
   "display_name": "Python 3",
   "language": "python"
  }
 },
 "nbformat": 4,
 "nbformat_minor": 2,
 "cells": [
  {
   "cell_type": "code",
   "execution_count": 1,
   "metadata": {},
   "outputs": [],
   "source": [
    "\n",
    "import codecs\n",
    "import json\n",
    "import configparser\n",
    "import os\n",
    "import sys\n",
    "import pandas as pd\n",
    "import numpy as np\n",
    "import matplotlib.pyplot as plt\n",
    "from dotenv import load_dotenv\n",
    "from sklearn import linear_model\n",
    "\n",
    "%matplotlib inline\n",
    "\n",
    "import dask.array as da\n",
    "import dask.dataframe as dd\n",
    "import h5py\n",
    "\n",
    "from time import localtime, strftime\n",
    "\n",
    "from sklearn.utils import shuffle"
   ]
  },
  {
   "cell_type": "code",
   "execution_count": 2,
   "metadata": {},
   "outputs": [],
   "source": [
    "ID_FEATS = 3"
   ]
  },
  {
   "cell_type": "code",
   "execution_count": 3,
   "metadata": {},
   "outputs": [],
   "source": [
    "# Load up config file (needs path; adapt env var if necessary); local imports\n",
    "load_dotenv()\n",
    "\n",
    "# load config file, set up paths, make project-specific imports\n",
    "config_path = os.getenv('VISCONF')\n",
    "if not config_path:\n",
    "    # try default location, if not in environment\n",
    "    default_path_to_config = '../Config/default.cfg'\n",
    "    if os.path.isfile(default_path_to_config):\n",
    "        config_path = default_path_to_config\n",
    "\n",
    "assert config_path is not None, 'You need to specify the path to the config file via environment variable VISCONF.'        \n",
    "\n",
    "config = configparser.ConfigParser()\n",
    "with codecs.open(config_path, 'r', encoding='utf-8') as f:\n",
    "    config.read_file(f)\n",
    "\n",
    "corpora_base = config.get('DEFAULT', 'corpora_base')\n",
    "preproc_path = config.get('DSGV-PATHS', 'preproc_path')\n",
    "dsgv_home = config.get('DSGV-PATHS', 'dsgv_home')\n",
    "\n",
    "sys.path.insert(0,dsgv_home + \"/Utils\")\n",
    "from utils import icorpus_code, plot_labelled_bb, get_image_filename, query_by_id\n",
    "from utils import plot_img_cropped, plot_img_ax, invert_dict, get_a_by_b, get_image_part\n",
    "sys.path.insert(0,dsgv_home + \"/WACs/WAC_Utils\")\n",
    "from wac_utils import create_word2den, is_relational, filter_refdf_by_filelist, filter_relational_expr\n",
    "from wac_utils import filter_X_by_filelist, make_mask_matrix, make_X_id_index, train_this_word\n",
    "from wac_utils import get_X_for_word\n",
    "\n",
    "from data_utils import load_dfs\n",
    "\n",
    "from apply_utils import apply_wac_set_matrix, logreg\n",
    "\n",
    "#sys.path.append(dsgv_home + '/Preproc')"
   ]
  },
  {
   "cell_type": "code",
   "execution_count": 4,
   "metadata": {},
   "outputs": [],
   "source": [
    "# Load up preprocessed DataFrames. Slow!\n",
    "# These DataFrames are the result of pre-processing the original corpus data,\n",
    "# as per dsg-vision/Preprocessing/preproc.py\n",
    "\n",
    "df_names = ['refcoco_refdf', 'refcocoplus_refdf']\n",
    "df = load_dfs(preproc_path, df_names)"
   ]
  },
  {
   "cell_type": "code",
   "execution_count": 5,
   "metadata": {},
   "outputs": [],
   "source": [
    "with open(preproc_path + '/refcoco_splits.json', 'r') as f:\n",
    "    rc_splits = json.load(f)"
   ]
  },
  {
   "source": [
    "## RefCoco"
   ],
   "cell_type": "markdown",
   "metadata": {}
  },
  {
   "cell_type": "code",
   "execution_count": 6,
   "metadata": {},
   "outputs": [],
   "source": [
    "# mscoco_bbdf_pattern = '/Volumes/BigData_SSD/Data/Computed/ExtractOut/vgg/mscoco_bbdf_vgg19-fc2/mscoco_bbdf_vgg19-fc2_%d.hdf5'\n",
    "# model_path_prefix = '../TrainWACs/ModelsOut/01_refcoco_vgg'\n",
    "mscoco_bbdf_pattern = '../../data/Models/ForBToma/mscoco_bbdf_rsn50-max/mscoco_bbdf_rsn50-max_%d.hdf5'\n",
    "model_path_prefix = '../../data/Models/ForBToma/01_refcoco_rsn'"
   ]
  },
  {
   "source": [
    "### Load Image Features"
   ],
   "cell_type": "markdown",
   "metadata": {}
  },
  {
   "cell_type": "code",
   "execution_count": 7,
   "metadata": {},
   "outputs": [],
   "source": [
    "das = []\n",
    "fhs = []\n",
    "for n in range(1,8):\n",
    "    f = h5py.File(mscoco_bbdf_pattern % (n), 'r')\n",
    "    fhs.append(f)\n",
    "    das.append(da.from_array(f['img_feats'], chunks=(1000, 4106)))"
   ]
  },
  {
   "cell_type": "code",
   "execution_count": 8,
   "metadata": {},
   "outputs": [],
   "source": [
    "X = da.concatenate(das)"
   ]
  },
  {
   "cell_type": "code",
   "execution_count": 9,
   "metadata": {},
   "outputs": [
    {
     "output_type": "execute_result",
     "data": {
      "text/plain": [
       "(602408, 2058)"
      ]
     },
     "metadata": {},
     "execution_count": 9
    }
   ],
   "source": [
    "X.shape"
   ]
  },
  {
   "cell_type": "code",
   "execution_count": 10,
   "metadata": {},
   "outputs": [],
   "source": [
    "rc_all_test = rc_splits['testA'] + rc_splits['testB'] # rc_splits['val']  # rc_splits['testA'] + rc_splits['testB']\n",
    "X_ts = filter_X_by_filelist(X, rc_all_test)\n",
    "refdf_test = filter_refdf_by_filelist(df['refcoco_refdf'], rc_all_test)"
   ]
  },
  {
   "cell_type": "code",
   "execution_count": 11,
   "metadata": {},
   "outputs": [],
   "source": [
    "# this is small enough to be fully in memory\n",
    "X_ts = X_ts[:].compute()"
   ]
  },
  {
   "cell_type": "code",
   "execution_count": 12,
   "metadata": {},
   "outputs": [],
   "source": [
    "# Meaning that I can already close the file handles\n",
    "for fh in fhs:\n",
    "    fh.close()"
   ]
  },
  {
   "cell_type": "code",
   "execution_count": 13,
   "metadata": {},
   "outputs": [],
   "source": [
    "word2den_ts = create_word2den(refdf_test)\n",
    "X_idx_ts = make_X_id_index(X_ts)\n",
    "mask_matrix_ts = make_mask_matrix(X_ts, X_idx_ts, word2den_ts, word2den_ts.keys())"
   ]
  },
  {
   "source": [
    "### Load WACs"
   ],
   "cell_type": "markdown",
   "metadata": {}
  },
  {
   "cell_type": "code",
   "execution_count": 14,
   "metadata": {},
   "outputs": [],
   "source": [
    "def exp2indseq(w2i, exp):\n",
    "    return [word2ind[w] for w in exp.split() if w in word2ind]"
   ]
  },
  {
   "cell_type": "code",
   "execution_count": 15,
   "metadata": {},
   "outputs": [],
   "source": [
    "def imageid2rows(idx, ic, ii):\n",
    "    '''return all regions that belong to an image, as indices into X (via idx)'''\n",
    "    # or should this be a separate dictionary?\n",
    "    return [v for k,v in idx.items() if k[0] == ic and k[1] == ii]"
   ]
  },
  {
   "cell_type": "code",
   "execution_count": 16,
   "metadata": {},
   "outputs": [],
   "source": [
    "with h5py.File(model_path_prefix + '.hdf5', 'r') as f:\n",
    "    wacs = f['wac_weights'][:]   # slice, to actually read into memory (as ndarray)"
   ]
  },
  {
   "cell_type": "code",
   "execution_count": 17,
   "metadata": {},
   "outputs": [],
   "source": [
    "with codecs.open(model_path_prefix + '.json', 'r') as f:\n",
    "    modelpars, wordlist = json.load(f)"
   ]
  },
  {
   "source": [
    "### Apply all WACs to all regions"
   ],
   "cell_type": "markdown",
   "metadata": {}
  },
  {
   "cell_type": "code",
   "execution_count": 18,
   "metadata": {},
   "outputs": [],
   "source": [
    "all_applied = apply_wac_set_matrix(X_ts[:, ID_FEATS:], wacs.T, net=logreg)"
   ]
  },
  {
   "cell_type": "code",
   "execution_count": 19,
   "metadata": {},
   "outputs": [],
   "source": [
    "word2ind = {w[0]:n for n,w in enumerate(wordlist)}"
   ]
  },
  {
   "cell_type": "code",
   "execution_count": 20,
   "metadata": {},
   "outputs": [],
   "source": [
    "def eval_corpus(rfdf, X, idx, w2i, all_applied):\n",
    "    out = []\n",
    "    for n, row in rfdf.iterrows():\n",
    "        ic, ii, ri, refexp = row['i_corpus image_id region_id refexp'.split()]\n",
    "        #if is_relational(refexp)\n",
    "        all_regs = imageid2rows(idx, ic, ii)\n",
    "        this_exp_seq = exp2indseq(w2i, refexp)\n",
    "        all_regs_applied = np.prod(all_applied[all_regs][:, this_exp_seq], axis=1)\n",
    "        regions_ranked = np.array(all_regs)[np.argsort(all_regs_applied)[::-1]]\n",
    "        try:\n",
    "            this_rank = np.where(X[regions_ranked][:, ID_FEATS-1] == ri)[0][0]\n",
    "        except:\n",
    "            print(ic, ii, ri, '\\t region not in X?')\n",
    "        out_of = len(all_regs)\n",
    "        out.append((ic, ii, ri, refexp, is_relational(refexp), this_rank, out_of,\n",
    "                    len(this_exp_seq) / len(refexp.split()) ))\n",
    "    return pd.DataFrame(out, columns='i_corpus image_id region_id refexp is_rel rank n_obj perc_cov'.split())"
   ]
  },
  {
   "cell_type": "code",
   "execution_count": 21,
   "metadata": {},
   "outputs": [
    {
     "output_type": "stream",
     "name": "stdout",
     "text": [
      "1 343009 534740 \t region not in X?\n",
      "1 343009 534740 \t region not in X?\n",
      "1 343009 534740 \t region not in X?\n",
      "1 343009 489430 \t region not in X?\n",
      "1 343009 489430 \t region not in X?\n",
      "1 313360 1816504 \t region not in X?\n",
      "1 313360 1816504 \t region not in X?\n",
      "1 246356 1816289 \t region not in X?\n",
      "1 246356 1816289 \t region not in X?\n",
      "1 204792 212675 \t region not in X?\n",
      "1 204792 212675 \t region not in X?\n",
      "1 204792 212675 \t region not in X?\n",
      "1 204792 195577 \t region not in X?\n",
      "1 204792 195577 \t region not in X?\n",
      "1 204792 195577 \t region not in X?\n",
      "1 204792 61467 \t region not in X?\n",
      "1 204792 61467 \t region not in X?\n",
      "1 204792 61249 \t region not in X?\n",
      "1 204792 61249 \t region not in X?\n",
      "1 204792 61249 \t region not in X?\n",
      "1 3293 2152799 \t region not in X?\n",
      "1 3293 2152799 \t region not in X?\n",
      "1 3293 2152799 \t region not in X?\n",
      "1 3293 1721891 \t region not in X?\n",
      "1 3293 1721891 \t region not in X?\n",
      "1 3293 1721891 \t region not in X?\n"
     ]
    }
   ],
   "source": [
    "outdf = eval_corpus(refdf_test, X_ts, X_idx_ts, word2ind, all_applied)"
   ]
  },
  {
   "cell_type": "code",
   "execution_count": 22,
   "metadata": {},
   "outputs": [
    {
     "output_type": "execute_result",
     "data": {
      "text/plain": [
       "0.556640625"
      ]
     },
     "metadata": {},
     "execution_count": 22
    }
   ],
   "source": [
    "np.sum(outdf['rank'] == 0) / len(outdf)"
   ]
  },
  {
   "cell_type": "code",
   "execution_count": 23,
   "metadata": {},
   "outputs": [
    {
     "output_type": "execute_result",
     "data": {
      "text/plain": [
       "0.8722098214285714"
      ]
     },
     "metadata": {},
     "execution_count": 23
    }
   ],
   "source": [
    "np.sum(outdf['rank'] < 3) / len(outdf)"
   ]
  },
  {
   "cell_type": "code",
   "execution_count": 24,
   "metadata": {},
   "outputs": [],
   "source": [
    "def score_outdf_(subdf):\n",
    "    print('accuracy @1: {:.2}'.format(np.sum(subdf['rank'] == 0) / len(subdf)))\n",
    "    print('accuracy @3: {:.2}'.format(np.sum(subdf['rank'] < 3) / len(subdf)))\n",
    "    print('mean reciprocal rank: {:.2}'.format(np.mean(1 / (subdf['rank'] + 1))))\n",
    "    print('random baseline: {:.3}'.format(1 / np.mean(subdf['n_obj'])))\n",
    "\n",
    "\n",
    "def score_outdf(outdf):\n",
    "    print('** full')\n",
    "    score_outdf_(outdf)\n",
    "    print('** NR')\n",
    "    score_outdf_(outdf[outdf['is_rel'] == False])\n",
    "    print('** NR, cov > 0.5')\n",
    "    score_outdf_(outdf[(outdf['is_rel'] == False) & (outdf['perc_cov'] >= 0.5)])"
   ]
  },
  {
   "cell_type": "code",
   "execution_count": 25,
   "metadata": {},
   "outputs": [
    {
     "output_type": "stream",
     "name": "stdout",
     "text": [
      "** full\naccuracy @1: 0.56\naccuracy @3: 0.87\nmean reciprocal rank: 0.72\nrandom baseline: 0.0964\n** NR\naccuracy @1: 0.57\naccuracy @3: 0.88\nmean reciprocal rank: 0.73\nrandom baseline: 0.0967\n** NR, cov > 0.5\naccuracy @1: 0.58\naccuracy @3: 0.89\nmean reciprocal rank: 0.74\nrandom baseline: 0.0965\n"
     ]
    }
   ],
   "source": [
    "score_outdf(outdf)"
   ]
  },
  {
   "cell_type": "code",
   "execution_count": 26,
   "metadata": {},
   "outputs": [
    {
     "output_type": "stream",
     "name": "stdout",
     "text": [
      "1 343009 534740 \t region not in X?\n",
      "1 343009 534740 \t region not in X?\n",
      "1 343009 534740 \t region not in X?\n",
      "1 343009 489430 \t region not in X?\n",
      "1 343009 489430 \t region not in X?\n",
      "1 204792 212675 \t region not in X?\n",
      "1 204792 212675 \t region not in X?\n",
      "1 204792 212675 \t region not in X?\n",
      "1 204792 195577 \t region not in X?\n",
      "1 204792 195577 \t region not in X?\n",
      "1 204792 195577 \t region not in X?\n",
      "1 204792 61467 \t region not in X?\n",
      "1 204792 61467 \t region not in X?\n",
      "1 204792 61249 \t region not in X?\n",
      "1 204792 61249 \t region not in X?\n",
      "1 204792 61249 \t region not in X?\n",
      "1 3293 2152799 \t region not in X?\n",
      "1 3293 2152799 \t region not in X?\n",
      "1 3293 2152799 \t region not in X?\n",
      "1 3293 1721891 \t region not in X?\n",
      "1 3293 1721891 \t region not in X?\n",
      "1 3293 1721891 \t region not in X?\n"
     ]
    }
   ],
   "source": [
    "outdf_testA = eval_corpus(filter_refdf_by_filelist(df['refcoco_refdf'], rc_splits['testA']),\n",
    "                          X_ts, X_idx_ts, word2ind, all_applied)"
   ]
  },
  {
   "cell_type": "code",
   "execution_count": 27,
   "metadata": {},
   "outputs": [
    {
     "output_type": "stream",
     "name": "stdout",
     "text": [
      "** full\naccuracy @1: 0.57\naccuracy @3: 0.87\nmean reciprocal rank: 0.73\nrandom baseline: 0.0796\n** NR\naccuracy @1: 0.58\naccuracy @3: 0.88\nmean reciprocal rank: 0.74\nrandom baseline: 0.08\n** NR, cov > 0.5\naccuracy @1: 0.6\naccuracy @3: 0.9\nmean reciprocal rank: 0.75\nrandom baseline: 0.0797\n"
     ]
    }
   ],
   "source": [
    "score_outdf(outdf_testA)"
   ]
  },
  {
   "cell_type": "code",
   "execution_count": 28,
   "metadata": {},
   "outputs": [
    {
     "output_type": "stream",
     "name": "stdout",
     "text": [
      "1 313360 1816504 \t region not in X?\n",
      "1 313360 1816504 \t region not in X?\n",
      "1 246356 1816289 \t region not in X?\n",
      "1 246356 1816289 \t region not in X?\n"
     ]
    }
   ],
   "source": [
    "outdf_testB = eval_corpus(filter_refdf_by_filelist(df['refcoco_refdf'], rc_splits['testB']),\n",
    "                          X_ts, X_idx_ts, word2ind, all_applied)"
   ]
  },
  {
   "cell_type": "code",
   "execution_count": 29,
   "metadata": {},
   "outputs": [
    {
     "output_type": "stream",
     "name": "stdout",
     "text": [
      "** full\naccuracy @1: 0.54\naccuracy @3: 0.87\nmean reciprocal rank: 0.71\nrandom baseline: 0.126\n** NR\naccuracy @1: 0.56\naccuracy @3: 0.88\nmean reciprocal rank: 0.72\nrandom baseline: 0.127\n** NR, cov > 0.5\naccuracy @1: 0.57\naccuracy @3: 0.89\nmean reciprocal rank: 0.73\nrandom baseline: 0.127\n"
     ]
    }
   ],
   "source": [
    "score_outdf(outdf_testB)"
   ]
  },
  {
   "source": [
    "## RefCoco+"
   ],
   "cell_type": "markdown",
   "metadata": {}
  },
  {
   "cell_type": "code",
   "execution_count": 30,
   "metadata": {},
   "outputs": [],
   "source": [
    "refdfp_test = filter_refdf_by_filelist(df['refcocoplus_refdf'], rc_splits['testA'] + rc_splits['testB'])\n",
    "word2den_tsp = create_word2den(refdfp_test)"
   ]
  },
  {
   "cell_type": "code",
   "execution_count": 31,
   "metadata": {},
   "outputs": [
    {
     "output_type": "stream",
     "name": "stdout",
     "text": [
      "1 343009 534740 \t region not in X?\n",
      "1 343009 534740 \t region not in X?\n",
      "1 343009 534740 \t region not in X?\n",
      "1 343009 489430 \t region not in X?\n",
      "1 343009 489430 \t region not in X?\n",
      "1 343009 489430 \t region not in X?\n",
      "1 313360 1816504 \t region not in X?\n",
      "1 313360 1816504 \t region not in X?\n",
      "1 313360 1816504 \t region not in X?\n",
      "1 246356 1816289 \t region not in X?\n",
      "1 246356 1816289 \t region not in X?\n",
      "1 246356 1816289 \t region not in X?\n",
      "1 204792 212675 \t region not in X?\n",
      "1 204792 212675 \t region not in X?\n",
      "1 204792 212675 \t region not in X?\n",
      "1 204792 195577 \t region not in X?\n",
      "1 204792 195577 \t region not in X?\n",
      "1 204792 195577 \t region not in X?\n",
      "1 204792 61467 \t region not in X?\n",
      "1 204792 61467 \t region not in X?\n",
      "1 204792 61467 \t region not in X?\n",
      "1 204792 61249 \t region not in X?\n",
      "1 204792 61249 \t region not in X?\n",
      "1 204792 61249 \t region not in X?\n",
      "1 3293 2152799 \t region not in X?\n",
      "1 3293 2152799 \t region not in X?\n",
      "1 3293 2152799 \t region not in X?\n",
      "1 3293 1721891 \t region not in X?\n",
      "1 3293 1721891 \t region not in X?\n",
      "1 3293 1721891 \t region not in X?\n"
     ]
    }
   ],
   "source": [
    "outdfp = eval_corpus(refdfp_test, X_ts, X_idx_ts, word2ind, all_applied)"
   ]
  },
  {
   "cell_type": "code",
   "execution_count": 32,
   "metadata": {},
   "outputs": [
    {
     "output_type": "stream",
     "name": "stdout",
     "text": [
      "** full\naccuracy @1: 0.44\naccuracy @3: 0.83\nmean reciprocal rank: 0.65\nrandom baseline: 0.0965\n** NR\naccuracy @1: 0.46\naccuracy @3: 0.83\nmean reciprocal rank: 0.66\nrandom baseline: 0.0963\n** NR, cov > 0.5\naccuracy @1: 0.47\naccuracy @3: 0.85\nmean reciprocal rank: 0.67\nrandom baseline: 0.0951\n"
     ]
    }
   ],
   "source": [
    "score_outdf(outdfp)"
   ]
  },
  {
   "cell_type": "code",
   "execution_count": 33,
   "metadata": {},
   "outputs": [
    {
     "output_type": "stream",
     "name": "stdout",
     "text": [
      "1 343009 534740 \t region not in X?\n",
      "1 343009 534740 \t region not in X?\n",
      "1 343009 534740 \t region not in X?\n",
      "1 343009 489430 \t region not in X?\n",
      "1 343009 489430 \t region not in X?\n",
      "1 343009 489430 \t region not in X?\n",
      "1 204792 212675 \t region not in X?\n",
      "1 204792 212675 \t region not in X?\n",
      "1 204792 212675 \t region not in X?\n",
      "1 204792 195577 \t region not in X?\n",
      "1 204792 195577 \t region not in X?\n",
      "1 204792 195577 \t region not in X?\n",
      "1 204792 61467 \t region not in X?\n",
      "1 204792 61467 \t region not in X?\n",
      "1 204792 61467 \t region not in X?\n",
      "1 204792 61249 \t region not in X?\n",
      "1 204792 61249 \t region not in X?\n",
      "1 204792 61249 \t region not in X?\n",
      "1 3293 2152799 \t region not in X?\n",
      "1 3293 2152799 \t region not in X?\n",
      "1 3293 2152799 \t region not in X?\n",
      "1 3293 1721891 \t region not in X?\n",
      "1 3293 1721891 \t region not in X?\n",
      "1 3293 1721891 \t region not in X?\n",
      "** full\n",
      "accuracy @1: 0.49\n",
      "accuracy @3: 0.84\n",
      "mean reciprocal rank: 0.67\n",
      "random baseline: 0.0797\n",
      "** NR\n",
      "accuracy @1: 0.5\n",
      "accuracy @3: 0.84\n",
      "mean reciprocal rank: 0.68\n",
      "random baseline: 0.0797\n",
      "** NR, cov > 0.5\n",
      "accuracy @1: 0.51\n",
      "accuracy @3: 0.86\n",
      "mean reciprocal rank: 0.69\n",
      "random baseline: 0.0791\n"
     ]
    }
   ],
   "source": [
    "score_outdf(eval_corpus(filter_refdf_by_filelist(df['refcocoplus_refdf'], rc_splits['testA']),\n",
    "                        X_ts, X_idx_ts, word2ind, all_applied))"
   ]
  },
  {
   "cell_type": "code",
   "execution_count": 34,
   "metadata": {},
   "outputs": [
    {
     "output_type": "stream",
     "name": "stdout",
     "text": [
      "1 313360 1816504 \t region not in X?\n",
      "1 313360 1816504 \t region not in X?\n",
      "1 313360 1816504 \t region not in X?\n",
      "1 246356 1816289 \t region not in X?\n",
      "1 246356 1816289 \t region not in X?\n",
      "1 246356 1816289 \t region not in X?\n",
      "** full\n",
      "accuracy @1: 0.39\n",
      "accuracy @3: 0.81\n",
      "mean reciprocal rank: 0.62\n",
      "random baseline: 0.128\n",
      "** NR\n",
      "accuracy @1: 0.41\n",
      "accuracy @3: 0.82\n",
      "mean reciprocal rank: 0.63\n",
      "random baseline: 0.13\n",
      "** NR, cov > 0.5\n",
      "accuracy @1: 0.42\n",
      "accuracy @3: 0.84\n",
      "mean reciprocal rank: 0.64\n",
      "random baseline: 0.129\n"
     ]
    }
   ],
   "source": [
    "score_outdf(eval_corpus(filter_refdf_by_filelist(df['refcocoplus_refdf'], rc_splits['testB']),\n",
    "                        X_ts, X_idx_ts, word2ind, all_applied))"
   ]
  }
 ]
}